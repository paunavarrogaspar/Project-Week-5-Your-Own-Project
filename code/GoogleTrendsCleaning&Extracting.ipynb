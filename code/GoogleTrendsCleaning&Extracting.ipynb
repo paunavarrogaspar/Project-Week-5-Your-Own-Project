{
 "cells": [
  {
   "cell_type": "code",
   "execution_count": 1,
   "metadata": {},
   "outputs": [],
   "source": [
    "import pandas as pd"
   ]
  },
  {
   "cell_type": "code",
   "execution_count": 2,
   "metadata": {},
   "outputs": [],
   "source": [
    "worldwide1 = pd.read_csv('../data/keywords/Madrid/International/multiTimeline.csv', skiprows=2)\n",
    "worldwide2 = pd.read_csv('../data/keywords/Madrid/International/multiTimeline (1).csv', skiprows=2)\n",
    "worldwide3 = pd.read_csv('../data/keywords/Madrid/International/multiTimeline (2).csv', skiprows=2)\n",
    "worldwide4 = pd.read_csv('../data/keywords/Madrid/International/multiTimeline (3).csv', skiprows=2)\n",
    "worldwide5 = pd.read_csv('../data/keywords/Madrid/International/multiTimeline (4).csv', skiprows=2)\n",
    "worldwide6 = pd.read_csv('../data/keywords/Madrid/International/multiTimeline (5).csv', skiprows=2)\n",
    "worldwide7 = pd.read_csv('../data/keywords/Madrid/International/multiTimeline (6).csv', skiprows=2)\n",
    "worldwide8 = pd.read_csv('../data/keywords/Madrid/International/multiTimeline (7).csv', skiprows=2)\n",
    "worldwide9 = pd.read_csv('../data/keywords/Madrid/International/multiTimeline (8).csv', skiprows=2)\n",
    "worldwide10 = pd.read_csv('../data/keywords/Madrid/International/multiTimeline (9).csv', skiprows=2)\n",
    "worldwide11 = pd.read_csv('../data/keywords/Madrid/International/multiTimeline (10).csv', skiprows=2)\n",
    "worldwide12 = pd.read_csv('../data/keywords/Madrid/International/multiTimeline (11).csv', skiprows=2)\n",
    "worldwide13 = pd.read_csv('../data/keywords/Madrid/International/multiTimeline (12).csv', skiprows=2)\n",
    "worldwide14 = pd.read_csv('../data/keywords/Madrid/International/multiTimeline (13).csv', skiprows=2)\n",
    "worldwide15 = pd.read_csv('../data/keywords/Madrid/International/multiTimeline (14).csv', skiprows=2)\n",
    "worldwide16 = pd.read_csv('../data/keywords/Madrid/International/multiTimeline (15).csv', skiprows=2)\n",
    "worldwide17 = pd.read_csv('../data/keywords/Madrid/International/multiTimeline (16).csv', skiprows=2)"
   ]
  },
  {
   "cell_type": "code",
   "execution_count": 4,
   "metadata": {},
   "outputs": [],
   "source": [
    "keywords_worldwide = pd.merge(worldwide1, worldwide2)\n",
    "keywords_worldwide = pd.merge(keywords_worldwide, worldwide3)\n",
    "keywords_worldwide = pd.merge(keywords_worldwide, worldwide4)\n",
    "keywords_worldwide = pd.merge(keywords_worldwide, worldwide5)\n",
    "keywords_worldwide = pd.merge(keywords_worldwide, worldwide6)\n",
    "keywords_worldwide = pd.merge(keywords_worldwide, worldwide7)\n",
    "keywords_worldwide = pd.merge(keywords_worldwide, worldwide8)\n",
    "keywords_worldwide = pd.merge(keywords_worldwide, worldwide9)\n",
    "keywords_worldwide = pd.merge(keywords_worldwide, worldwide10)\n",
    "keywords_worldwide = pd.merge(keywords_worldwide, worldwide11)\n",
    "keywords_worldwide = pd.merge(keywords_worldwide, worldwide12)\n",
    "keywords_worldwide = pd.merge(keywords_worldwide, worldwide13)\n",
    "keywords_worldwide = pd.merge(keywords_worldwide, worldwide14)\n",
    "keywords_worldwide = pd.merge(keywords_worldwide, worldwide15)\n",
    "keywords_worldwide = pd.merge(keywords_worldwide, worldwide16)\n",
    "keywords_worldwide = pd.merge(keywords_worldwide, worldwide17)"
   ]
  },
  {
   "cell_type": "code",
   "execution_count": 43,
   "metadata": {},
   "outputs": [],
   "source": [
    "keywords_worldwide.to_csv('../data/keywords/Madrid/International/International.csv', index=False)"
   ]
  },
  {
   "cell_type": "code",
   "execution_count": 8,
   "metadata": {},
   "outputs": [],
   "source": [
    "germany1 = pd.read_csv('../data/keywords/Madrid/germany/multiTimeline.csv', skiprows=2)\n",
    "germany2 = pd.read_csv('../data/keywords/Madrid/germany/multiTimeline (1).csv', skiprows=2)\n",
    "germany3 = pd.read_csv('../data/keywords/Madrid/germany/multiTimeline (2).csv', skiprows=2)\n",
    "germany4 = pd.read_csv('../data/keywords/Madrid/germany/multiTimeline (3).csv', skiprows=2)\n",
    "germany5 = pd.read_csv('../data/keywords/Madrid/germany/multiTimeline (4).csv', skiprows=2)\n",
    "germany6 = pd.read_csv('../data/keywords/Madrid/germany/multiTimeline (5).csv', skiprows=2)\n",
    "germany7 = pd.read_csv('../data/keywords/Madrid/germany/multiTimeline (6).csv', skiprows=2)\n",
    "germany8 = pd.read_csv('../data/keywords/Madrid/germany/multiTimeline (7).csv', skiprows=2)\n",
    "germany9 = pd.read_csv('../data/keywords/Madrid/germany/multiTimeline (8).csv', skiprows=2)\n",
    "germany10 = pd.read_csv('../data/keywords/Madrid/germany/multiTimeline (9).csv', skiprows=2)\n",
    "germany11 = pd.read_csv('../data/keywords/Madrid/germany/multiTimeline (10).csv', skiprows=2)\n",
    "germany12 = pd.read_csv('../data/keywords/Madrid/germany/multiTimeline (11).csv', skiprows=2)\n",
    "germany13 = pd.read_csv('../data/keywords/Madrid/germany/multiTimeline (12).csv', skiprows=2)\n",
    "germany14 = pd.read_csv('../data/keywords/Madrid/germany/multiTimeline (13).csv', skiprows=2)\n",
    "germany15 = pd.read_csv('../data/keywords/Madrid/germany/multiTimeline (14).csv', skiprows=2)\n",
    "germany16 = pd.read_csv('../data/keywords/Madrid/germany/multiTimeline (15).csv', skiprows=2)"
   ]
  },
  {
   "cell_type": "code",
   "execution_count": 9,
   "metadata": {},
   "outputs": [],
   "source": [
    "keywords_germany = pd.merge(germany1, germany2)\n",
    "keywords_germany = pd.merge(keywords_germany, germany3)\n",
    "keywords_germany = pd.merge(keywords_germany, germany4)\n",
    "keywords_germany = pd.merge(keywords_germany, germany5)\n",
    "keywords_germany = pd.merge(keywords_germany, germany6)\n",
    "keywords_germany = pd.merge(keywords_germany, germany7)\n",
    "keywords_germany = pd.merge(keywords_germany, germany8)\n",
    "keywords_germany = pd.merge(keywords_germany, germany9)\n",
    "keywords_germany = pd.merge(keywords_germany, germany10)\n",
    "keywords_germany = pd.merge(keywords_germany, germany11)\n",
    "keywords_germany = pd.merge(keywords_germany, germany12)\n",
    "keywords_germany = pd.merge(keywords_germany, germany13)\n",
    "keywords_germany = pd.merge(keywords_germany, germany14)\n",
    "keywords_germany = pd.merge(keywords_germany, germany15)\n",
    "keywords_germany = pd.merge(keywords_germany, germany16)"
   ]
  },
  {
   "cell_type": "code",
   "execution_count": 44,
   "metadata": {},
   "outputs": [],
   "source": [
    "keywords_germany.to_csv('../data/keywords/Madrid/germany/germany.csv', index=False)"
   ]
  },
  {
   "cell_type": "code",
   "execution_count": 11,
   "metadata": {},
   "outputs": [],
   "source": [
    "belgium1 = pd.read_csv('../data/keywords/Madrid/belgium/multiTimeline.csv', skiprows=2)\n",
    "belgium2 = pd.read_csv('../data/keywords/Madrid/belgium/multiTimeline (1).csv', skiprows=2)\n",
    "belgium3 = pd.read_csv('../data/keywords/Madrid/belgium/multiTimeline (2).csv', skiprows=2)\n",
    "belgium4 = pd.read_csv('../data/keywords/Madrid/belgium/multiTimeline (3).csv', skiprows=2)\n",
    "belgium5 = pd.read_csv('../data/keywords/Madrid/belgium/multiTimeline (4).csv', skiprows=2)\n",
    "belgium6 = pd.read_csv('../data/keywords/Madrid/belgium/multiTimeline (5).csv', skiprows=2)\n",
    "belgium7 = pd.read_csv('../data/keywords/Madrid/belgium/multiTimeline (6).csv', skiprows=2)\n",
    "belgium8 = pd.read_csv('../data/keywords/Madrid/belgium/multiTimeline (7).csv', skiprows=2)\n",
    "belgium9 = pd.read_csv('../data/keywords/Madrid/belgium/multiTimeline (8).csv', skiprows=2)\n",
    "belgium10 = pd.read_csv('../data/keywords/Madrid/belgium/multiTimeline (9).csv', skiprows=2)\n",
    "belgium11 = pd.read_csv('../data/keywords/Madrid/belgium/multiTimeline (10).csv', skiprows=2)\n",
    "belgium12 = pd.read_csv('../data/keywords/Madrid/belgium/multiTimeline (11).csv', skiprows=2)\n",
    "belgium13 = pd.read_csv('../data/keywords/Madrid/belgium/multiTimeline (12).csv', skiprows=2)\n",
    "belgium14 = pd.read_csv('../data/keywords/Madrid/belgium/multiTimeline (13).csv', skiprows=2)\n",
    "belgium15 = pd.read_csv('../data/keywords/Madrid/belgium/multiTimeline (14).csv', skiprows=2)"
   ]
  },
  {
   "cell_type": "code",
   "execution_count": 12,
   "metadata": {},
   "outputs": [],
   "source": [
    "keywords_belgium = pd.merge(belgium1, belgium2)\n",
    "keywords_belgium = pd.merge(keywords_belgium, belgium3)\n",
    "keywords_belgium = pd.merge(keywords_belgium, belgium4)\n",
    "keywords_belgium = pd.merge(keywords_belgium, belgium5)\n",
    "keywords_belgium = pd.merge(keywords_belgium, belgium6)\n",
    "keywords_belgium = pd.merge(keywords_belgium, belgium7)\n",
    "keywords_belgium = pd.merge(keywords_belgium, belgium8)\n",
    "keywords_belgium = pd.merge(keywords_belgium, belgium9)\n",
    "keywords_belgium = pd.merge(keywords_belgium, belgium10)\n",
    "keywords_belgium = pd.merge(keywords_belgium, belgium11)\n",
    "keywords_belgium = pd.merge(keywords_belgium, belgium12)\n",
    "keywords_belgium = pd.merge(keywords_belgium, belgium13)\n",
    "keywords_belgium = pd.merge(keywords_belgium, belgium14)\n",
    "keywords_belgium = pd.merge(keywords_belgium, belgium15)"
   ]
  },
  {
   "cell_type": "code",
   "execution_count": 45,
   "metadata": {},
   "outputs": [],
   "source": [
    "keywords_belgium.to_csv('../data/keywords/Madrid/belgium/belgium.csv', index=False)"
   ]
  },
  {
   "cell_type": "code",
   "execution_count": 14,
   "metadata": {},
   "outputs": [],
   "source": [
    "spain1 = pd.read_csv('../data/keywords/Madrid/spain/multiTimeline.csv', skiprows=2)\n",
    "spain2 = pd.read_csv('../data/keywords/Madrid/spain/multiTimeline (1).csv', skiprows=2)\n",
    "spain3 = pd.read_csv('../data/keywords/Madrid/spain/multiTimeline (2).csv', skiprows=2)\n",
    "spain4 = pd.read_csv('../data/keywords/Madrid/spain/multiTimeline (3).csv', skiprows=2)\n",
    "spain5 = pd.read_csv('../data/keywords/Madrid/spain/multiTimeline (4).csv', skiprows=2)\n",
    "spain6 = pd.read_csv('../data/keywords/Madrid/spain/multiTimeline (5).csv', skiprows=2)\n",
    "spain7 = pd.read_csv('../data/keywords/Madrid/spain/multiTimeline (6).csv', skiprows=2)\n",
    "spain8 = pd.read_csv('../data/keywords/Madrid/spain/multiTimeline (7).csv', skiprows=2)\n",
    "spain9 = pd.read_csv('../data/keywords/Madrid/spain/multiTimeline (8).csv', skiprows=2)\n",
    "spain10 = pd.read_csv('../data/keywords/Madrid/spain/multiTimeline (9).csv', skiprows=2)\n",
    "spain11 = pd.read_csv('../data/keywords/Madrid/spain/multiTimeline (10).csv', skiprows=2)\n",
    "spain12 = pd.read_csv('../data/keywords/Madrid/spain/multiTimeline (11).csv', skiprows=2)\n",
    "spain13 = pd.read_csv('../data/keywords/Madrid/spain/multiTimeline (12).csv', skiprows=2)\n",
    "spain14 = pd.read_csv('../data/keywords/Madrid/spain/multiTimeline (13).csv', skiprows=2)\n",
    "spain15 = pd.read_csv('../data/keywords/Madrid/spain/multiTimeline (14).csv', skiprows=2)\n",
    "spain16 = pd.read_csv('../data/keywords/Madrid/spain/multiTimeline (15).csv', skiprows=2)\n",
    "spain17 = pd.read_csv('../data/keywords/Madrid/spain/multiTimeline (16).csv', skiprows=2)"
   ]
  },
  {
   "cell_type": "code",
   "execution_count": 15,
   "metadata": {},
   "outputs": [],
   "source": [
    "keywords_spain = pd.merge(spain1, spain2)\n",
    "keywords_spain = pd.merge(keywords_spain, spain3)\n",
    "keywords_spain = pd.merge(keywords_spain, spain4)\n",
    "keywords_spain = pd.merge(keywords_spain, spain5)\n",
    "keywords_spain = pd.merge(keywords_spain, spain6)\n",
    "keywords_spain = pd.merge(keywords_spain, spain7)\n",
    "keywords_spain = pd.merge(keywords_spain, spain8)\n",
    "keywords_spain = pd.merge(keywords_spain, spain9)\n",
    "keywords_spain = pd.merge(keywords_spain, spain10)\n",
    "keywords_spain = pd.merge(keywords_spain, spain11)\n",
    "keywords_spain = pd.merge(keywords_spain, spain12)\n",
    "keywords_spain = pd.merge(keywords_spain, spain13)\n",
    "keywords_spain = pd.merge(keywords_spain, spain14)\n",
    "keywords_spain = pd.merge(keywords_spain, spain15)\n",
    "keywords_spain = pd.merge(keywords_spain, spain16)\n",
    "keywords_spain = pd.merge(keywords_spain, spain17)"
   ]
  },
  {
   "cell_type": "code",
   "execution_count": 46,
   "metadata": {},
   "outputs": [],
   "source": [
    "keywords_spain.to_csv('../data/keywords/Madrid/spain/spain.csv', index=False)"
   ]
  },
  {
   "cell_type": "code",
   "execution_count": 17,
   "metadata": {},
   "outputs": [],
   "source": [
    "france1 = pd.read_csv('../data/keywords/Madrid/france/multiTimeline.csv', skiprows=2)\n",
    "france2 = pd.read_csv('../data/keywords/Madrid/france/multiTimeline (1).csv', skiprows=2)\n",
    "france3 = pd.read_csv('../data/keywords/Madrid/france/multiTimeline (2).csv', skiprows=2)\n",
    "france4 = pd.read_csv('../data/keywords/Madrid/france/multiTimeline (3).csv', skiprows=2)\n",
    "france5 = pd.read_csv('../data/keywords/Madrid/france/multiTimeline (4).csv', skiprows=2)\n",
    "france6 = pd.read_csv('../data/keywords/Madrid/france/multiTimeline (5).csv', skiprows=2)\n",
    "france7 = pd.read_csv('../data/keywords/Madrid/france/multiTimeline (6).csv', skiprows=2)\n",
    "france8 = pd.read_csv('../data/keywords/Madrid/france/multiTimeline (7).csv', skiprows=2)\n",
    "france9 = pd.read_csv('../data/keywords/Madrid/france/multiTimeline (8).csv', skiprows=2)\n",
    "france10 = pd.read_csv('../data/keywords/Madrid/france/multiTimeline (9).csv', skiprows=2)\n",
    "france11 = pd.read_csv('../data/keywords/Madrid/france/multiTimeline (10).csv', skiprows=2)\n",
    "france12 = pd.read_csv('../data/keywords/Madrid/france/multiTimeline (11).csv', skiprows=2)\n",
    "france13 = pd.read_csv('../data/keywords/Madrid/france/multiTimeline (12).csv', skiprows=2)\n",
    "france14 = pd.read_csv('../data/keywords/Madrid/france/multiTimeline (13).csv', skiprows=2)\n",
    "france15 = pd.read_csv('../data/keywords/Madrid/france/multiTimeline (14).csv', skiprows=2)\n",
    "france16 = pd.read_csv('../data/keywords/Madrid/france/multiTimeline (15).csv', skiprows=2)\n",
    "france17 = pd.read_csv('../data/keywords/Madrid/france/multiTimeline (16).csv', skiprows=2)"
   ]
  },
  {
   "cell_type": "code",
   "execution_count": 18,
   "metadata": {},
   "outputs": [],
   "source": [
    "keyword_france = pd.merge(france1, france2)\n",
    "keyword_france = pd.merge(keyword_france, france3)\n",
    "keyword_france = pd.merge(keyword_france, france4)\n",
    "keyword_france = pd.merge(keyword_france, france5)\n",
    "keyword_france = pd.merge(keyword_france, france6)\n",
    "keyword_france = pd.merge(keyword_france, france7)\n",
    "keyword_france = pd.merge(keyword_france, france8)\n",
    "keyword_france = pd.merge(keyword_france, france9)\n",
    "keyword_france = pd.merge(keyword_france, france10)\n",
    "keyword_france = pd.merge(keyword_france, france11)\n",
    "keyword_france = pd.merge(keyword_france, france12)\n",
    "keyword_france = pd.merge(keyword_france, france13)\n",
    "keyword_france = pd.merge(keyword_france, france14)\n",
    "keyword_france = pd.merge(keyword_france, france15)\n",
    "keyword_france = pd.merge(keyword_france, france16)\n",
    "keyword_france = pd.merge(keyword_france, france17)"
   ]
  },
  {
   "cell_type": "code",
   "execution_count": 47,
   "metadata": {},
   "outputs": [],
   "source": [
    "keyword_france.to_csv('../data/keywords/Madrid/france/france.csv', index=False)"
   ]
  },
  {
   "cell_type": "code",
   "execution_count": 20,
   "metadata": {},
   "outputs": [],
   "source": [
    "italy1 = pd.read_csv('../data/keywords/Madrid/italy/multiTimeline.csv', skiprows=2)\n",
    "italy2 = pd.read_csv('../data/keywords/Madrid/italy/multiTimeline (1).csv', skiprows=2)\n",
    "italy3 = pd.read_csv('../data/keywords/Madrid/italy/multiTimeline (2).csv', skiprows=2)\n",
    "italy4 = pd.read_csv('../data/keywords/Madrid/italy/multiTimeline (3).csv', skiprows=2)\n",
    "italy5 = pd.read_csv('../data/keywords/Madrid/italy/multiTimeline (4).csv', skiprows=2)\n",
    "italy6 = pd.read_csv('../data/keywords/Madrid/italy/multiTimeline (5).csv', skiprows=2)\n",
    "italy7 = pd.read_csv('../data/keywords/Madrid/italy/multiTimeline (6).csv', skiprows=2)\n",
    "italy8 = pd.read_csv('../data/keywords/Madrid/italy/multiTimeline (7).csv', skiprows=2)\n",
    "italy9 = pd.read_csv('../data/keywords/Madrid/italy/multiTimeline (8).csv', skiprows=2)\n",
    "italy10 = pd.read_csv('../data/keywords/Madrid/italy/multiTimeline (9).csv', skiprows=2)\n",
    "italy11 = pd.read_csv('../data/keywords/Madrid/italy/multiTimeline (10).csv', skiprows=2)\n",
    "italy12 = pd.read_csv('../data/keywords/Madrid/italy/multiTimeline (11).csv', skiprows=2)\n",
    "italy13 = pd.read_csv('../data/keywords/Madrid/italy/multiTimeline (12).csv', skiprows=2)\n",
    "italy14 = pd.read_csv('../data/keywords/Madrid/italy/multiTimeline (13).csv', skiprows=2)\n",
    "italy15 = pd.read_csv('../data/keywords/Madrid/italy/multiTimeline (14).csv', skiprows=2)\n",
    "italy16 = pd.read_csv('../data/keywords/Madrid/italy/multiTimeline (15).csv', skiprows=2)"
   ]
  },
  {
   "cell_type": "code",
   "execution_count": 21,
   "metadata": {},
   "outputs": [],
   "source": [
    "keywords_italy = pd.merge(italy1, italy2)\n",
    "keywords_italy = pd.merge(keywords_italy, italy3)\n",
    "keywords_italy = pd.merge(keywords_italy, italy4)\n",
    "keywords_italy = pd.merge(keywords_italy, italy5)\n",
    "keywords_italy = pd.merge(keywords_italy, italy6)\n",
    "keywords_italy = pd.merge(keywords_italy, italy7)\n",
    "keywords_italy = pd.merge(keywords_italy, italy8)\n",
    "keywords_italy = pd.merge(keywords_italy, italy9)\n",
    "keywords_italy = pd.merge(keywords_italy, italy10)\n",
    "keywords_italy = pd.merge(keywords_italy, italy11)\n",
    "keywords_italy = pd.merge(keywords_italy, italy12)\n",
    "keywords_italy = pd.merge(keywords_italy, italy13)\n",
    "keywords_italy = pd.merge(keywords_italy, italy14)\n",
    "keywords_italy = pd.merge(keywords_italy, italy15)\n",
    "keywords_italy = pd.merge(keywords_italy, italy16)"
   ]
  },
  {
   "cell_type": "code",
   "execution_count": 48,
   "metadata": {},
   "outputs": [],
   "source": [
    "keywords_italy.to_csv('../data/keywords/Madrid/italy/italy.csv', index=False)"
   ]
  },
  {
   "cell_type": "code",
   "execution_count": 23,
   "metadata": {},
   "outputs": [],
   "source": [
    "holland1 = pd.read_csv('../data/keywords/Madrid/netherlands/multiTimeline.csv', skiprows=2)\n",
    "holland2 = pd.read_csv('../data/keywords/Madrid/netherlands/multiTimeline (1).csv', skiprows=2)\n",
    "holland3 = pd.read_csv('../data/keywords/Madrid/netherlands/multiTimeline (2).csv', skiprows=2)\n",
    "holland4 = pd.read_csv('../data/keywords/Madrid/netherlands/multiTimeline (3).csv', skiprows=2)\n",
    "holland5 = pd.read_csv('../data/keywords/Madrid/netherlands/multiTimeline (4).csv', skiprows=2)\n",
    "holland6 = pd.read_csv('../data/keywords/Madrid/netherlands/multiTimeline (5).csv', skiprows=2)\n",
    "holland7 = pd.read_csv('../data/keywords/Madrid/netherlands/multiTimeline (6).csv', skiprows=2)\n",
    "holland8 = pd.read_csv('../data/keywords/Madrid/netherlands/multiTimeline (7).csv', skiprows=2)\n",
    "holland9 = pd.read_csv('../data/keywords/Madrid/netherlands/multiTimeline (8).csv', skiprows=2)\n",
    "holland10 = pd.read_csv('../data/keywords/Madrid/netherlands/multiTimeline (9).csv', skiprows=2)\n",
    "holland11 = pd.read_csv('../data/keywords/Madrid/netherlands/multiTimeline (10).csv', skiprows=2)\n",
    "holland12 = pd.read_csv('../data/keywords/Madrid/netherlands/multiTimeline (11).csv', skiprows=2)\n",
    "holland13 = pd.read_csv('../data/keywords/Madrid/netherlands/multiTimeline (12).csv', skiprows=2)\n",
    "holland14 = pd.read_csv('../data/keywords/Madrid/netherlands/multiTimeline (13).csv', skiprows=2)\n",
    "holland15 = pd.read_csv('../data/keywords/Madrid/netherlands/multiTimeline (14).csv', skiprows=2)"
   ]
  },
  {
   "cell_type": "code",
   "execution_count": 24,
   "metadata": {},
   "outputs": [],
   "source": [
    "keywords_netherlands = pd.merge(holland1, holland2)\n",
    "keywords_netherlands = pd.merge(keywords_netherlands, holland3)\n",
    "keywords_netherlands = pd.merge(keywords_netherlands, holland4)\n",
    "keywords_netherlands = pd.merge(keywords_netherlands, holland5)\n",
    "keywords_netherlands = pd.merge(keywords_netherlands, holland6)\n",
    "keywords_netherlands = pd.merge(keywords_netherlands, holland7)\n",
    "keywords_netherlands = pd.merge(keywords_netherlands, holland8)\n",
    "keywords_netherlands = pd.merge(keywords_netherlands, holland9)\n",
    "keywords_netherlands = pd.merge(keywords_netherlands, holland10)\n",
    "keywords_netherlands = pd.merge(keywords_netherlands, holland11)\n",
    "keywords_netherlands = pd.merge(keywords_netherlands, holland12)\n",
    "keywords_netherlands = pd.merge(keywords_netherlands, holland13)\n",
    "keywords_netherlands = pd.merge(keywords_netherlands, holland14)\n",
    "keywords_netherlands = pd.merge(keywords_netherlands, holland15)"
   ]
  },
  {
   "cell_type": "code",
   "execution_count": 49,
   "metadata": {},
   "outputs": [],
   "source": [
    "keywords_netherlands.to_csv('../data/keywords/Madrid/netherlands/netherlands.csv', index=False)"
   ]
  },
  {
   "cell_type": "code",
   "execution_count": 26,
   "metadata": {},
   "outputs": [],
   "source": [
    "uk1 = pd.read_csv('../data/keywords/Madrid/unitedkingdom/multiTimeline.csv', skiprows=2)\n",
    "uk2 = pd.read_csv('../data/keywords/Madrid/unitedkingdom/multiTimeline (1).csv', skiprows=2)\n",
    "uk3 = pd.read_csv('../data/keywords/Madrid/unitedkingdom/multiTimeline (2).csv', skiprows=2)\n",
    "uk4 = pd.read_csv('../data/keywords/Madrid/unitedkingdom/multiTimeline (3).csv', skiprows=2)\n",
    "uk5 = pd.read_csv('../data/keywords/Madrid/unitedkingdom/multiTimeline (4).csv', skiprows=2)\n",
    "uk6 = pd.read_csv('../data/keywords/Madrid/unitedkingdom/multiTimeline (5).csv', skiprows=2)\n",
    "uk7 = pd.read_csv('../data/keywords/Madrid/unitedkingdom/multiTimeline (6).csv', skiprows=2)\n",
    "uk8 = pd.read_csv('../data/keywords/Madrid/unitedkingdom/multiTimeline (7).csv', skiprows=2)\n",
    "uk9 = pd.read_csv('../data/keywords/Madrid/unitedkingdom/multiTimeline (8).csv', skiprows=2)\n",
    "uk10 = pd.read_csv('../data/keywords/Madrid/unitedkingdom/multiTimeline (9).csv', skiprows=2)\n",
    "uk11 = pd.read_csv('../data/keywords/Madrid/unitedkingdom/multiTimeline (10).csv', skiprows=2)\n",
    "uk12 = pd.read_csv('../data/keywords/Madrid/unitedkingdom/multiTimeline (11).csv', skiprows=2)\n",
    "uk13 = pd.read_csv('../data/keywords/Madrid/unitedkingdom/multiTimeline (12).csv', skiprows=2)\n",
    "uk14 = pd.read_csv('../data/keywords/Madrid/unitedkingdom/multiTimeline (13).csv', skiprows=2)\n",
    "uk15 = pd.read_csv('../data/keywords/Madrid/unitedkingdom/multiTimeline (14).csv', skiprows=2)\n",
    "uk16 = pd.read_csv('../data/keywords/Madrid/unitedkingdom/multiTimeline (15).csv', skiprows=2)\n"
   ]
  },
  {
   "cell_type": "code",
   "execution_count": 27,
   "metadata": {},
   "outputs": [],
   "source": [
    "keywords_uk = pd.merge(uk1, uk2)\n",
    "keywords_uk = pd.merge(keywords_uk, uk3)\n",
    "keywords_uk = pd.merge(keywords_uk, uk4)\n",
    "keywords_uk = pd.merge(keywords_uk, uk5)\n",
    "keywords_uk = pd.merge(keywords_uk, uk6)\n",
    "keywords_uk = pd.merge(keywords_uk, uk7)\n",
    "keywords_uk = pd.merge(keywords_uk, uk8)\n",
    "keywords_uk = pd.merge(keywords_uk, uk9)\n",
    "keywords_uk = pd.merge(keywords_uk, uk10)\n",
    "keywords_uk = pd.merge(keywords_uk, uk11)\n",
    "keywords_uk = pd.merge(keywords_uk, uk12)\n",
    "keywords_uk = pd.merge(keywords_uk, uk13)\n",
    "keywords_uk = pd.merge(keywords_uk, uk14)\n",
    "keywords_uk = pd.merge(keywords_uk, uk15)\n",
    "keywords_uk = pd.merge(keywords_uk, uk16)"
   ]
  },
  {
   "cell_type": "code",
   "execution_count": 50,
   "metadata": {},
   "outputs": [],
   "source": [
    "keywords_uk.to_csv('../data/keywords/Madrid/unitedkingdom/unitedkingdom.csv', index=False)"
   ]
  },
  {
   "cell_type": "code",
   "execution_count": 30,
   "metadata": {},
   "outputs": [],
   "source": [
    "austria1 = pd.read_csv('../data/keywords/Madrid/austria/multiTimeline (16).csv', skiprows=2)\n",
    "austria2 = pd.read_csv('../data/keywords/Madrid/austria/multiTimeline (17).csv', skiprows=2)\n",
    "austria3 = pd.read_csv('../data/keywords/Madrid/austria/multiTimeline (18).csv', skiprows=2)\n",
    "austria4 = pd.read_csv('../data/keywords/Madrid/austria/multiTimeline (19).csv', skiprows=2)\n",
    "austria5 = pd.read_csv('../data/keywords/Madrid/austria/multiTimeline (20).csv', skiprows=2)\n",
    "austria6 = pd.read_csv('../data/keywords/Madrid/austria/multiTimeline (21).csv', skiprows=2)\n",
    "austria7 = pd.read_csv('../data/keywords/Madrid/austria/multiTimeline (22).csv', skiprows=2)\n",
    "austria8 = pd.read_csv('../data/keywords/Madrid/austria/multiTimeline (23).csv', skiprows=2)\n",
    "austria9 = pd.read_csv('../data/keywords/Madrid/austria/multiTimeline (24).csv', skiprows=2)\n",
    "austria10 = pd.read_csv('../data/keywords/Madrid/austria/multiTimeline (25).csv', skiprows=2)"
   ]
  },
  {
   "cell_type": "code",
   "execution_count": 32,
   "metadata": {},
   "outputs": [],
   "source": [
    "keywords_austria = pd.merge(austria1, austria2)\n",
    "keywords_austria = pd.merge(keywords_austria, austria3)\n",
    "keywords_austria = pd.merge(keywords_austria, austria4)\n",
    "keywords_austria = pd.merge(keywords_austria, austria5)\n",
    "keywords_austria = pd.merge(keywords_austria, austria6)\n",
    "keywords_austria = pd.merge(keywords_austria, austria7)\n",
    "keywords_austria = pd.merge(keywords_austria, austria8)\n",
    "keywords_austria = pd.merge(keywords_austria, austria9)\n",
    "keywords_austria = pd.merge(keywords_austria, austria10)"
   ]
  },
  {
   "cell_type": "code",
   "execution_count": 51,
   "metadata": {},
   "outputs": [],
   "source": [
    "keywords_austria.to_csv('../data/keywords/Madrid/austria/switzerland.csv', index=False)"
   ]
  },
  {
   "cell_type": "code",
   "execution_count": 36,
   "metadata": {},
   "outputs": [],
   "source": [
    "denmark1 = pd.read_csv('../data/keywords/Madrid/denmark/multiTimeline.csv', skiprows=2)\n",
    "denmark2 = pd.read_csv('../data/keywords/Madrid/denmark/multiTimeline (1).csv', skiprows=2)\n",
    "denmark3 = pd.read_csv('../data/keywords/Madrid/denmark/multiTimeline (2).csv', skiprows=2)\n",
    "denmark4 = pd.read_csv('../data/keywords/Madrid/denmark/multiTimeline (3).csv', skiprows=2)\n",
    "denmark5 = pd.read_csv('../data/keywords/Madrid/denmark/multiTimeline (4).csv', skiprows=2)\n",
    "denmark6 = pd.read_csv('../data/keywords/Madrid/denmark/multiTimeline (5).csv', skiprows=2)\n",
    "denmark7 = pd.read_csv('../data/keywords/Madrid/denmark/multiTimeline (6).csv', skiprows=2)\n",
    "denmark8 = pd.read_csv('../data/keywords/Madrid/denmark/multiTimeline (7).csv', skiprows=2)\n",
    "denmark9 = pd.read_csv('../data/keywords/Madrid/denmark/multiTimeline (8).csv', skiprows=2)\n",
    "denmark10 = pd.read_csv('../data/keywords/Madrid/denmark/multiTimeline (9).csv', skiprows=2)\n",
    "denmark11 = pd.read_csv('../data/keywords/Madrid/denmark/multiTimeline (10).csv', skiprows=2)"
   ]
  },
  {
   "cell_type": "code",
   "execution_count": 37,
   "metadata": {},
   "outputs": [],
   "source": [
    "keywords_denmark = pd.merge(denmark1,denmark2)\n",
    "keywords_denmark = pd.merge(keywords_denmark, denmark3)\n",
    "keywords_denmark = pd.merge(keywords_denmark, denmark4)\n",
    "keywords_denmark = pd.merge(keywords_denmark, denmark5)\n",
    "keywords_denmark = pd.merge(keywords_denmark, denmark6)\n",
    "keywords_denmark = pd.merge(keywords_denmark, denmark7)\n",
    "keywords_denmark = pd.merge(keywords_denmark, denmark8)\n",
    "keywords_denmark = pd.merge(keywords_denmark, denmark9)\n",
    "keywords_denmark = pd.merge(keywords_denmark, denmark10)\n",
    "keywords_denmark = pd.merge(keywords_denmark, denmark11)"
   ]
  },
  {
   "cell_type": "code",
   "execution_count": 52,
   "metadata": {},
   "outputs": [],
   "source": [
    "keywords_denmark.to_csv('../data/keywords/Madrid/denmark/denmark.csv', index=False)"
   ]
  },
  {
   "cell_type": "code",
   "execution_count": 39,
   "metadata": {},
   "outputs": [],
   "source": [
    "finland1 = pd.read_csv('../data/keywords/Madrid/finland/multiTimeline.csv', skiprows=2)\n",
    "finland2 = pd.read_csv('../data/keywords/Madrid/finland/multiTimeline (1).csv', skiprows=2)\n",
    "finland3 = pd.read_csv('../data/keywords/Madrid/finland/multiTimeline (2).csv', skiprows=2)\n",
    "finland4 = pd.read_csv('../data/keywords/Madrid/finland/multiTimeline (3).csv', skiprows=2)\n",
    "finland5 = pd.read_csv('../data/keywords/Madrid/finland/multiTimeline (4).csv', skiprows=2)\n",
    "finland6 = pd.read_csv('../data/keywords/Madrid/finland/multiTimeline (5).csv', skiprows=2)\n",
    "finland7 = pd.read_csv('../data/keywords/Madrid/finland/multiTimeline (6).csv', skiprows=2)\n",
    "finland8 = pd.read_csv('../data/keywords/Madrid/finland/multiTimeline (7).csv', skiprows=2)\n",
    "finland9 = pd.read_csv('../data/keywords/Madrid/finland/multiTimeline (8).csv', skiprows=2)\n",
    "\n",
    "\n",
    "keywords_finland = pd.merge(denmark1,denmark2)\n",
    "keywords_finland = pd.merge(keywords_finland, finland3)\n",
    "keywords_finland = pd.merge(keywords_finland, finland4)\n",
    "keywords_finland = pd.merge(keywords_finland, finland5)\n",
    "keywords_finland = pd.merge(keywords_finland, finland6)\n",
    "keywords_finland = pd.merge(keywords_finland, finland7)\n",
    "keywords_finland = pd.merge(keywords_finland, finland8)\n",
    "keywords_finland = pd.merge(keywords_finland, finland9)\n",
    "\n",
    "keywords_finland.to_csv('../data/keywords/Madrid/finland/finland.csv')"
   ]
  },
  {
   "cell_type": "code",
   "execution_count": 53,
   "metadata": {},
   "outputs": [],
   "source": [
    "greece1 = pd.read_csv('../data/keywords/Madrid/greece/multiTimeline.csv', skiprows=2)\n",
    "greece2 = pd.read_csv('../data/keywords/Madrid/greece/multiTimeline (1).csv', skiprows=2)\n",
    "greece3 = pd.read_csv('../data/keywords/Madrid/greece/multiTimeline (2).csv', skiprows=2)\n",
    "greece4 = pd.read_csv('../data/keywords/Madrid/greece/multiTimeline (3).csv', skiprows=2)\n",
    "greece5 = pd.read_csv('../data/keywords/Madrid/greece/multiTimeline (4).csv', skiprows=2)\n",
    "greece6 = pd.read_csv('../data/keywords/Madrid/greece/multiTimeline (5).csv', skiprows=2)\n",
    "greece7 = pd.read_csv('../data/keywords/Madrid/greece/multiTimeline (6).csv', skiprows=2)\n",
    "greece8 = pd.read_csv('../data/keywords/Madrid/greece/multiTimeline (7).csv', skiprows=2)\n",
    "greece9 = pd.read_csv('../data/keywords/Madrid/greece/multiTimeline (8).csv', skiprows=2)\n",
    "greece10 = pd.read_csv('../data/keywords/Madrid/greece/multiTimeline (9).csv', skiprows=2)\n",
    "\n",
    "keywords_greece = pd.merge(denmark1,denmark2)\n",
    "keywords_greece = pd.merge(keywords_greece, greece3)\n",
    "keywords_greece = pd.merge(keywords_greece, greece4)\n",
    "keywords_greece = pd.merge(keywords_greece, greece5)\n",
    "keywords_greece = pd.merge(keywords_greece, greece6)\n",
    "keywords_greece = pd.merge(keywords_greece, greece7)\n",
    "keywords_greece = pd.merge(keywords_greece, greece8)\n",
    "keywords_greece = pd.merge(keywords_greece, greece9)\n",
    "keywords_greece = pd.merge(keywords_greece, greece10)\n",
    "\n",
    "keywords_greece.to_csv('../data/keywords/Madrid/greece/greece.csv', index=False)"
   ]
  },
  {
   "cell_type": "code",
   "execution_count": 54,
   "metadata": {},
   "outputs": [],
   "source": [
    "ireland1 = pd.read_csv('../data/keywords/Madrid/ireland/multiTimeline.csv', skiprows=2)\n",
    "ireland2 = pd.read_csv('../data/keywords/Madrid/ireland/multiTimeline (1).csv', skiprows=2)\n",
    "ireland3 = pd.read_csv('../data/keywords/Madrid/ireland/multiTimeline (2).csv', skiprows=2)\n",
    "ireland4 = pd.read_csv('../data/keywords/Madrid/ireland/multiTimeline (3).csv', skiprows=2)\n",
    "ireland5 = pd.read_csv('../data/keywords/Madrid/ireland/multiTimeline (4).csv', skiprows=2)\n",
    "ireland6 = pd.read_csv('../data/keywords/Madrid/ireland/multiTimeline (5).csv', skiprows=2)\n",
    "ireland7 = pd.read_csv('../data/keywords/Madrid/ireland/multiTimeline (6).csv', skiprows=2)\n",
    "ireland8 = pd.read_csv('../data/keywords/Madrid/ireland/multiTimeline (7).csv', skiprows=2)\n",
    "ireland9 = pd.read_csv('../data/keywords/Madrid/ireland/multiTimeline (8).csv', skiprows=2)\n",
    "ireland10 = pd.read_csv('../data/keywords/Madrid/ireland/multiTimeline (9).csv', skiprows=2)\n",
    "ireland11 = pd.read_csv('../data/keywords/Madrid/ireland/multiTimeline (10).csv', skiprows=2)\n",
    "ireland12 = pd.read_csv('../data/keywords/Madrid/ireland/multiTimeline (11).csv', skiprows=2)\n",
    "ireland13 = pd.read_csv('../data/keywords/Madrid/ireland/multiTimeline (12).csv', skiprows=2)\n",
    "\n",
    "keywords_ireland = pd.merge(ireland1, ireland2)\n",
    "keywords_ireland = pd.merge(keywords_ireland, ireland3)\n",
    "keywords_ireland = pd.merge(keywords_ireland, ireland4)\n",
    "keywords_ireland = pd.merge(keywords_ireland, ireland5)\n",
    "keywords_ireland = pd.merge(keywords_ireland, ireland6)\n",
    "keywords_ireland = pd.merge(keywords_ireland, ireland7)\n",
    "keywords_ireland = pd.merge(keywords_ireland, ireland8)\n",
    "keywords_ireland = pd.merge(keywords_ireland, ireland9)\n",
    "keywords_ireland = pd.merge(keywords_ireland, ireland10)\n",
    "keywords_ireland = pd.merge(keywords_ireland, ireland11)\n",
    "keywords_ireland = pd.merge(keywords_ireland, ireland12)\n",
    "keywords_ireland = pd.merge(keywords_ireland, ireland13)\n",
    "\n",
    "keywords_ireland.to_csv('../data/keywords/Madrid/ireland/ireland.csv', index=False)"
   ]
  },
  {
   "cell_type": "code",
   "execution_count": 55,
   "metadata": {},
   "outputs": [],
   "source": [
    "portugal1 = pd.read_csv('../data/keywords/Madrid/portugal/multiTimeline.csv', skiprows=2)\n",
    "portugal2 = pd.read_csv('../data/keywords/Madrid/portugal/multiTimeline (1).csv', skiprows=2)\n",
    "portugal3 = pd.read_csv('../data/keywords/Madrid/portugal/multiTimeline (2).csv', skiprows=2)\n",
    "portugal4 = pd.read_csv('../data/keywords/Madrid/portugal/multiTimeline (3).csv', skiprows=2)\n",
    "portugal5 = pd.read_csv('../data/keywords/Madrid/portugal/multiTimeline (4).csv', skiprows=2)\n",
    "portugal6 = pd.read_csv('../data/keywords/Madrid/portugal/multiTimeline (5).csv', skiprows=2)\n",
    "portugal7 = pd.read_csv('../data/keywords/Madrid/portugal/multiTimeline (6).csv', skiprows=2)\n",
    "portugal8 = pd.read_csv('../data/keywords/Madrid/portugal/multiTimeline (7).csv', skiprows=2)\n",
    "portugal9 = pd.read_csv('../data/keywords/Madrid/portugal/multiTimeline (8).csv', skiprows=2)\n",
    "portugal10 = pd.read_csv('../data/keywords/Madrid/portugal/multiTimeline (9).csv', skiprows=2)\n",
    "portugal11 = pd.read_csv('../data/keywords/Madrid/portugal/multiTimeline (10).csv', skiprows=2)\n",
    "portugal12 = pd.read_csv('../data/keywords/Madrid/portugal/multiTimeline (11).csv', skiprows=2)\n",
    "portugal13 = pd.read_csv('../data/keywords/Madrid/portugal/multiTimeline (12).csv', skiprows=2)\n",
    "portugal14 = pd.read_csv('../data/keywords/Madrid/portugal/multiTimeline (13).csv', skiprows=2)\n",
    "portugal15 = pd.read_csv('../data/keywords/Madrid/portugal/multiTimeline (14).csv', skiprows=2)\n",
    "\n",
    "keywords_portugal = pd.merge(portugal1, portugal2)\n",
    "keywords_portugal = pd.merge(keywords_portugal,portugal3)\n",
    "keywords_portugal = pd.merge(keywords_portugal, portugal4)\n",
    "keywords_portugal = pd.merge(keywords_portugal, portugal5)\n",
    "keywords_portugal = pd.merge(keywords_portugal, portugal6)\n",
    "keywords_portugal = pd.merge(keywords_portugal, portugal7)\n",
    "keywords_portugal = pd.merge(keywords_portugal, portugal8)\n",
    "keywords_portugal = pd.merge(keywords_portugal, portugal9)\n",
    "keywords_portugal = pd.merge(keywords_portugal, portugal10)\n",
    "keywords_portugal = pd.merge(keywords_portugal, portugal11)\n",
    "keywords_portugal = pd.merge(keywords_portugal, portugal12)\n",
    "keywords_portugal = pd.merge(keywords_portugal, portugal13)\n",
    "keywords_portugal = pd.merge(keywords_portugal, portugal14)\n",
    "keywords_portugal = pd.merge(keywords_portugal, portugal15)\n",
    "\n",
    "keywords_portugal.to_csv('../data/keywords/Madrid/portugal/portugal.csv', index=False)"
   ]
  },
  {
   "cell_type": "code",
   "execution_count": null,
   "metadata": {},
   "outputs": [],
   "source": []
  },
  {
   "cell_type": "code",
   "execution_count": null,
   "metadata": {},
   "outputs": [],
   "source": []
  },
  {
   "cell_type": "code",
   "execution_count": null,
   "metadata": {},
   "outputs": [],
   "source": []
  },
  {
   "cell_type": "code",
   "execution_count": null,
   "metadata": {},
   "outputs": [],
   "source": []
  },
  {
   "cell_type": "code",
   "execution_count": null,
   "metadata": {},
   "outputs": [],
   "source": []
  },
  {
   "cell_type": "code",
   "execution_count": null,
   "metadata": {},
   "outputs": [],
   "source": []
  },
  {
   "cell_type": "code",
   "execution_count": 2,
   "metadata": {},
   "outputs": [],
   "source": [
    "switzerland = pd.read_csv('../data/keywords/switzerland.csv')\n",
    "switzerland['Semana'] = pd.to_datetime(switzerland['Semana'], format='%Y-%m-%d')\n",
    "switzerland['year'] = pd.DatetimeIndex(switzerland['Semana']).year\n",
    "switzerland['month'] = pd.DatetimeIndex(switzerland['Semana']).month\n",
    "switzerland = switzerland.groupby([\"year\", \"month\"], as_index=False).max()\n",
    "switzerland.head()\n",
    "switzerland['date'] = pd.to_datetime(switzerland[['year', 'month']].assign(DAY=1))\n",
    "switzerland.drop([\"year\", \"month\", \"Semana\"], axis=1, inplace=True)\n",
    "switzerland.head()\n",
    "switzerland.to_csv('../data/keywords/switzerland.csv', index=False)"
   ]
  },
  {
   "cell_type": "code",
   "execution_count": 57,
   "metadata": {},
   "outputs": [],
   "source": [
    "belgium = pd.read_csv('../data/keywords/Madrid/belgium/belgium.csv')\n",
    "belgium['Semana'] = pd.to_datetime(belgium['Semana'], format='%Y-%m-%d')\n",
    "belgium['year'] = pd.DatetimeIndex(belgium['Semana']).year\n",
    "belgium['month'] = pd.DatetimeIndex(belgium['Semana']).month\n",
    "belgium = belgium.groupby([\"year\", \"month\"], as_index=False).max()\n",
    "belgium['date'] = pd.to_datetime(belgium[['year', 'month']].assign(DAY=1))\n",
    "belgium.drop([\"year\", \"month\", \"Semana\"], axis=1, inplace=True)\n",
    "belgium.to_csv('../data/keywords/Madrid/belgium.csv', index=False)"
   ]
  },
  {
   "cell_type": "code",
   "execution_count": 58,
   "metadata": {},
   "outputs": [],
   "source": [
    "france = pd.read_csv('../data/keywords/Madrid/france/france.csv')\n",
    "france['Semana'] = pd.to_datetime(france['Semana'], format='%Y-%m-%d')\n",
    "france['year'] = pd.DatetimeIndex(france['Semana']).year\n",
    "france['month'] = pd.DatetimeIndex(france['Semana']).month\n",
    "france = france.groupby([\"year\", \"month\"], as_index=False).max()\n",
    "france['date'] = pd.to_datetime(france[['year', 'month']].assign(DAY=1))\n",
    "france.drop([\"year\", \"month\", \"Semana\"], axis=1, inplace=True)\n",
    "france.to_csv('../data/keywords/Madrid/france.csv', index=False)"
   ]
  },
  {
   "cell_type": "code",
   "execution_count": 59,
   "metadata": {},
   "outputs": [],
   "source": [
    "germany = pd.read_csv('../data/keywords/Madrid/germany/germany.csv')\n",
    "germany['Semana'] = pd.to_datetime(germany['Semana'], format='%Y-%m-%d')\n",
    "germany['year'] = pd.DatetimeIndex(germany['Semana']).year\n",
    "germany['month'] = pd.DatetimeIndex(germany['Semana']).month\n",
    "germany = germany.groupby([\"year\", \"month\"], as_index=False).max()\n",
    "germany['date'] = pd.to_datetime(germany[['year', 'month']].assign(DAY=1))\n",
    "germany.drop([\"year\", \"month\", \"Semana\"], axis=1, inplace=True)\n",
    "germany.to_csv('../data/keywords/Madrid/germany.csv', index=False)"
   ]
  },
  {
   "cell_type": "code",
   "execution_count": 60,
   "metadata": {},
   "outputs": [],
   "source": [
    "international = pd.read_csv('../data/keywords/Madrid/international/International.csv')\n",
    "international['Semana'] = pd.to_datetime(international['Semana'], format='%Y-%m-%d')\n",
    "international['year'] = pd.DatetimeIndex(international['Semana']).year\n",
    "international['month'] = pd.DatetimeIndex(international['Semana']).month\n",
    "international = international.groupby([\"year\", \"month\"], as_index=False).max()\n",
    "international['date'] = pd.to_datetime(international[['year', 'month']].assign(DAY=1))\n",
    "international.drop([\"year\", \"month\", \"Semana\"], axis=1, inplace=True)\n",
    "international.to_csv('../data/keywords/Madrid/international.csv', index=False)"
   ]
  },
  {
   "cell_type": "code",
   "execution_count": 61,
   "metadata": {},
   "outputs": [],
   "source": [
    "italy = pd.read_csv('../data/keywords/Madrid/italy/italy.csv')\n",
    "italy['Semana'] = pd.to_datetime(italy['Semana'], format='%Y-%m-%d')\n",
    "italy['year'] = pd.DatetimeIndex(italy['Semana']).year\n",
    "italy['month'] = pd.DatetimeIndex(italy['Semana']).month\n",
    "italy = italy.groupby([\"year\", \"month\"], as_index=False).max()\n",
    "italy['date'] = pd.to_datetime(italy[['year', 'month']].assign(DAY=1))\n",
    "italy.drop([\"year\", \"month\", \"Semana\"], axis=1, inplace=True)\n",
    "italy.to_csv('../data/keywords/Madrid/italy.csv', index=False)"
   ]
  },
  {
   "cell_type": "code",
   "execution_count": 62,
   "metadata": {},
   "outputs": [],
   "source": [
    "netherlands = pd.read_csv('../data/keywords/Madrid/netherlands/netherlands.csv')\n",
    "netherlands['Semana'] = pd.to_datetime(netherlands['Semana'], format='%Y-%m-%d')\n",
    "netherlands['year'] = pd.DatetimeIndex(netherlands['Semana']).year\n",
    "netherlands['month'] = pd.DatetimeIndex(netherlands['Semana']).month\n",
    "netherlands = netherlands.groupby([\"year\", \"month\"], as_index=False).max()\n",
    "netherlands['date'] = pd.to_datetime(netherlands[['year', 'month']].assign(DAY=1))\n",
    "netherlands.drop([\"year\", \"month\", \"Semana\"], axis=1, inplace=True)\n",
    "netherlands.to_csv('../data/keywords/netherlands.csv', index=False)"
   ]
  },
  {
   "cell_type": "code",
   "execution_count": 63,
   "metadata": {},
   "outputs": [],
   "source": [
    "spain = pd.read_csv('../data/keywords/Madrid/spain/spain.csv')\n",
    "spain['Semana'] = pd.to_datetime(spain['Semana'], format='%Y-%m-%d')\n",
    "spain['year'] = pd.DatetimeIndex(spain['Semana']).year\n",
    "spain['month'] = pd.DatetimeIndex(spain['Semana']).month\n",
    "spain = spain.groupby([\"year\", \"month\"], as_index=False).max()\n",
    "spain['date'] = pd.to_datetime(spain[['year', 'month']].assign(DAY=1))\n",
    "spain.drop([\"year\", \"month\", \"Semana\"], axis=1, inplace=True)\n",
    "spain.to_csv('../data/keywords/spain.csv', index=False)"
   ]
  },
  {
   "cell_type": "code",
   "execution_count": 65,
   "metadata": {},
   "outputs": [],
   "source": [
    "unitedkingdom = pd.read_csv('../data/keywords/Madrid/unitedkingdom/unitedkingdom.csv')\n",
    "unitedkingdom['Semana'] = pd.to_datetime(unitedkingdom['Semana'], format='%Y-%m-%d')\n",
    "unitedkingdom['year'] = pd.DatetimeIndex(unitedkingdom['Semana']).year\n",
    "unitedkingdom['month'] = pd.DatetimeIndex(unitedkingdom['Semana']).month\n",
    "unitedkingdom = unitedkingdom.groupby([\"year\", \"month\"], as_index=False).max()\n",
    "unitedkingdom['date'] = pd.to_datetime(unitedkingdom[['year', 'month']].assign(DAY=1))\n",
    "unitedkingdom.drop([\"year\", \"month\", \"Semana\"], axis=1, inplace=True)\n",
    "unitedkingdom.to_csv('../data/keywords/Madrid/unitedkingdom.csv', index=True)"
   ]
  },
  {
   "cell_type": "code",
   "execution_count": 67,
   "metadata": {
    "scrolled": true
   },
   "outputs": [],
   "source": [
    "austria = pd.read_csv('../data/keywords/Madrid/austria/austria.csv')\n",
    "austria['Semana'] = pd.to_datetime(austria['Semana'], format='%Y-%m-%d')\n",
    "austria['year'] = pd.DatetimeIndex(austria['Semana']).year\n",
    "austria['month'] = pd.DatetimeIndex(austria['Semana']).month\n",
    "austria = austria.groupby([\"year\", \"month\"], as_index=False).max()\n",
    "austria['date'] = pd.to_datetime(austria[['year', 'month']].assign(DAY=1))\n",
    "austria.drop([\"year\", \"month\", \"Semana\"], axis=1, inplace=True)\n",
    "austria.to_csv('../data/keywords/Madrid/austria.csv', index=True)"
   ]
  },
  {
   "cell_type": "code",
   "execution_count": 68,
   "metadata": {},
   "outputs": [],
   "source": [
    "denmark = pd.read_csv('../data/keywords/Madrid/denmark/denmark.csv')\n",
    "denmark['Semana'] = pd.to_datetime(denmark['Semana'], format='%Y-%m-%d')\n",
    "denmark['year'] = pd.DatetimeIndex(denmark['Semana']).year\n",
    "denmark['month'] = pd.DatetimeIndex(denmark['Semana']).month\n",
    "denmark = denmark.groupby([\"year\", \"month\"], as_index=False).max()\n",
    "denmark['date'] = pd.to_datetime(denmark[['year', 'month']].assign(DAY=1))\n",
    "denmark.drop([\"year\", \"month\", \"Semana\"], axis=1, inplace=True)\n",
    "denmark.to_csv('../data/keywords/Madrid/denmark.csv', index=True)"
   ]
  },
  {
   "cell_type": "code",
   "execution_count": 69,
   "metadata": {},
   "outputs": [],
   "source": [
    "finland = pd.read_csv('../data/keywords/Madrid/finland/finland.csv')\n",
    "finland['Semana'] = pd.to_datetime(finland['Semana'], format='%Y-%m-%d')\n",
    "finland['year'] = pd.DatetimeIndex(finland['Semana']).year\n",
    "finland['month'] = pd.DatetimeIndex(finland['Semana']).month\n",
    "finland = finland.groupby([\"year\", \"month\"], as_index=False).max()\n",
    "finland['date'] = pd.to_datetime(finland[['year', 'month']].assign(DAY=1))\n",
    "finland.drop([\"year\", \"month\", \"Semana\"], axis=1, inplace=True)\n",
    "finland.to_csv('../data/keywords/Madrid/finland.csv', index=True)"
   ]
  },
  {
   "cell_type": "code",
   "execution_count": 70,
   "metadata": {},
   "outputs": [],
   "source": [
    "greece = pd.read_csv('../data/keywords/Madrid/greece/greece.csv')\n",
    "greece['Semana'] = pd.to_datetime(greece['Semana'], format='%Y-%m-%d')\n",
    "greece['year'] = pd.DatetimeIndex(greece['Semana']).year\n",
    "greece['month'] = pd.DatetimeIndex(greece['Semana']).month\n",
    "greece = greece.groupby([\"year\", \"month\"], as_index=False).max()\n",
    "greece['date'] = pd.to_datetime(greece[['year', 'month']].assign(DAY=1))\n",
    "greece.drop([\"year\", \"month\", \"Semana\"], axis=1, inplace=True)\n",
    "greece.to_csv('../data/keywords/Madrid/greece.csv', index=True)"
   ]
  },
  {
   "cell_type": "code",
   "execution_count": 71,
   "metadata": {},
   "outputs": [],
   "source": [
    "ireland = pd.read_csv('../data/keywords/Madrid/ireland/ireland.csv')\n",
    "ireland['Semana'] = pd.to_datetime(ireland['Semana'], format='%Y-%m-%d')\n",
    "ireland['year'] = pd.DatetimeIndex(ireland['Semana']).year\n",
    "ireland['month'] = pd.DatetimeIndex(ireland['Semana']).month\n",
    "ireland = ireland.groupby([\"year\", \"month\"], as_index=False).max()\n",
    "ireland['date'] = pd.to_datetime(ireland[['year', 'month']].assign(DAY=1))\n",
    "ireland.drop([\"year\", \"month\", \"Semana\"], axis=1, inplace=True)\n",
    "ireland.to_csv('../data/keywords/Madrid/ireland.csv', index=True)"
   ]
  },
  {
   "cell_type": "code",
   "execution_count": 72,
   "metadata": {},
   "outputs": [],
   "source": [
    "portugal = pd.read_csv('../data/keywords/Madrid/portugal/portugal.csv')\n",
    "portugal['Semana'] = pd.to_datetime(portugal['Semana'], format='%Y-%m-%d')\n",
    "portugal['year'] = pd.DatetimeIndex(portugal['Semana']).year\n",
    "portugal['month'] = pd.DatetimeIndex(portugal['Semana']).month\n",
    "portugal = portugal.groupby([\"year\", \"month\"], as_index=False).max()\n",
    "portugal['date'] = pd.to_datetime(portugal[['year', 'month']].assign(DAY=1))\n",
    "portugal.drop([\"year\", \"month\", \"Semana\"], axis=1, inplace=True)\n",
    "portugal.to_csv('../data/keywords/Madrid/portugal.csv', index=True)"
   ]
  }
 ],
 "metadata": {
  "kernelspec": {
   "display_name": "Python 3",
   "language": "python",
   "name": "python3"
  },
  "language_info": {
   "codemirror_mode": {
    "name": "ipython",
    "version": 3
   },
   "file_extension": ".py",
   "mimetype": "text/x-python",
   "name": "python",
   "nbconvert_exporter": "python",
   "pygments_lexer": "ipython3",
   "version": "3.8.3"
  }
 },
 "nbformat": 4,
 "nbformat_minor": 4
}
