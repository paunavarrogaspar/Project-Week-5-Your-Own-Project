{
 "cells": [
  {
   "cell_type": "code",
   "execution_count": 2,
   "metadata": {},
   "outputs": [],
   "source": [
    "import pandas as pd\n",
    "import seaborn as sns"
   ]
  },
  {
   "cell_type": "code",
   "execution_count": 3,
   "metadata": {},
   "outputs": [],
   "source": [
    "# Import the datamart\n",
    "df = pd.read_csv('../data/TourismAndTrendsAggregated.csv')"
   ]
  },
  {
   "cell_type": "code",
   "execution_count": 4,
   "metadata": {},
   "outputs": [
    {
     "data": {
      "text/plain": [
       "Index(['bellver', 'cuevas del drach', 'formentor', 'palma aquarium', 'soller',\n",
       "       'cala galdana', 'cala mitjana', 'monte toro', 'cala macarella',\n",
       "       'cala macarelleta', 'albufera', 'cala pregonda', 'favaritx',\n",
       "       'cala benirras', 'es vedra', 'ses salines', 'cala salada',\n",
       "       'ses illetes', 'es pujols', 'ses platgetes', 'magaluf',\n",
       "       'Cuevas del Drach', 'benirras', 'tourists'],\n",
       "      dtype='object')"
      ]
     },
     "execution_count": 4,
     "metadata": {},
     "output_type": "execute_result"
    }
   ],
   "source": [
    "# Select the columns to be studied\n",
    "columns = df.columns[:21]\n",
    "columns.append(df.columns[-3:])"
   ]
  },
  {
   "cell_type": "code",
   "execution_count": 5,
   "metadata": {},
   "outputs": [
    {
     "name": "stdout",
     "output_type": "stream",
     "text": [
      "palma aquarium 0.5010605654622563\n",
      "soller 0.4988026785046345\n",
      "cala macarella 0.46765888804551314\n",
      "albufera 0.4668692408678848\n",
      "cala benirras 0.41938745738933714\n",
      "es vedra 0.4730068856839407\n",
      "ses salines 0.47018909653081115\n",
      "cala salada 0.4160800617797593\n",
      "es pujols 0.46420584584565344\n",
      "ses platgetes 0.7153960189040004\n",
      "magaluf 0.5480950490508681\n"
     ]
    }
   ],
   "source": [
    "# Check for correlations between trends data and turism influx above 40%\n",
    "counts = 0\n",
    "for i in columns:\n",
    "    counts+=1\n",
    "    corr = df.tourists.corr(df[i])\n",
    "    if (corr<-0.4) | (corr>0.4):\n",
    "        print(i, str(corr))"
   ]
  },
  {
   "cell_type": "code",
   "execution_count": 6,
   "metadata": {},
   "outputs": [
    {
     "name": "stderr",
     "output_type": "stream",
     "text": [
      "<ipython-input-6-a162a89d26c1>:3: SettingWithCopyWarning: \n",
      "A value is trying to be set on a copy of a slice from a DataFrame\n",
      "\n",
      "See the caveats in the documentation: https://pandas.pydata.org/pandas-docs/stable/user_guide/indexing.html#returning-a-view-versus-a-copy\n",
      "  df[\"overall_trend\"][i] = max(df[\"palma aquarium\"][i], df[\"soller\"][i], df[\"cala macarella\"][i],\n"
     ]
    },
    {
     "data": {
      "text/plain": [
       "0      57\n",
       "1      47\n",
       "2      52\n",
       "3      62\n",
       "4      60\n",
       "       ..\n",
       "331    61\n",
       "332    46\n",
       "333    37\n",
       "334    41\n",
       "335    39\n",
       "Name: overall_trend, Length: 336, dtype: object"
      ]
     },
     "execution_count": 6,
     "metadata": {},
     "output_type": "execute_result"
    }
   ],
   "source": [
    "# Define a column that takes the max number on all trends data\n",
    "df[\"overall_trend\"] = ''\n",
    "for i in range(len(df)):\n",
    "    df[\"overall_trend\"][i] = max(df[\"palma aquarium\"][i], df[\"soller\"][i], df[\"cala macarella\"][i], \n",
    "                      df[\"albufera\"][i], df[\"cala benirras\"][i], df[\"es vedra\"][i], \n",
    "                      df[\"ses salines\"][i], df[\"ses salines\"][i], df[\"cala salada\"][i],\n",
    "                      df[\"es pujols\"][i], df[\"ses platgetes\"][i], df[\"magaluf\"][i])\n",
    "    \n",
    "    \n",
    "df[\"overall_trend\"]"
   ]
  },
  {
   "cell_type": "code",
   "execution_count": 7,
   "metadata": {},
   "outputs": [],
   "source": [
    "# We define the \n",
    "df[\"overall_trend\"] = df.overall_trend.astype(float)"
   ]
  },
  {
   "cell_type": "code",
   "execution_count": 8,
   "metadata": {
    "scrolled": true
   },
   "outputs": [
    {
     "data": {
      "text/plain": [
       "0.4331423412873557"
      ]
     },
     "execution_count": 8,
     "metadata": {},
     "output_type": "execute_result"
    }
   ],
   "source": [
    "df.tourists.corr(df.overall_trend)"
   ]
  },
  {
   "cell_type": "code",
   "execution_count": 9,
   "metadata": {},
   "outputs": [],
   "source": [
    "df.to_csv('../data/BalearicIslandsDatamart.csv', index=False)"
   ]
  },
  {
   "cell_type": "code",
   "execution_count": null,
   "metadata": {},
   "outputs": [],
   "source": []
  },
  {
   "cell_type": "code",
   "execution_count": null,
   "metadata": {},
   "outputs": [],
   "source": []
  }
 ],
 "metadata": {
  "kernelspec": {
   "display_name": "Python 3",
   "language": "python",
   "name": "python3"
  },
  "language_info": {
   "codemirror_mode": {
    "name": "ipython",
    "version": 3
   },
   "file_extension": ".py",
   "mimetype": "text/x-python",
   "name": "python",
   "nbconvert_exporter": "python",
   "pygments_lexer": "ipython3",
   "version": "3.7.6"
  }
 },
 "nbformat": 4,
 "nbformat_minor": 4
}
