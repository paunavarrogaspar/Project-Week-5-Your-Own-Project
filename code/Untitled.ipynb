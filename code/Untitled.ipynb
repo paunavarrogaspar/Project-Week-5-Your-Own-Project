{
 "cells": [
  {
   "cell_type": "code",
   "execution_count": 1,
   "metadata": {},
   "outputs": [],
   "source": [
    "import pandas as pd"
   ]
  },
  {
   "cell_type": "code",
   "execution_count": 5,
   "metadata": {},
   "outputs": [],
   "source": [
    "df = pd.read_csv('../data/multiTimeline (2).csv', sep=\";\")"
   ]
  },
  {
   "cell_type": "code",
   "execution_count": 8,
   "metadata": {},
   "outputs": [],
   "source": [
    "df['Semana'] = pd.to_datetime(df['Semana'], format='%d/%m/%Y')\n",
    "df['year'] = pd.DatetimeIndex(df['Semana']).year\n",
    "df['month'] = pd.DatetimeIndex(df['Semana']).month\n",
    "df = df.groupby([\"year\", \"month\"], as_index=False).max()\n",
    "df['date'] = pd.to_datetime(df[['year', 'month']].assign(DAY=1))\n",
    "df.drop([\"year\", \"month\", \"Semana\"], axis=1, inplace=True)\n",
    "df.to_csv('../data/test.csv', index=True)"
   ]
  },
  {
   "cell_type": "code",
   "execution_count": null,
   "metadata": {},
   "outputs": [],
   "source": []
  }
 ],
 "metadata": {
  "kernelspec": {
   "display_name": "Python 3",
   "language": "python",
   "name": "python3"
  },
  "language_info": {
   "codemirror_mode": {
    "name": "ipython",
    "version": 3
   },
   "file_extension": ".py",
   "mimetype": "text/x-python",
   "name": "python",
   "nbconvert_exporter": "python",
   "pygments_lexer": "ipython3",
   "version": "3.8.3"
  }
 },
 "nbformat": 4,
 "nbformat_minor": 4
}
