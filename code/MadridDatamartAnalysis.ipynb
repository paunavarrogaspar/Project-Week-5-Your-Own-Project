{
 "cells": [
  {
   "cell_type": "code",
   "execution_count": 3,
   "metadata": {},
   "outputs": [],
   "source": [
    "import pandas as pd"
   ]
  },
  {
   "cell_type": "code",
   "execution_count": 28,
   "metadata": {},
   "outputs": [],
   "source": [
    "df = pd.read_csv('../data/MadridDatamart.csv')"
   ]
  },
  {
   "cell_type": "code",
   "execution_count": 39,
   "metadata": {},
   "outputs": [],
   "source": [
    "columns = ['Museo Nacional del Prado', 'plaza mayor', 'el retiro',\n",
    "           'puerta del sol', 'gran via', 'Thyssen', 'templo de debod',\n",
    "           'la Almudena', 'cibeles', 'Palacio de Cristal', 'puerta de alcala',\n",
    "           'el rastro', 'las ventas', 'chueca', 'san gines', 'callao']"
   ]
  },
  {
   "cell_type": "code",
   "execution_count": 41,
   "metadata": {},
   "outputs": [
    {
     "name": "stdout",
     "output_type": "stream",
     "text": [
      "Palacio de Cristal 0.4131220010192702\n"
     ]
    }
   ],
   "source": [
    "counts = 0\n",
    "for i in columns:\n",
    "    counts+=1\n",
    "    corr = df.tourists.corr(df[i])\n",
    "    if (corr<-0.4) | (corr>0.4):\n",
    "        print(i, str(corr))"
   ]
  }
 ],
 "metadata": {
  "kernelspec": {
   "display_name": "Python 3",
   "language": "python",
   "name": "python3"
  },
  "language_info": {
   "codemirror_mode": {
    "name": "ipython",
    "version": 3
   },
   "file_extension": ".py",
   "mimetype": "text/x-python",
   "name": "python",
   "nbconvert_exporter": "python",
   "pygments_lexer": "ipython3",
   "version": "3.8.3"
  }
 },
 "nbformat": 4,
 "nbformat_minor": 4
}
