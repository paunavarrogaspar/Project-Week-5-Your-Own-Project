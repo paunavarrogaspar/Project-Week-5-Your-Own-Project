{
 "cells": [
  {
   "cell_type": "code",
   "execution_count": 2,
   "metadata": {},
   "outputs": [],
   "source": [
    "from selenium import webdriver\n",
    "from selenium.webdriver.common.keys import Keys\n",
    "import time\n",
    "import random"
   ]
  },
  {
   "cell_type": "code",
   "execution_count": 11,
   "metadata": {},
   "outputs": [],
   "source": [
    "top_locations = [\"Castell de Bellver\", \"Cuevas del Drach\", \"Cabo de Formentor\",\n",
    "                  \"Palma Aquarium\", \"Soller\", \"Cala Galdana\", \"Cala Mitjana\", \n",
    "                 \"Monte Toro\", \"Cala Macarella\", \"Cala Macarelleta\", \"Albufera\",\n",
    "                 \"Cala Pregonda\", \"Faro de Favaritx\", \"Platges de Compte\", \n",
    "                 \"Cala Benirras\", \"Es Vedra\", \"ses Salines\", \"Cala Salada\",\n",
    "                 \"Ses Illetes\", \"Es Pujols\", \"Cap de Barbaria\", \"Ses Platgetes\"]\n",
    "wrong_search_list = [\"Castll de Bellber\", \"Cyevas del Dracg\", \"Cabo de Foermentor\",\n",
    "                  \"Palma Aqis\", \"Scl\", \"Csls\", \"Cala Mirkana\", \n",
    "                 \"Monte Torp\", \"Macarwlla\", \"Cala Mscsre\", \"Alvufera\",\n",
    "                 \"Cala Ptegind\", \"Faro de Fabarich\", \"Platges de Conte\", \n",
    "                 \"Cala Benirtas\", \"Es Vefts\", \"ses Sak\", \"Cala Sañsfs\",\n",
    "                 \"Ses Ikk\", \"Es Puols\", \"Cap deBarbaria\", \"Ses Platf\"]"
   ]
  },
  {
   "cell_type": "code",
   "execution_count": 40,
   "metadata": {},
   "outputs": [],
   "source": [
    "def fake_wrong_search():\n",
    "    click_boto = driver.find_element_by_xpath('//*[@id=\"input-24\"]')\n",
    "    time.sleep(random.randint(2,9))\n",
    "    fake_wrong_search = wrong_search_list[random.randint(0,len(wrong_search_list))]\n",
    "    click_boto.send_keys(fake_wrong_search)\n",
    "    time.sleep(random.randint(2,14))\n",
    "    click_boto.clear()\n",
    "    time.sleep(random.randint(4,13))"
   ]
  },
  {
   "cell_type": "code",
   "execution_count": 39,
   "metadata": {},
   "outputs": [],
   "source": [
    "def multiple_searchbox_clicks():\n",
    "    random = random.randint(0,2)\n",
    "    if random == 1:\n",
    "        time.sleep(random.randint(3,11))\n",
    "        search_box = driver.find_element_by_xpath('//*[@id=\"input-24\"]')\n",
    "        search_box.click()\n",
    "        time.sleep(random.randint(2,14))\n",
    "    elif random == 2:\n",
    "        time.sleep(random.randint(7,12))\n",
    "        search_box = driver.find_element_by_xpath('//*[@id=\"input-24\"]')\n",
    "        search_box.click()\n",
    "        time.sleep(random.randint(1,13))\n",
    "        search_box.click()\n",
    "        time.sleep(random.randint(6,11))"
   ]
  },
  {
   "cell_type": "code",
   "execution_count": null,
   "metadata": {},
   "outputs": [],
   "source": []
  },
  {
   "cell_type": "code",
   "execution_count": null,
   "metadata": {},
   "outputs": [],
   "source": []
  },
  {
   "cell_type": "code",
   "execution_count": 45,
   "metadata": {},
   "outputs": [],
   "source": [
    "# Opens the url\n",
    "url = \"https://trends.google.es/trends/\"\n",
    "driver = webdriver.Chrome(r'C:\\Users\\ppaau\\Desktop\\Academic\\IronHack\\Projects\\Project-Week-5-Your-Own-Project\\chromedriver.exe')\n",
    "driver.get(url)\n",
    "# Find the text search box\n",
    "search_box = driver.find_element_by_xpath('/html/body/div[2]/div[2]/div/ng-include/div/div[2]/autocomplete')\n",
    "# Clicks on the search box to do the search\n",
    "search_box.click()\n",
    "# Textes the needed search on the text box\n",
    "click_boto = driver.find_element_by_xpath('//*[@id=\"input-254\"]')\n",
    "search = top_locations[0]\n",
    "click_boto.send_keys(search)\n",
    "# Presses enter to proceed with the search\n",
    "search_button = driver.find_element_by_xpath('//*[@id=\"input-254\"]')\n",
    "search_button.send_keys(u'\\ue007')"
   ]
  },
  {
   "cell_type": "code",
   "execution_count": null,
   "metadata": {},
   "outputs": [],
   "source": []
  },
  {
   "cell_type": "code",
   "execution_count": null,
   "metadata": {},
   "outputs": [],
   "source": []
  },
  {
   "cell_type": "code",
   "execution_count": null,
   "metadata": {},
   "outputs": [],
   "source": []
  },
  {
   "cell_type": "code",
   "execution_count": null,
   "metadata": {},
   "outputs": [],
   "source": []
  },
  {
   "cell_type": "code",
   "execution_count": null,
   "metadata": {},
   "outputs": [],
   "source": []
  },
  {
   "cell_type": "code",
   "execution_count": null,
   "metadata": {},
   "outputs": [],
   "source": []
  },
  {
   "cell_type": "code",
   "execution_count": null,
   "metadata": {},
   "outputs": [],
   "source": []
  },
  {
   "cell_type": "code",
   "execution_count": null,
   "metadata": {},
   "outputs": [],
   "source": []
  },
  {
   "cell_type": "code",
   "execution_count": null,
   "metadata": {},
   "outputs": [],
   "source": []
  },
  {
   "cell_type": "code",
   "execution_count": 41,
   "metadata": {},
   "outputs": [],
   "source": [
    "# Click on the \"Compare\" page\n",
    "def compare_trend():\n",
    "    driver = webdriver.Chrome(r'C:\\Users\\ppaau\\Desktop\\Academic\\IronHack\\Projects\\Project-Week-5-Your-Own-Project\\chromedriver.exe')\n",
    "    compare_button = driver.find_element_by_xpath('//*[@id=\"explorepage-content-header\"]/explore-pills/div/button/span/span[1]')\n",
    "    time.sleep(random.randint(1,3))\n",
    "    compare_button.click()\n",
    "    time.sleep(random.randint(1,9))"
   ]
  },
  {
   "cell_type": "code",
   "execution_count": 42,
   "metadata": {},
   "outputs": [],
   "source": [
    "# Click on the interest graph\n",
    "def graph_clicker():\n",
    "    driver = webdriver.Chrome(r'C:\\Users\\ppaau\\Desktop\\Academic\\IronHack\\Projects\\Project-Week-5-Your-Own-Project\\chromedriver.exe')\n",
    "    interest_graph = driver.find_element_by_xpath('/html/body/div[2]/div[2]/div/md-content/div/div/div[1]/trends-widget/ng-include/widget/div/div/ng-include/div/ng-include/div/line-chart-directive/div[1]/div/div[1]/div/svg/g[1]/rect')\n",
    "    interest_graph.click()\n",
    "    time.sleep(random.randint(2,10))"
   ]
  },
  {
   "cell_type": "code",
   "execution_count": 48,
   "metadata": {
    "scrolled": true
   },
   "outputs": [
    {
     "ename": "WebDriverException",
     "evalue": "Message: chrome not reachable\n  (Session info: chrome=84.0.4147.89)\n",
     "output_type": "error",
     "traceback": [
      "\u001b[1;31m---------------------------------------------------------------------------\u001b[0m",
      "\u001b[1;31mWebDriverException\u001b[0m                        Traceback (most recent call last)",
      "\u001b[1;32m<ipython-input-48-fc1db7db0e22>\u001b[0m in \u001b[0;36m<module>\u001b[1;34m\u001b[0m\n\u001b[1;32m----> 1\u001b[1;33m \u001b[0mcategories_dropdown\u001b[0m \u001b[1;33m=\u001b[0m \u001b[0mdriver\u001b[0m\u001b[1;33m.\u001b[0m\u001b[0mfind_element_by_xpath\u001b[0m\u001b[1;33m(\u001b[0m\u001b[1;34m'//*[@id=\"compare-pickers-wrapper\"]/div/hierarchy-picker[2]/ng-include/div[1]'\u001b[0m\u001b[1;33m)\u001b[0m\u001b[1;33m\u001b[0m\u001b[1;33m\u001b[0m\u001b[0m\n\u001b[0m\u001b[0;32m      2\u001b[0m \u001b[0mcategories_dropdown\u001b[0m\u001b[1;33m.\u001b[0m\u001b[0mclick\u001b[0m\u001b[1;33m(\u001b[0m\u001b[1;33m)\u001b[0m\u001b[1;33m\u001b[0m\u001b[1;33m\u001b[0m\u001b[0m\n",
      "\u001b[1;32m~\\AppData\\Local\\Programs\\Python\\Python38-32\\lib\\site-packages\\selenium\\webdriver\\remote\\webdriver.py\u001b[0m in \u001b[0;36mfind_element_by_xpath\u001b[1;34m(self, xpath)\u001b[0m\n\u001b[0;32m    392\u001b[0m             \u001b[0melement\u001b[0m \u001b[1;33m=\u001b[0m \u001b[0mdriver\u001b[0m\u001b[1;33m.\u001b[0m\u001b[0mfind_element_by_xpath\u001b[0m\u001b[1;33m(\u001b[0m\u001b[1;34m'//div/td[1]'\u001b[0m\u001b[1;33m)\u001b[0m\u001b[1;33m\u001b[0m\u001b[1;33m\u001b[0m\u001b[0m\n\u001b[0;32m    393\u001b[0m         \"\"\"\n\u001b[1;32m--> 394\u001b[1;33m         \u001b[1;32mreturn\u001b[0m \u001b[0mself\u001b[0m\u001b[1;33m.\u001b[0m\u001b[0mfind_element\u001b[0m\u001b[1;33m(\u001b[0m\u001b[0mby\u001b[0m\u001b[1;33m=\u001b[0m\u001b[0mBy\u001b[0m\u001b[1;33m.\u001b[0m\u001b[0mXPATH\u001b[0m\u001b[1;33m,\u001b[0m \u001b[0mvalue\u001b[0m\u001b[1;33m=\u001b[0m\u001b[0mxpath\u001b[0m\u001b[1;33m)\u001b[0m\u001b[1;33m\u001b[0m\u001b[1;33m\u001b[0m\u001b[0m\n\u001b[0m\u001b[0;32m    395\u001b[0m \u001b[1;33m\u001b[0m\u001b[0m\n\u001b[0;32m    396\u001b[0m     \u001b[1;32mdef\u001b[0m \u001b[0mfind_elements_by_xpath\u001b[0m\u001b[1;33m(\u001b[0m\u001b[0mself\u001b[0m\u001b[1;33m,\u001b[0m \u001b[0mxpath\u001b[0m\u001b[1;33m)\u001b[0m\u001b[1;33m:\u001b[0m\u001b[1;33m\u001b[0m\u001b[1;33m\u001b[0m\u001b[0m\n",
      "\u001b[1;32m~\\AppData\\Local\\Programs\\Python\\Python38-32\\lib\\site-packages\\selenium\\webdriver\\remote\\webdriver.py\u001b[0m in \u001b[0;36mfind_element\u001b[1;34m(self, by, value)\u001b[0m\n\u001b[0;32m    974\u001b[0m                 \u001b[0mby\u001b[0m \u001b[1;33m=\u001b[0m \u001b[0mBy\u001b[0m\u001b[1;33m.\u001b[0m\u001b[0mCSS_SELECTOR\u001b[0m\u001b[1;33m\u001b[0m\u001b[1;33m\u001b[0m\u001b[0m\n\u001b[0;32m    975\u001b[0m                 \u001b[0mvalue\u001b[0m \u001b[1;33m=\u001b[0m \u001b[1;34m'[name=\"%s\"]'\u001b[0m \u001b[1;33m%\u001b[0m \u001b[0mvalue\u001b[0m\u001b[1;33m\u001b[0m\u001b[1;33m\u001b[0m\u001b[0m\n\u001b[1;32m--> 976\u001b[1;33m         return self.execute(Command.FIND_ELEMENT, {\n\u001b[0m\u001b[0;32m    977\u001b[0m             \u001b[1;34m'using'\u001b[0m\u001b[1;33m:\u001b[0m \u001b[0mby\u001b[0m\u001b[1;33m,\u001b[0m\u001b[1;33m\u001b[0m\u001b[1;33m\u001b[0m\u001b[0m\n\u001b[0;32m    978\u001b[0m             'value': value})['value']\n",
      "\u001b[1;32m~\\AppData\\Local\\Programs\\Python\\Python38-32\\lib\\site-packages\\selenium\\webdriver\\remote\\webdriver.py\u001b[0m in \u001b[0;36mexecute\u001b[1;34m(self, driver_command, params)\u001b[0m\n\u001b[0;32m    319\u001b[0m         \u001b[0mresponse\u001b[0m \u001b[1;33m=\u001b[0m \u001b[0mself\u001b[0m\u001b[1;33m.\u001b[0m\u001b[0mcommand_executor\u001b[0m\u001b[1;33m.\u001b[0m\u001b[0mexecute\u001b[0m\u001b[1;33m(\u001b[0m\u001b[0mdriver_command\u001b[0m\u001b[1;33m,\u001b[0m \u001b[0mparams\u001b[0m\u001b[1;33m)\u001b[0m\u001b[1;33m\u001b[0m\u001b[1;33m\u001b[0m\u001b[0m\n\u001b[0;32m    320\u001b[0m         \u001b[1;32mif\u001b[0m \u001b[0mresponse\u001b[0m\u001b[1;33m:\u001b[0m\u001b[1;33m\u001b[0m\u001b[1;33m\u001b[0m\u001b[0m\n\u001b[1;32m--> 321\u001b[1;33m             \u001b[0mself\u001b[0m\u001b[1;33m.\u001b[0m\u001b[0merror_handler\u001b[0m\u001b[1;33m.\u001b[0m\u001b[0mcheck_response\u001b[0m\u001b[1;33m(\u001b[0m\u001b[0mresponse\u001b[0m\u001b[1;33m)\u001b[0m\u001b[1;33m\u001b[0m\u001b[1;33m\u001b[0m\u001b[0m\n\u001b[0m\u001b[0;32m    322\u001b[0m             response['value'] = self._unwrap_value(\n\u001b[0;32m    323\u001b[0m                 response.get('value', None))\n",
      "\u001b[1;32m~\\AppData\\Local\\Programs\\Python\\Python38-32\\lib\\site-packages\\selenium\\webdriver\\remote\\errorhandler.py\u001b[0m in \u001b[0;36mcheck_response\u001b[1;34m(self, response)\u001b[0m\n\u001b[0;32m    240\u001b[0m                 \u001b[0malert_text\u001b[0m \u001b[1;33m=\u001b[0m \u001b[0mvalue\u001b[0m\u001b[1;33m[\u001b[0m\u001b[1;34m'alert'\u001b[0m\u001b[1;33m]\u001b[0m\u001b[1;33m.\u001b[0m\u001b[0mget\u001b[0m\u001b[1;33m(\u001b[0m\u001b[1;34m'text'\u001b[0m\u001b[1;33m)\u001b[0m\u001b[1;33m\u001b[0m\u001b[1;33m\u001b[0m\u001b[0m\n\u001b[0;32m    241\u001b[0m             \u001b[1;32mraise\u001b[0m \u001b[0mexception_class\u001b[0m\u001b[1;33m(\u001b[0m\u001b[0mmessage\u001b[0m\u001b[1;33m,\u001b[0m \u001b[0mscreen\u001b[0m\u001b[1;33m,\u001b[0m \u001b[0mstacktrace\u001b[0m\u001b[1;33m,\u001b[0m \u001b[0malert_text\u001b[0m\u001b[1;33m)\u001b[0m\u001b[1;33m\u001b[0m\u001b[1;33m\u001b[0m\u001b[0m\n\u001b[1;32m--> 242\u001b[1;33m         \u001b[1;32mraise\u001b[0m \u001b[0mexception_class\u001b[0m\u001b[1;33m(\u001b[0m\u001b[0mmessage\u001b[0m\u001b[1;33m,\u001b[0m \u001b[0mscreen\u001b[0m\u001b[1;33m,\u001b[0m \u001b[0mstacktrace\u001b[0m\u001b[1;33m)\u001b[0m\u001b[1;33m\u001b[0m\u001b[1;33m\u001b[0m\u001b[0m\n\u001b[0m\u001b[0;32m    243\u001b[0m \u001b[1;33m\u001b[0m\u001b[0m\n\u001b[0;32m    244\u001b[0m     \u001b[1;32mdef\u001b[0m \u001b[0m_value_or_default\u001b[0m\u001b[1;33m(\u001b[0m\u001b[0mself\u001b[0m\u001b[1;33m,\u001b[0m \u001b[0mobj\u001b[0m\u001b[1;33m,\u001b[0m \u001b[0mkey\u001b[0m\u001b[1;33m,\u001b[0m \u001b[0mdefault\u001b[0m\u001b[1;33m)\u001b[0m\u001b[1;33m:\u001b[0m\u001b[1;33m\u001b[0m\u001b[1;33m\u001b[0m\u001b[0m\n",
      "\u001b[1;31mWebDriverException\u001b[0m: Message: chrome not reachable\n  (Session info: chrome=84.0.4147.89)\n"
     ]
    }
   ],
   "source": [
    "categories_dropdown = driver.find_element_by_xpath('//*[@id=\"compare-pickers-wrapper\"]/div/hierarchy-picker[2]/ng-include/div[1]')\n",
    "categories_dropdown.click()"
   ]
  },
  {
   "cell_type": "code",
   "execution_count": 50,
   "metadata": {},
   "outputs": [],
   "source": [
    "# Click on the \"Categories\" dropdown\n",
    "def categories_selector():\n",
    "    categories_dropdown = driver.find_element_by_xpath('//*[@id=\"compare-pickers-wrapper\"]/div/hierarchy-picker[2]/ng-include/div[1]')\n",
    "    categories_dropdown.click()\n",
    "    time.sleep(random.randint(1,11))\n",
    "    all_categories = driver.find_element_by_xpath('')\n",
    "    all_categories.click()\n",
    "    time.sleep(random.randint(3,7))"
   ]
  },
  {
   "cell_type": "code",
   "execution_count": 51,
   "metadata": {},
   "outputs": [],
   "source": [
    "# Click on the \"Web Search\" dropdown\n",
    "def web_search_selector():\n",
    "    searchtype_dropdown = driver.find_element_by_xpath('//*[@id=\"select_value_label_0\"]/span[1]/div')\n",
    "    searchtype_dropdown.click()\n",
    "    time.sleep(random.randint(1,9))\n",
    "    youtube_option = driver.find_element_by_xpath('//*[@id=\"select_option_7\"]/div')\n",
    "    youtube_option.click()\n",
    "    time.sleep(random.randint(7,15))\n",
    "    searchtype_dropdown = driver.find_element_by_xpath('//*[@id=\"select_value_label_0\"]/span[1]/div')\n",
    "    searchtype_dropdown.click()\n",
    "    time.sleep(random.randint(3,7))\n",
    "    websearch_option = driver.find_element_by_xpath('//*[@id=\"select_option_3\"]/div')\n",
    "    websearch_option.click()\n",
    "    time.sleep(random.randint(1,10))"
   ]
  },
  {
   "cell_type": "code",
   "execution_count": 52,
   "metadata": {},
   "outputs": [],
   "source": [
    "# Click on the \"Region\" dropdown\n",
    "def region_selector():\n",
    "    region_dropdown = driver.find_element_by_xpath('//*[@id=\"select_value_label_343\"]/span[1]/div')\n",
    "    region_dropdown.click()\n",
    "    time.sleep(random.randint(3,10))\n",
    "    region_option = driver.find_element_by_xpath('//*[@id=\"select_option_347\"]/div')\n",
    "    region_option.click()\n",
    "    time.sleep(random.randint(3,5))"
   ]
  },
  {
   "cell_type": "code",
   "execution_count": 53,
   "metadata": {},
   "outputs": [],
   "source": [
    "# Click on the \"include low interest regions\"\n",
    "def low_interest_regions_selector():\n",
    "    regions_checkbox = driver.find_element_by_xpath('/html/body/div[2]/div[2]/div/md-content/div/div/div[2]/trends-widget/ng-include/widget/div/div/ng-include/div/div/div[1]/low-search-volume-filter/div/md-checkbox/div[1]')\n",
    "    regions_checkbox.click()\n",
    "    time.sleep(random.randint(2,11))"
   ]
  },
  {
   "cell_type": "code",
   "execution_count": 54,
   "metadata": {},
   "outputs": [],
   "source": [
    "# Click on the \"related topics\" dropdown\n",
    "def related_topics_type_selector():\n",
    "    related_topics_dropdown = driver.find_element_by_xpath('//*[@id=\"select_value_label_299\"]/span[1]/div')\n",
    "    related_topics_dropdown.click()\n",
    "    time.sleep(random.randint(1,6))\n",
    "    increasing1_button = driver.find_element_by_xpath('//*[@id=\"select_option_300\"]/div[1]')\n",
    "    increasing1_button.click()\n",
    "    time.sleep(random.randint(1,8))"
   ]
  },
  {
   "cell_type": "code",
   "execution_count": 55,
   "metadata": {},
   "outputs": [],
   "source": [
    "# Check the related topics suggestions\n",
    "def related_topics_pages():\n",
    "    pages_clicks = random.randint(1,3)\n",
    "    if pages_clicks == 1:\n",
    "        related_topics_pages = driver.find_element_by_xpath('/html/body/div[2]/div[2]/div/md-content/div/div/div[3]/trends-widget/ng-include/widget/div/div/ng-include/div/div[6]/pagination/div/button[2]/md-icon')\n",
    "        time.sleep(random.randint(1,4))\n",
    "        related_topics_pages.click()\n",
    "        time.sleep(random.randint(6,10))\n",
    "    elif pages_clicks == 2:\n",
    "        related_topics_pages = driver.find_element_by_xpath('/html/body/div[2]/div[2]/div/md-content/div/div/div[3]/trends-widget/ng-include/widget/div/div/ng-include/div/div[6]/pagination/div/button[2]/md-icon')\n",
    "        time.sleep(random.randint(1,6))\n",
    "        related_topics_pages.click()\n",
    "        time.sleep(random.randint(11,16))\n",
    "        related_topics_pages = driver.find_element_by_xpath('/html/body/div[2]/div[2]/div/md-content/div/div/div[3]/trends-widget/ng-include/widget/div/div/ng-include/div/div[6]/pagination/div/button[2]/md-icon')\n",
    "        time.sleep(random.randint(3,5))\n",
    "        related_topics_pages.click()\n",
    "        time.sleep(random.randint(2,8))\n",
    "    else:\n",
    "        related_topics_pages = driver.find_element_by_xpath('/html/body/div[2]/div[2]/div/md-content/div/div/div[3]/trends-widget/ng-include/widget/div/div/ng-include/div/div[6]/pagination/div/button[2]/md-icon')\n",
    "        time.sleep(random.randint(1,4))\n",
    "        related_topics_pages.click()\n",
    "        time.sleep(random.randint(7,13))\n",
    "        related_topics_pages = driver.find_element_by_xpath('/html/body/div[2]/div[2]/div/md-content/div/div/div[3]/trends-widget/ng-include/widget/div/div/ng-include/div/div[6]/pagination/div/button[2]/md-icon')\n",
    "        time.sleep(random.randint(2,5))\n",
    "        related_topics_pages.click()\n",
    "        time.sleep(random.randint(11,14))\n",
    "        related_topics_pages = driver.find_element_by_xpath('/html/body/div[2]/div[2]/div/md-content/div/div/div[3]/trends-widget/ng-include/widget/div/div/ng-include/div/div[6]/pagination/div/button[2]/md-icon')\n",
    "        time.sleep(random.randint(3,7))\n",
    "        related_topics_pages.click()\n",
    "        time.sleep(random.randint(6,8))"
   ]
  },
  {
   "cell_type": "code",
   "execution_count": 56,
   "metadata": {},
   "outputs": [],
   "source": [
    "# Click on the related searches dropdown\n",
    "def related_searches_dropdown():\n",
    "    related_searches_dropdown = driver.find_element_by_xpath('//*[@id=\"select_value_label_304\"]/span[1]/div')\n",
    "    related_searches_dropdown.click()\n",
    "    time.sleep(random.randint(5,9))\n",
    "    main_button = driver.find_element_by_xpath('//*[@id=\"select_option_306\"]/div[1]')\n",
    "    main_button.click()\n",
    "    time.sleep(random.randint(3,12))"
   ]
  },
  {
   "cell_type": "code",
   "execution_count": 57,
   "metadata": {},
   "outputs": [],
   "source": [
    "# Click on the \"overtime interest\" help button\n",
    "def overtime_interest_help():\n",
    "    overtime_help = driver.find_element_by_xpath('/html/body/div[2]/div[2]/div/md-content/div/div/div[1]/trends-widget/ng-include/widget/div/div/div/div/help-dialog/button/i')\n",
    "    overtime_help.click()\n",
    "    time.sleep(random.randint(3,7))\n",
    "    overtime_help_close = driver.find_element_by_xpath('//*[@id=\"dialogContent_355\"]/div/div[2]/md-icon')\n",
    "    overtime_help_close.click()\n",
    "    time.sleep(random.randint(1,5))"
   ]
  },
  {
   "cell_type": "code",
   "execution_count": 58,
   "metadata": {},
   "outputs": [],
   "source": [
    "# Click on the \"regional interest\" help button\n",
    "def regional_interest_help():\n",
    "    region_help = driver.find_element_by_xpath('/html/body/div[2]/div[2]/div/md-content/div/div/div[2]/trends-widget/ng-include/widget/div/div/div/div[1]/help-dialog/button/i')\n",
    "    region_help.click()\n",
    "    time.sleep(random.randint(4,6))\n",
    "    region_help_close = driver.find_element_by_xpath('//*[@id=\"dialogContent_356\"]/div/div[2]/md-icon')\n",
    "    region_help_close.click()\n",
    "    time.sleep(random.randint(1,8))"
   ]
  },
  {
   "cell_type": "code",
   "execution_count": 59,
   "metadata": {},
   "outputs": [],
   "source": [
    "# Click on the \"related topics\" help button\n",
    "def related_topics_help():\n",
    "    topics_help = driver.find_element_by_xpath('/html/body/div[2]/div[2]/div/md-content/div/div/div[3]/trends-widget/ng-include/widget/div/div/div/div/help-dialog/button/i')\n",
    "    topics_help.click()\n",
    "    time.sleep(random.randint(2,7))\n",
    "    topics_help_close = driver.find_element_by_xpath('//*[@id=\"dialogContent_357\"]/div/div[2]/md-icon')\n",
    "    topics_help_close.click()\n",
    "    time.sleep(random.randint(2,6))"
   ]
  },
  {
   "cell_type": "code",
   "execution_count": 60,
   "metadata": {},
   "outputs": [],
   "source": [
    "# Click on the \"related searches\" help button\n",
    "def related_searches_help():\n",
    "    searches_help = driver.find_element_by_xpath('/html/body/div[2]/div[2]/div/md-content/div/div/div[4]/trends-widget/ng-include/widget/div/div/div/div/help-dialog/button/i')\n",
    "    searches_help.click()\n",
    "    time.sleep(random.randint(7,9))\n",
    "    searches_help_close = driver.find_element_by_xpath('//*[@id=\"dialogContent_358\"]/div/div[2]/md-icon')\n",
    "    searches_help_close.click()\n",
    "    time.sleep(random.randint(4,10))"
   ]
  },
  {
   "cell_type": "code",
   "execution_count": 61,
   "metadata": {},
   "outputs": [],
   "source": [
    "# Create a function to randomly determine which fake funtions to use and \n",
    "    # in which order to use them.\n",
    "\n",
    "def human_errors(x,y):\n",
    "    counter = 0\n",
    "    while counter<random.randint(x,y):\n",
    "        counter += 1\n",
    "        function = random.randint(1,13)\n",
    "        if function == 1:\n",
    "            do_or_not = random.randint(0,1)\n",
    "            if do_or_not == 1:\n",
    "                compare_trend()\n",
    "        if function == 2:\n",
    "            do_or_not = random.randint(0,1)\n",
    "            if do_or_not == 1:\n",
    "                graph_clicker()\n",
    "        if function == 3:\n",
    "            do_or_not = random.randint(0,1)\n",
    "            if do_or_not == 1:\n",
    "                categories_selector()\n",
    "        if function == 4:\n",
    "            do_or_not = random.randint(0,1)\n",
    "            if do_or_not == 1:\n",
    "                web_search_selector()\n",
    "        if function == 5:\n",
    "            do_or_not = random.randint(0,1)\n",
    "            if do_or_not == 1:\n",
    "                region_selector()\n",
    "        if function == 6:\n",
    "            do_or_not = random.randint(0,1)\n",
    "            if do_or_not == 1:\n",
    "                low_interest_regions_selector()\n",
    "        if function == 7:\n",
    "            do_or_not = random.randint(0,1)\n",
    "            if do_or_not == 1:\n",
    "                related_topics_type_selector()\n",
    "        if function == 8:\n",
    "            do_or_not = random.randint(0,1)\n",
    "            if do_or_not == 1:\n",
    "                related_topics_pages()\n",
    "        if function == 9:\n",
    "            do_or_not = random.randint(0,1)\n",
    "            if do_or_not == 1:\n",
    "                related_searches_dropdown()\n",
    "        if function == 10:\n",
    "            do_or_not = random.randint(0,1)\n",
    "            if do_or_not == 1:\n",
    "                overtime_interest_help()\n",
    "        if function == 11:\n",
    "            do_or_not = random.randint(0,1)\n",
    "            if do_or_not == 1:\n",
    "                regional_interest_help()\n",
    "        if function == 12:\n",
    "            do_or_not = random.randint(0,1)\n",
    "            if do_or_not == 1:\n",
    "                related_topics_help()\n",
    "        if function == 13:\n",
    "            do_or_not = random.randint(0,1)\n",
    "            if do_or_not == 1:\n",
    "                related_searches_help()"
   ]
  },
  {
   "cell_type": "code",
   "execution_count": null,
   "metadata": {},
   "outputs": [],
   "source": []
  },
  {
   "cell_type": "code",
   "execution_count": null,
   "metadata": {},
   "outputs": [],
   "source": []
  },
  {
   "cell_type": "code",
   "execution_count": 3,
   "metadata": {
    "scrolled": true
   },
   "outputs": [],
   "source": [
    "    url = \"https://trends.google.es/trends/\"\n",
    "    driver = webdriver.Chrome(r'C:\\Users\\ppaau\\Desktop\\Academic\\IronHack\\Projects\\Project-Week-5-Your-Own-Project\\chromedriver.exe')\n",
    "    driver.get(url)"
   ]
  },
  {
   "cell_type": "code",
   "execution_count": 8,
   "metadata": {},
   "outputs": [],
   "source": [
    "search_box = driver.find_element_by_xpath('/html/body/div[2]/div[2]/div/ng-include/div/div[2]/autocomplete')"
   ]
  },
  {
   "cell_type": "code",
   "execution_count": 9,
   "metadata": {},
   "outputs": [],
   "source": [
    "search_box.click()"
   ]
  },
  {
   "cell_type": "code",
   "execution_count": 12,
   "metadata": {},
   "outputs": [],
   "source": [
    "click_boto = driver.find_element_by_xpath('//*[@id=\"input-254\"]')\n",
    "search = top_locations[0]\n",
    "click_boto.send_keys(search)"
   ]
  },
  {
   "cell_type": "code",
   "execution_count": 13,
   "metadata": {},
   "outputs": [],
   "source": [
    "    search_button = driver.find_element_by_xpath('//*[@id=\"input-254\"]')\n",
    "    search_button.send_keys(u'\\ue007')"
   ]
  },
  {
   "cell_type": "code",
   "execution_count": 14,
   "metadata": {},
   "outputs": [],
   "source": [
    "driver.close()"
   ]
  },
  {
   "cell_type": "code",
   "execution_count": null,
   "metadata": {},
   "outputs": [],
   "source": []
  },
  {
   "cell_type": "code",
   "execution_count": 62,
   "metadata": {},
   "outputs": [],
   "source": [
    "def trends_downloader(x):\n",
    "    # Opens the url\n",
    "    url = \"https://trends.google.es/trends/\"\n",
    "    driver = webdriver.Chrome(r'C:\\Users\\ppaau\\Desktop\\Academic\\IronHack\\Projects\\Project-Week-5-Your-Own-Project\\chromedriver.exe')\n",
    "    driver.get(url)\n",
    "    print(\"URL opened correctly\")\n",
    "    time.sleep(random.randint(random.randint(5,10), random.randint(11,14)))\n",
    "    # Find the text search box\n",
    "    search_box = driver.find_element_by_xpath('/html/body/div[2]/div[2]/div/ng-include/div/div[2]/autocomplete')\n",
    "    time.sleep(random.randint(random.randint(2,8), random.randint(9,14)))\n",
    "    print(\"text search box found 1\")\n",
    "    # Clicks on the search box to do the search\n",
    "    search_box.click()\n",
    "    time.sleep(random.randint(random.randint(1,3), random.randint(4,8)))\n",
    "    # Textes the needed search on the text box\n",
    "    click_boto = driver.find_element_by_xpath('//*[@id=\"input-254\"]')\n",
    "    search = x[0]\n",
    "    click_boto.send_keys(search)\n",
    "    print(\"Text inputed correctly\")\n",
    "    # Presses enter to proceed with the search\n",
    "    search_button = driver.find_element_by_xpath('//*[@id=\"input-254\"]')\n",
    "    search_button.send_keys(u'\\ue007')\n",
    "    print(\"Enter pressed correctly 1\")\n",
    "    time.sleep(random.randint(random.randint(7,12), random.randint(14,17)))\n",
    "    # We simulate some human errors before doing the first download\n",
    "    human_errors(1,4)\n",
    "    print(\"Human errors simulated correctly 1\")\n",
    "    # Select the geografical location \"All the world\"\n",
    "    location_button = driver.find_element_by_xpath('//*[@id=\"compare-pickers-wrapper\"]/div/hierarchy-picker[1]/ng-include')\n",
    "    location_button.click()\n",
    "    time.sleep(random.randint(random.randint(3,5), random.randint(5,14)))\n",
    "    world_button = driver.find_element_by_xpath('//*[@id=\"ul-10\"]/li[1]/md-autocomplete-parent-scope/div/div/span')\n",
    "    world_button.click()\n",
    "    print(\"Region defined correctly 1\")\n",
    "    time.sleep(random.randint(random.randint(5,10), random.randint(11,14)))\n",
    "    # Select timeframe of our data\n",
    "    timeframe_button = driver.find_element_by_xpath('//*[@id=\"select_11\"]')\n",
    "    timeframe_button.click()\n",
    "    time.sleep(random.randint(random.randint(4,6), random.randint(7,11)))\n",
    "    five_year_button = driver.find_element_by_xpath('//*[@id=\"select_option_21\"]/div[1]')\n",
    "    five_year_button.click()\n",
    "    print(\"Timeframe defined correctly 1\")\n",
    "    time.sleep(random.randint(random.randint(5,10), random.randint(11,14)))\n",
    "    # Localizes download button and clicks on it!\n",
    "    download_button = driver.find_element_by_xpath('/html/body/div[2]/div[2]/div/md-content/div/div/div[1]/trends-widget/ng-include/widget/div/div/div/widget-actions/div/button[1]')\n",
    "    download_button.click()\n",
    "    time.sleep(random.randint(random.randint(3,6), random.randint(8,9)))\n",
    "    \n",
    "    for i in range(1, len(x)):\n",
    "        # Finds the search box again\n",
    "        re_search_button = driver.find_element_by_xpath('//*[@id=\"input-24\"]')\n",
    "        time.sleep(random.randint(random.randint(3,6), random.randint(7,9)))\n",
    "        print(\"ReSearch button found correctly\"+[i])\n",
    "        # Clears the text from the search box\n",
    "        re_search_button.clear()\n",
    "        print(\"Search box cleared correctly\"+[i])\n",
    "        time.sleep(random.randint(random.randint(2,5), random.randint(6,7)))\n",
    "        # Randomize whether we imput a fake search or not\n",
    "        if random.randint(0,1) == 1:\n",
    "            fake_wrong_search()\n",
    "        print(\"Fake search randomization done correctly \"+[i])\n",
    "        # Randomize whether we click on the textbox multiple times or not\n",
    "        if random.randint(0,1) == 1:\n",
    "            multiple_searchbox_clicks()\n",
    "        print(\"Multiple click randomization done correctly \"+[i])\n",
    "        # Sending search text\n",
    "        time.sleep(random.randint(7, 27))\n",
    "        search = x[i]\n",
    "        re_search_button.send_keys(search)\n",
    "        re_search_button.send_keys(u'\\ue007')\n",
    "        print(\"New search written and entered done correctly \"+[i])\n",
    "        time.sleep(random.randint(random.randint(5,10), random.randint(11,17)))\n",
    "        # Call to the human error function\n",
    "        human_errors(random.randint(2,5),random.randint(6,11))\n",
    "        print(\"Human errors simulated correctly \"+[i])\n",
    "        # Localizes download button and clicks on it!\n",
    "        download_button = driver.find_element_by_xpath('/html/body/div[2]/div[2]/div/md-content/div/div/div[1]/trends-widget/ng-include/widget/div/div/div/widget-actions/div/button[1]')\n",
    "        download_button.click()\n",
    "        time.sleep(random.randint(random.randint(7,11), random.randint(12,20)))"
   ]
  },
  {
   "cell_type": "code",
   "execution_count": 69,
   "metadata": {},
   "outputs": [
    {
     "ename": "WebDriverException",
     "evalue": "Message: chrome not reachable\n  (Session info: chrome=84.0.4147.89)\n",
     "output_type": "error",
     "traceback": [
      "\u001b[1;31m---------------------------------------------------------------------------\u001b[0m",
      "\u001b[1;31mWebDriverException\u001b[0m                        Traceback (most recent call last)",
      "\u001b[1;32m<ipython-input-69-ef3432ca7f15>\u001b[0m in \u001b[0;36m<module>\u001b[1;34m\u001b[0m\n\u001b[1;32m----> 1\u001b[1;33m \u001b[0mtime_button\u001b[0m \u001b[1;33m=\u001b[0m \u001b[0mdriver\u001b[0m\u001b[1;33m.\u001b[0m\u001b[0mfind_element_by_xpath\u001b[0m\u001b[1;33m(\u001b[0m\u001b[1;34m'//*[@id=\"select_value_label_11\"]/span[1]/div'\u001b[0m\u001b[1;33m)\u001b[0m\u001b[1;33m\u001b[0m\u001b[1;33m\u001b[0m\u001b[0m\n\u001b[0m\u001b[0;32m      2\u001b[0m \u001b[0mtime_button\u001b[0m\u001b[1;33m.\u001b[0m\u001b[0mclick\u001b[0m\u001b[1;33m(\u001b[0m\u001b[1;33m)\u001b[0m\u001b[1;33m\u001b[0m\u001b[1;33m\u001b[0m\u001b[0m\n",
      "\u001b[1;32m~\\AppData\\Local\\Programs\\Python\\Python38-32\\lib\\site-packages\\selenium\\webdriver\\remote\\webdriver.py\u001b[0m in \u001b[0;36mfind_element_by_xpath\u001b[1;34m(self, xpath)\u001b[0m\n\u001b[0;32m    392\u001b[0m             \u001b[0melement\u001b[0m \u001b[1;33m=\u001b[0m \u001b[0mdriver\u001b[0m\u001b[1;33m.\u001b[0m\u001b[0mfind_element_by_xpath\u001b[0m\u001b[1;33m(\u001b[0m\u001b[1;34m'//div/td[1]'\u001b[0m\u001b[1;33m)\u001b[0m\u001b[1;33m\u001b[0m\u001b[1;33m\u001b[0m\u001b[0m\n\u001b[0;32m    393\u001b[0m         \"\"\"\n\u001b[1;32m--> 394\u001b[1;33m         \u001b[1;32mreturn\u001b[0m \u001b[0mself\u001b[0m\u001b[1;33m.\u001b[0m\u001b[0mfind_element\u001b[0m\u001b[1;33m(\u001b[0m\u001b[0mby\u001b[0m\u001b[1;33m=\u001b[0m\u001b[0mBy\u001b[0m\u001b[1;33m.\u001b[0m\u001b[0mXPATH\u001b[0m\u001b[1;33m,\u001b[0m \u001b[0mvalue\u001b[0m\u001b[1;33m=\u001b[0m\u001b[0mxpath\u001b[0m\u001b[1;33m)\u001b[0m\u001b[1;33m\u001b[0m\u001b[1;33m\u001b[0m\u001b[0m\n\u001b[0m\u001b[0;32m    395\u001b[0m \u001b[1;33m\u001b[0m\u001b[0m\n\u001b[0;32m    396\u001b[0m     \u001b[1;32mdef\u001b[0m \u001b[0mfind_elements_by_xpath\u001b[0m\u001b[1;33m(\u001b[0m\u001b[0mself\u001b[0m\u001b[1;33m,\u001b[0m \u001b[0mxpath\u001b[0m\u001b[1;33m)\u001b[0m\u001b[1;33m:\u001b[0m\u001b[1;33m\u001b[0m\u001b[1;33m\u001b[0m\u001b[0m\n",
      "\u001b[1;32m~\\AppData\\Local\\Programs\\Python\\Python38-32\\lib\\site-packages\\selenium\\webdriver\\remote\\webdriver.py\u001b[0m in \u001b[0;36mfind_element\u001b[1;34m(self, by, value)\u001b[0m\n\u001b[0;32m    974\u001b[0m                 \u001b[0mby\u001b[0m \u001b[1;33m=\u001b[0m \u001b[0mBy\u001b[0m\u001b[1;33m.\u001b[0m\u001b[0mCSS_SELECTOR\u001b[0m\u001b[1;33m\u001b[0m\u001b[1;33m\u001b[0m\u001b[0m\n\u001b[0;32m    975\u001b[0m                 \u001b[0mvalue\u001b[0m \u001b[1;33m=\u001b[0m \u001b[1;34m'[name=\"%s\"]'\u001b[0m \u001b[1;33m%\u001b[0m \u001b[0mvalue\u001b[0m\u001b[1;33m\u001b[0m\u001b[1;33m\u001b[0m\u001b[0m\n\u001b[1;32m--> 976\u001b[1;33m         return self.execute(Command.FIND_ELEMENT, {\n\u001b[0m\u001b[0;32m    977\u001b[0m             \u001b[1;34m'using'\u001b[0m\u001b[1;33m:\u001b[0m \u001b[0mby\u001b[0m\u001b[1;33m,\u001b[0m\u001b[1;33m\u001b[0m\u001b[1;33m\u001b[0m\u001b[0m\n\u001b[0;32m    978\u001b[0m             'value': value})['value']\n",
      "\u001b[1;32m~\\AppData\\Local\\Programs\\Python\\Python38-32\\lib\\site-packages\\selenium\\webdriver\\remote\\webdriver.py\u001b[0m in \u001b[0;36mexecute\u001b[1;34m(self, driver_command, params)\u001b[0m\n\u001b[0;32m    319\u001b[0m         \u001b[0mresponse\u001b[0m \u001b[1;33m=\u001b[0m \u001b[0mself\u001b[0m\u001b[1;33m.\u001b[0m\u001b[0mcommand_executor\u001b[0m\u001b[1;33m.\u001b[0m\u001b[0mexecute\u001b[0m\u001b[1;33m(\u001b[0m\u001b[0mdriver_command\u001b[0m\u001b[1;33m,\u001b[0m \u001b[0mparams\u001b[0m\u001b[1;33m)\u001b[0m\u001b[1;33m\u001b[0m\u001b[1;33m\u001b[0m\u001b[0m\n\u001b[0;32m    320\u001b[0m         \u001b[1;32mif\u001b[0m \u001b[0mresponse\u001b[0m\u001b[1;33m:\u001b[0m\u001b[1;33m\u001b[0m\u001b[1;33m\u001b[0m\u001b[0m\n\u001b[1;32m--> 321\u001b[1;33m             \u001b[0mself\u001b[0m\u001b[1;33m.\u001b[0m\u001b[0merror_handler\u001b[0m\u001b[1;33m.\u001b[0m\u001b[0mcheck_response\u001b[0m\u001b[1;33m(\u001b[0m\u001b[0mresponse\u001b[0m\u001b[1;33m)\u001b[0m\u001b[1;33m\u001b[0m\u001b[1;33m\u001b[0m\u001b[0m\n\u001b[0m\u001b[0;32m    322\u001b[0m             response['value'] = self._unwrap_value(\n\u001b[0;32m    323\u001b[0m                 response.get('value', None))\n",
      "\u001b[1;32m~\\AppData\\Local\\Programs\\Python\\Python38-32\\lib\\site-packages\\selenium\\webdriver\\remote\\errorhandler.py\u001b[0m in \u001b[0;36mcheck_response\u001b[1;34m(self, response)\u001b[0m\n\u001b[0;32m    240\u001b[0m                 \u001b[0malert_text\u001b[0m \u001b[1;33m=\u001b[0m \u001b[0mvalue\u001b[0m\u001b[1;33m[\u001b[0m\u001b[1;34m'alert'\u001b[0m\u001b[1;33m]\u001b[0m\u001b[1;33m.\u001b[0m\u001b[0mget\u001b[0m\u001b[1;33m(\u001b[0m\u001b[1;34m'text'\u001b[0m\u001b[1;33m)\u001b[0m\u001b[1;33m\u001b[0m\u001b[1;33m\u001b[0m\u001b[0m\n\u001b[0;32m    241\u001b[0m             \u001b[1;32mraise\u001b[0m \u001b[0mexception_class\u001b[0m\u001b[1;33m(\u001b[0m\u001b[0mmessage\u001b[0m\u001b[1;33m,\u001b[0m \u001b[0mscreen\u001b[0m\u001b[1;33m,\u001b[0m \u001b[0mstacktrace\u001b[0m\u001b[1;33m,\u001b[0m \u001b[0malert_text\u001b[0m\u001b[1;33m)\u001b[0m\u001b[1;33m\u001b[0m\u001b[1;33m\u001b[0m\u001b[0m\n\u001b[1;32m--> 242\u001b[1;33m         \u001b[1;32mraise\u001b[0m \u001b[0mexception_class\u001b[0m\u001b[1;33m(\u001b[0m\u001b[0mmessage\u001b[0m\u001b[1;33m,\u001b[0m \u001b[0mscreen\u001b[0m\u001b[1;33m,\u001b[0m \u001b[0mstacktrace\u001b[0m\u001b[1;33m)\u001b[0m\u001b[1;33m\u001b[0m\u001b[1;33m\u001b[0m\u001b[0m\n\u001b[0m\u001b[0;32m    243\u001b[0m \u001b[1;33m\u001b[0m\u001b[0m\n\u001b[0;32m    244\u001b[0m     \u001b[1;32mdef\u001b[0m \u001b[0m_value_or_default\u001b[0m\u001b[1;33m(\u001b[0m\u001b[0mself\u001b[0m\u001b[1;33m,\u001b[0m \u001b[0mobj\u001b[0m\u001b[1;33m,\u001b[0m \u001b[0mkey\u001b[0m\u001b[1;33m,\u001b[0m \u001b[0mdefault\u001b[0m\u001b[1;33m)\u001b[0m\u001b[1;33m:\u001b[0m\u001b[1;33m\u001b[0m\u001b[1;33m\u001b[0m\u001b[0m\n",
      "\u001b[1;31mWebDriverException\u001b[0m: Message: chrome not reachable\n  (Session info: chrome=84.0.4147.89)\n"
     ]
    }
   ],
   "source": [
    "time_button = driver.find_element_by_xpath('//*[@id=\"select_value_label_11\"]/span[1]/div')\n",
    "time_button.click()"
   ]
  },
  {
   "cell_type": "code",
   "execution_count": 64,
   "metadata": {},
   "outputs": [
    {
     "data": {
      "text/plain": [
       "False"
      ]
     },
     "execution_count": 64,
     "metadata": {},
     "output_type": "execute_result"
    }
   ],
   "source": [
    "'//*[@id=\"select_value_label_11\"]/span[1]/div' == '//*[@id=\"select_11\"]'"
   ]
  },
  {
   "cell_type": "code",
   "execution_count": 63,
   "metadata": {
    "scrolled": true
   },
   "outputs": [
    {
     "name": "stdout",
     "output_type": "stream",
     "text": [
      "URL opened correctly\n",
      "text search box found 1\n",
      "Text inputed correctly\n",
      "Enter pressed correctly 1\n",
      "Human errors simulated correctly 1\n",
      "Region defined correctly 1\n"
     ]
    },
    {
     "ename": "NoSuchElementException",
     "evalue": "Message: no such element: Unable to locate element: {\"method\":\"xpath\",\"selector\":\"//*[@id=\"select_11\"]\"}\n  (Session info: chrome=84.0.4147.89)\n",
     "output_type": "error",
     "traceback": [
      "\u001b[1;31m---------------------------------------------------------------------------\u001b[0m",
      "\u001b[1;31mNoSuchElementException\u001b[0m                    Traceback (most recent call last)",
      "\u001b[1;32m<ipython-input-63-4a914b0756f7>\u001b[0m in \u001b[0;36m<module>\u001b[1;34m\u001b[0m\n\u001b[1;32m----> 1\u001b[1;33m \u001b[0mtrends_downloader\u001b[0m\u001b[1;33m(\u001b[0m\u001b[0mtop_locations\u001b[0m\u001b[1;33m)\u001b[0m\u001b[1;33m\u001b[0m\u001b[1;33m\u001b[0m\u001b[0m\n\u001b[0m",
      "\u001b[1;32m<ipython-input-62-909b0c0c61f7>\u001b[0m in \u001b[0;36mtrends_downloader\u001b[1;34m(x)\u001b[0m\n\u001b[0;32m     35\u001b[0m     \u001b[0mtime\u001b[0m\u001b[1;33m.\u001b[0m\u001b[0msleep\u001b[0m\u001b[1;33m(\u001b[0m\u001b[0mrandom\u001b[0m\u001b[1;33m.\u001b[0m\u001b[0mrandint\u001b[0m\u001b[1;33m(\u001b[0m\u001b[0mrandom\u001b[0m\u001b[1;33m.\u001b[0m\u001b[0mrandint\u001b[0m\u001b[1;33m(\u001b[0m\u001b[1;36m5\u001b[0m\u001b[1;33m,\u001b[0m\u001b[1;36m10\u001b[0m\u001b[1;33m)\u001b[0m\u001b[1;33m,\u001b[0m \u001b[0mrandom\u001b[0m\u001b[1;33m.\u001b[0m\u001b[0mrandint\u001b[0m\u001b[1;33m(\u001b[0m\u001b[1;36m11\u001b[0m\u001b[1;33m,\u001b[0m\u001b[1;36m14\u001b[0m\u001b[1;33m)\u001b[0m\u001b[1;33m)\u001b[0m\u001b[1;33m)\u001b[0m\u001b[1;33m\u001b[0m\u001b[1;33m\u001b[0m\u001b[0m\n\u001b[0;32m     36\u001b[0m     \u001b[1;31m# Select timeframe of our data\u001b[0m\u001b[1;33m\u001b[0m\u001b[1;33m\u001b[0m\u001b[1;33m\u001b[0m\u001b[0m\n\u001b[1;32m---> 37\u001b[1;33m     \u001b[0mtimeframe_button\u001b[0m \u001b[1;33m=\u001b[0m \u001b[0mdriver\u001b[0m\u001b[1;33m.\u001b[0m\u001b[0mfind_element_by_xpath\u001b[0m\u001b[1;33m(\u001b[0m\u001b[1;34m'//*[@id=\"select_11\"]'\u001b[0m\u001b[1;33m)\u001b[0m\u001b[1;33m\u001b[0m\u001b[1;33m\u001b[0m\u001b[0m\n\u001b[0m\u001b[0;32m     38\u001b[0m     \u001b[0mtimeframe_button\u001b[0m\u001b[1;33m.\u001b[0m\u001b[0mclick\u001b[0m\u001b[1;33m(\u001b[0m\u001b[1;33m)\u001b[0m\u001b[1;33m\u001b[0m\u001b[1;33m\u001b[0m\u001b[0m\n\u001b[0;32m     39\u001b[0m     \u001b[0mtime\u001b[0m\u001b[1;33m.\u001b[0m\u001b[0msleep\u001b[0m\u001b[1;33m(\u001b[0m\u001b[0mrandom\u001b[0m\u001b[1;33m.\u001b[0m\u001b[0mrandint\u001b[0m\u001b[1;33m(\u001b[0m\u001b[0mrandom\u001b[0m\u001b[1;33m.\u001b[0m\u001b[0mrandint\u001b[0m\u001b[1;33m(\u001b[0m\u001b[1;36m4\u001b[0m\u001b[1;33m,\u001b[0m\u001b[1;36m6\u001b[0m\u001b[1;33m)\u001b[0m\u001b[1;33m,\u001b[0m \u001b[0mrandom\u001b[0m\u001b[1;33m.\u001b[0m\u001b[0mrandint\u001b[0m\u001b[1;33m(\u001b[0m\u001b[1;36m7\u001b[0m\u001b[1;33m,\u001b[0m\u001b[1;36m11\u001b[0m\u001b[1;33m)\u001b[0m\u001b[1;33m)\u001b[0m\u001b[1;33m)\u001b[0m\u001b[1;33m\u001b[0m\u001b[1;33m\u001b[0m\u001b[0m\n",
      "\u001b[1;32m~\\AppData\\Local\\Programs\\Python\\Python38-32\\lib\\site-packages\\selenium\\webdriver\\remote\\webdriver.py\u001b[0m in \u001b[0;36mfind_element_by_xpath\u001b[1;34m(self, xpath)\u001b[0m\n\u001b[0;32m    392\u001b[0m             \u001b[0melement\u001b[0m \u001b[1;33m=\u001b[0m \u001b[0mdriver\u001b[0m\u001b[1;33m.\u001b[0m\u001b[0mfind_element_by_xpath\u001b[0m\u001b[1;33m(\u001b[0m\u001b[1;34m'//div/td[1]'\u001b[0m\u001b[1;33m)\u001b[0m\u001b[1;33m\u001b[0m\u001b[1;33m\u001b[0m\u001b[0m\n\u001b[0;32m    393\u001b[0m         \"\"\"\n\u001b[1;32m--> 394\u001b[1;33m         \u001b[1;32mreturn\u001b[0m \u001b[0mself\u001b[0m\u001b[1;33m.\u001b[0m\u001b[0mfind_element\u001b[0m\u001b[1;33m(\u001b[0m\u001b[0mby\u001b[0m\u001b[1;33m=\u001b[0m\u001b[0mBy\u001b[0m\u001b[1;33m.\u001b[0m\u001b[0mXPATH\u001b[0m\u001b[1;33m,\u001b[0m \u001b[0mvalue\u001b[0m\u001b[1;33m=\u001b[0m\u001b[0mxpath\u001b[0m\u001b[1;33m)\u001b[0m\u001b[1;33m\u001b[0m\u001b[1;33m\u001b[0m\u001b[0m\n\u001b[0m\u001b[0;32m    395\u001b[0m \u001b[1;33m\u001b[0m\u001b[0m\n\u001b[0;32m    396\u001b[0m     \u001b[1;32mdef\u001b[0m \u001b[0mfind_elements_by_xpath\u001b[0m\u001b[1;33m(\u001b[0m\u001b[0mself\u001b[0m\u001b[1;33m,\u001b[0m \u001b[0mxpath\u001b[0m\u001b[1;33m)\u001b[0m\u001b[1;33m:\u001b[0m\u001b[1;33m\u001b[0m\u001b[1;33m\u001b[0m\u001b[0m\n",
      "\u001b[1;32m~\\AppData\\Local\\Programs\\Python\\Python38-32\\lib\\site-packages\\selenium\\webdriver\\remote\\webdriver.py\u001b[0m in \u001b[0;36mfind_element\u001b[1;34m(self, by, value)\u001b[0m\n\u001b[0;32m    974\u001b[0m                 \u001b[0mby\u001b[0m \u001b[1;33m=\u001b[0m \u001b[0mBy\u001b[0m\u001b[1;33m.\u001b[0m\u001b[0mCSS_SELECTOR\u001b[0m\u001b[1;33m\u001b[0m\u001b[1;33m\u001b[0m\u001b[0m\n\u001b[0;32m    975\u001b[0m                 \u001b[0mvalue\u001b[0m \u001b[1;33m=\u001b[0m \u001b[1;34m'[name=\"%s\"]'\u001b[0m \u001b[1;33m%\u001b[0m \u001b[0mvalue\u001b[0m\u001b[1;33m\u001b[0m\u001b[1;33m\u001b[0m\u001b[0m\n\u001b[1;32m--> 976\u001b[1;33m         return self.execute(Command.FIND_ELEMENT, {\n\u001b[0m\u001b[0;32m    977\u001b[0m             \u001b[1;34m'using'\u001b[0m\u001b[1;33m:\u001b[0m \u001b[0mby\u001b[0m\u001b[1;33m,\u001b[0m\u001b[1;33m\u001b[0m\u001b[1;33m\u001b[0m\u001b[0m\n\u001b[0;32m    978\u001b[0m             'value': value})['value']\n",
      "\u001b[1;32m~\\AppData\\Local\\Programs\\Python\\Python38-32\\lib\\site-packages\\selenium\\webdriver\\remote\\webdriver.py\u001b[0m in \u001b[0;36mexecute\u001b[1;34m(self, driver_command, params)\u001b[0m\n\u001b[0;32m    319\u001b[0m         \u001b[0mresponse\u001b[0m \u001b[1;33m=\u001b[0m \u001b[0mself\u001b[0m\u001b[1;33m.\u001b[0m\u001b[0mcommand_executor\u001b[0m\u001b[1;33m.\u001b[0m\u001b[0mexecute\u001b[0m\u001b[1;33m(\u001b[0m\u001b[0mdriver_command\u001b[0m\u001b[1;33m,\u001b[0m \u001b[0mparams\u001b[0m\u001b[1;33m)\u001b[0m\u001b[1;33m\u001b[0m\u001b[1;33m\u001b[0m\u001b[0m\n\u001b[0;32m    320\u001b[0m         \u001b[1;32mif\u001b[0m \u001b[0mresponse\u001b[0m\u001b[1;33m:\u001b[0m\u001b[1;33m\u001b[0m\u001b[1;33m\u001b[0m\u001b[0m\n\u001b[1;32m--> 321\u001b[1;33m             \u001b[0mself\u001b[0m\u001b[1;33m.\u001b[0m\u001b[0merror_handler\u001b[0m\u001b[1;33m.\u001b[0m\u001b[0mcheck_response\u001b[0m\u001b[1;33m(\u001b[0m\u001b[0mresponse\u001b[0m\u001b[1;33m)\u001b[0m\u001b[1;33m\u001b[0m\u001b[1;33m\u001b[0m\u001b[0m\n\u001b[0m\u001b[0;32m    322\u001b[0m             response['value'] = self._unwrap_value(\n\u001b[0;32m    323\u001b[0m                 response.get('value', None))\n",
      "\u001b[1;32m~\\AppData\\Local\\Programs\\Python\\Python38-32\\lib\\site-packages\\selenium\\webdriver\\remote\\errorhandler.py\u001b[0m in \u001b[0;36mcheck_response\u001b[1;34m(self, response)\u001b[0m\n\u001b[0;32m    240\u001b[0m                 \u001b[0malert_text\u001b[0m \u001b[1;33m=\u001b[0m \u001b[0mvalue\u001b[0m\u001b[1;33m[\u001b[0m\u001b[1;34m'alert'\u001b[0m\u001b[1;33m]\u001b[0m\u001b[1;33m.\u001b[0m\u001b[0mget\u001b[0m\u001b[1;33m(\u001b[0m\u001b[1;34m'text'\u001b[0m\u001b[1;33m)\u001b[0m\u001b[1;33m\u001b[0m\u001b[1;33m\u001b[0m\u001b[0m\n\u001b[0;32m    241\u001b[0m             \u001b[1;32mraise\u001b[0m \u001b[0mexception_class\u001b[0m\u001b[1;33m(\u001b[0m\u001b[0mmessage\u001b[0m\u001b[1;33m,\u001b[0m \u001b[0mscreen\u001b[0m\u001b[1;33m,\u001b[0m \u001b[0mstacktrace\u001b[0m\u001b[1;33m,\u001b[0m \u001b[0malert_text\u001b[0m\u001b[1;33m)\u001b[0m\u001b[1;33m\u001b[0m\u001b[1;33m\u001b[0m\u001b[0m\n\u001b[1;32m--> 242\u001b[1;33m         \u001b[1;32mraise\u001b[0m \u001b[0mexception_class\u001b[0m\u001b[1;33m(\u001b[0m\u001b[0mmessage\u001b[0m\u001b[1;33m,\u001b[0m \u001b[0mscreen\u001b[0m\u001b[1;33m,\u001b[0m \u001b[0mstacktrace\u001b[0m\u001b[1;33m)\u001b[0m\u001b[1;33m\u001b[0m\u001b[1;33m\u001b[0m\u001b[0m\n\u001b[0m\u001b[0;32m    243\u001b[0m \u001b[1;33m\u001b[0m\u001b[0m\n\u001b[0;32m    244\u001b[0m     \u001b[1;32mdef\u001b[0m \u001b[0m_value_or_default\u001b[0m\u001b[1;33m(\u001b[0m\u001b[0mself\u001b[0m\u001b[1;33m,\u001b[0m \u001b[0mobj\u001b[0m\u001b[1;33m,\u001b[0m \u001b[0mkey\u001b[0m\u001b[1;33m,\u001b[0m \u001b[0mdefault\u001b[0m\u001b[1;33m)\u001b[0m\u001b[1;33m:\u001b[0m\u001b[1;33m\u001b[0m\u001b[1;33m\u001b[0m\u001b[0m\n",
      "\u001b[1;31mNoSuchElementException\u001b[0m: Message: no such element: Unable to locate element: {\"method\":\"xpath\",\"selector\":\"//*[@id=\"select_11\"]\"}\n  (Session info: chrome=84.0.4147.89)\n"
     ]
    }
   ],
   "source": [
    "trends_downloader(top_locations)"
   ]
  },
  {
   "cell_type": "code",
   "execution_count": null,
   "metadata": {},
   "outputs": [],
   "source": []
  },
  {
   "cell_type": "code",
   "execution_count": null,
   "metadata": {},
   "outputs": [],
   "source": []
  },
  {
   "cell_type": "code",
   "execution_count": null,
   "metadata": {},
   "outputs": [],
   "source": []
  },
  {
   "cell_type": "code",
   "execution_count": null,
   "metadata": {},
   "outputs": [],
   "source": []
  },
  {
   "cell_type": "code",
   "execution_count": null,
   "metadata": {},
   "outputs": [],
   "source": []
  },
  {
   "cell_type": "code",
   "execution_count": null,
   "metadata": {},
   "outputs": [],
   "source": []
  },
  {
   "cell_type": "code",
   "execution_count": null,
   "metadata": {},
   "outputs": [],
   "source": []
  },
  {
   "cell_type": "code",
   "execution_count": 19,
   "metadata": {},
   "outputs": [],
   "source": [
    "# Opens the url\n",
    "url = \"https://trends.google.es/trends/\"\n",
    "driver = webdriver.Chrome(r'C:\\Users\\ppaau\\Desktop\\Academic\\IronHack\\Projects\\Project-Week-5-Your-Own-Project\\chromedriver.exe')\n",
    "driver.get(url)\n",
    "# Find the text search box\n",
    "search_box = driver.find_element_by_xpath('/html/body/div[2]/div[2]/div/ng-include/div/div[2]/autocomplete')\n",
    "# Clicks on the search box to do the search\n",
    "search_box.click()\n",
    "# Textes the needed search on the text box\n",
    "click_boto = driver.find_element_by_xpath('//*[@id=\"input-254\"]')\n",
    "search = top_locations[0]\n",
    "click_boto.send_keys(search)\n",
    "# Presses enter to proceed with the search\n",
    "search_button = driver.find_element_by_xpath('//*[@id=\"input-254\"]')\n",
    "search_button.send_keys(u'\\ue007')\n",
    "# Select the geografical location \"All the world\"\n",
    "location_button = driver.find_element_by_xpath('//*[@id=\"compare-pickers-wrapper\"]/div/hierarchy-picker[1]/ng-include')\n",
    "location_button.click()\n",
    "world_button = driver.find_element_by_xpath('//*[@id=\"ul-10\"]/li[1]/md-autocomplete-parent-scope/div/div/span')\n",
    "world_button.click()\n",
    "# Select timeframe of our data\n",
    "timeframe_button = driver.find_element_by_xpath('//*[@id=\"select_11\"]')\n",
    "timeframe_button.click()\n",
    "five_year_button = driver.find_element_by_xpath('//*[@id=\"select_option_21\"]/div[1]')\n",
    "five_year_button.click()\n",
    "# Localizes download button and clicks on it!\n",
    "download_button = driver.find_element_by_xpath('/html/body/div[2]/div[2]/div/md-content/div/div/div[1]/trends-widget/ng-include/widget/div/div/div/widget-actions/div/button[1]')\n",
    "download_button.click()\n"
   ]
  },
  {
   "cell_type": "code",
   "execution_count": null,
   "metadata": {},
   "outputs": [],
   "source": []
  },
  {
   "cell_type": "code",
   "execution_count": null,
   "metadata": {},
   "outputs": [],
   "source": []
  },
  {
   "cell_type": "code",
   "execution_count": null,
   "metadata": {},
   "outputs": [],
   "source": []
  },
  {
   "cell_type": "code",
   "execution_count": null,
   "metadata": {},
   "outputs": [],
   "source": []
  },
  {
   "cell_type": "code",
   "execution_count": null,
   "metadata": {},
   "outputs": [],
   "source": []
  },
  {
   "cell_type": "code",
   "execution_count": null,
   "metadata": {},
   "outputs": [],
   "source": []
  },
  {
   "cell_type": "code",
   "execution_count": null,
   "metadata": {},
   "outputs": [],
   "source": []
  },
  {
   "cell_type": "code",
   "execution_count": 18,
   "metadata": {},
   "outputs": [
    {
     "ename": "KeyboardInterrupt",
     "evalue": "",
     "output_type": "error",
     "traceback": [
      "\u001b[1;31m---------------------------------------------------------------------------\u001b[0m",
      "\u001b[1;31mKeyboardInterrupt\u001b[0m                         Traceback (most recent call last)",
      "\u001b[1;32m<ipython-input-18-417f8b3fb7b8>\u001b[0m in \u001b[0;36m<module>\u001b[1;34m\u001b[0m\n\u001b[0;32m      4\u001b[0m     \u001b[0mtime\u001b[0m\u001b[1;33m.\u001b[0m\u001b[0msleep\u001b[0m\u001b[1;33m(\u001b[0m\u001b[0mrandom\u001b[0m\u001b[1;33m.\u001b[0m\u001b[0mrandint\u001b[0m\u001b[1;33m(\u001b[0m\u001b[1;36m7\u001b[0m\u001b[1;33m,\u001b[0m\u001b[1;36m25\u001b[0m\u001b[1;33m)\u001b[0m\u001b[1;33m)\u001b[0m\u001b[1;33m\u001b[0m\u001b[1;33m\u001b[0m\u001b[0m\n\u001b[0;32m      5\u001b[0m     \u001b[1;31m# Clears the text from the search box\u001b[0m\u001b[1;33m\u001b[0m\u001b[1;33m\u001b[0m\u001b[1;33m\u001b[0m\u001b[0m\n\u001b[1;32m----> 6\u001b[1;33m     \u001b[0mtime\u001b[0m\u001b[1;33m.\u001b[0m\u001b[0msleep\u001b[0m\u001b[1;33m(\u001b[0m\u001b[0mrandom\u001b[0m\u001b[1;33m.\u001b[0m\u001b[0mrandint\u001b[0m\u001b[1;33m(\u001b[0m\u001b[1;36m8\u001b[0m\u001b[1;33m,\u001b[0m \u001b[1;36m23\u001b[0m\u001b[1;33m)\u001b[0m\u001b[1;33m)\u001b[0m\u001b[1;33m\u001b[0m\u001b[1;33m\u001b[0m\u001b[0m\n\u001b[0m\u001b[0;32m      7\u001b[0m     \u001b[0mre_search_button\u001b[0m\u001b[1;33m.\u001b[0m\u001b[0mclear\u001b[0m\u001b[1;33m(\u001b[0m\u001b[1;33m)\u001b[0m\u001b[1;33m\u001b[0m\u001b[1;33m\u001b[0m\u001b[0m\n\u001b[0;32m      8\u001b[0m     \u001b[1;31m# Sending search text\u001b[0m\u001b[1;33m\u001b[0m\u001b[1;33m\u001b[0m\u001b[1;33m\u001b[0m\u001b[0m\n",
      "\u001b[1;31mKeyboardInterrupt\u001b[0m: "
     ]
    }
   ],
   "source": [
    "for i in range(len(top_locations)):\n",
    "    # Finds the search box again\n",
    "    re_search_button = driver.find_element_by_xpath('//*[@id=\"input-24\"]')\n",
    "    time.sleep(random.randint(7,25))\n",
    "    # Clears the text from the search box\n",
    "    time.sleep(random.randint(8, 23))\n",
    "    re_search_button.clear()\n",
    "    # Sending search text\n",
    "    time.sleep(random.randint(7, 27))\n",
    "    search = top_locations[i]\n",
    "    re_search_button.send_keys(search)\n",
    "    re_search_button.send_keys(u'\\ue007')\n",
    "    # Localizes download button and clicks on it!\n",
    "    download_button = driver.find_element_by_xpath('/html/body/div[2]/div[2]/div/md-content/div/div/div[1]/trends-widget/ng-include/widget/div/div/div/widget-actions/div/button[1]')\n",
    "    download_button.click()"
   ]
  },
  {
   "cell_type": "code",
   "execution_count": 12,
   "metadata": {},
   "outputs": [],
   "source": [
    "# Finds the search box again\n",
    "re_search_button = driver.find_element_by_xpath('//*[@id=\"input-24\"]')\n",
    "time.sleep(15)"
   ]
  },
  {
   "cell_type": "code",
   "execution_count": 13,
   "metadata": {},
   "outputs": [],
   "source": [
    "# Clears the text from the search box\n",
    "time.sleep(random.randint(8, 23))\n",
    "re_search_button.clear()"
   ]
  },
  {
   "cell_type": "code",
   "execution_count": 14,
   "metadata": {},
   "outputs": [],
   "source": [
    "# Sending search text\n",
    "time.sleep(random.randint(8, 23))\n",
    "search = top10_mallorca[1]\n",
    "re_search_button.send_keys(search)"
   ]
  },
  {
   "cell_type": "code",
   "execution_count": 15,
   "metadata": {},
   "outputs": [],
   "source": [
    "# Pressing enter to proceed with the search\n",
    "re_search_button.send_keys(u'\\ue007')"
   ]
  },
  {
   "cell_type": "code",
   "execution_count": 16,
   "metadata": {},
   "outputs": [],
   "source": [
    "# Localizes download button and clicks on it!\n",
    "download_button = driver.find_element_by_xpath('/html/body/div[2]/div[2]/div/md-content/div/div/div[1]/trends-widget/ng-include/widget/div/div/div/widget-actions/div/button[1]')\n",
    "download_button.click()"
   ]
  },
  {
   "cell_type": "code",
   "execution_count": null,
   "metadata": {},
   "outputs": [],
   "source": [
    "for i in range(len())"
   ]
  },
  {
   "cell_type": "code",
   "execution_count": null,
   "metadata": {},
   "outputs": [],
   "source": [
    "# UNTESTED PART\n",
    "for i in range(1,10):\n",
    "    # Finds the search box again\n",
    "    re_search_button = driver.find_element_by_xpath('//*[@id=\"input-24\"]')\n",
    "    time.sleep(15)\n",
    "    # Clears the text from the search box\n",
    "    re_search_button.clear()\n",
    "    # Sending search text\n",
    "    search = top10_mallorca[i]\n",
    "    re_search_button.send_keys(search)\n",
    "    # Pressing enter to proceed with the search\n",
    "    re_search_button.send_keys(u'\\ue007')\n",
    "    # Select timeframe of our data\n",
    "    timeframe_button = driver.find_element_by_xpath('//*[@id=\"select_11\"]')\n",
    "    timeframe_button.click()\n",
    "    five_year_button = driver.find_element_by_xpath('//*[@id=\"select_option_21\"]/div[1]')\n",
    "    five_year_button.click()\n",
    "    # Localizes download button and clicks on it!\n",
    "    download_button = driver.find_element_by_xpath('/html/body/div[2]/div[2]/div/md-content/div/div/div[1]/trends-widget/ng-include/widget/div/div/div/widget-actions/div/button[1]')\n",
    "    download_button.click()\n",
    "    # Renames the downloaded document\n",
    "    # os.rename(f'C:\\Users\\ppaau\\Downloads\\multiTimeline ({i}).csv', 'C:\\Users\\ppaau\\Downloads\\'+top10_mallorca[i]}.csv')\n",
    "    \n"
   ]
  },
  {
   "cell_type": "code",
   "execution_count": null,
   "metadata": {},
   "outputs": [],
   "source": []
  },
  {
   "cell_type": "code",
   "execution_count": null,
   "metadata": {},
   "outputs": [],
   "source": [
    "os.rename(r'Downloads\\multiTimeline ('+2+').csv', )"
   ]
  },
  {
   "cell_type": "code",
   "execution_count": null,
   "metadata": {},
   "outputs": [],
   "source": []
  },
  {
   "cell_type": "code",
   "execution_count": null,
   "metadata": {},
   "outputs": [],
   "source": [
    "os.rename(r'C:\\Users\\ppaau\\Downloads\\multiTimeline ('+2+').csv',\n",
    "          r'C:\\Users\\ppaau\\Downloads\\'+top10_mallorca[0]+'.csv')"
   ]
  }
 ],
 "metadata": {
  "kernelspec": {
   "display_name": "Python 3",
   "language": "python",
   "name": "python3"
  },
  "language_info": {
   "codemirror_mode": {
    "name": "ipython",
    "version": 3
   },
   "file_extension": ".py",
   "mimetype": "text/x-python",
   "name": "python",
   "nbconvert_exporter": "python",
   "pygments_lexer": "ipython3",
   "version": "3.8.3"
  }
 },
 "nbformat": 4,
 "nbformat_minor": 4
}
