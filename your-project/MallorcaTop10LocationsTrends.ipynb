{
 "cells": [
  {
   "cell_type": "code",
   "execution_count": 90,
   "metadata": {},
   "outputs": [],
   "source": [
    "from selenium import webdriver\n",
    "from selenium.webdriver.common.keys import Keys\n",
    "from pynput.keyboard import Key, Controller\n",
    "import os\n",
    "import time\n",
    "import random"
   ]
  },
  {
   "cell_type": "code",
   "execution_count": 5,
   "metadata": {},
   "outputs": [],
   "source": [
    "top_locations = [\"Castell de Bellver\", \"Cuevas del Drach\", \"Cabo de Formentor\",\n",
    "                  \"Palma Aquarium\", \"Soller\", \"Cala Galdana\", \"Cala Mitjana\", \n",
    "                 \"Monte Toro\", \"Cala Macarella\", \"Cala Macarelleta\", \"Albufera\",\n",
    "                 \"Cala Pregonda\", \"Faro de Favaritx\", \"Platges de Compte\", \n",
    "                 \"Cala Benirras\", \"Es Vedra\", \"ses Salines\", \"Cala Salada\",\n",
    "                 \"Ses Illetes\", \"Es Pujols\", \"Cap de Barbaria\", \"Ses Platgetes\"]\n",
    "wrong_search_list = [\"Castll de Bellber\", \"Cyevas del Dracg\", \"Cabo de Foermentor\",\n",
    "                  \"Palma Aqis\", \"Scl\", \"Csls\", \"Cala Mirkana\", \n",
    "                 \"Monte Torp\", \"Macarwlla\", \"Cala Mscsre\", \"Alvufera\",\n",
    "                 \"Cala Ptegind\", \"Faro de Fabarich\", \"Platges de Conte\", \n",
    "                 \"Cala Benirtas\", \"Es Vefts\", \"ses Sak\", \"Cala Sañsfs\",\n",
    "                 \"Ses Ikk\", \"Es Puols\", \"Cap deBarbaria\", \"Ses Platf\"]"
   ]
  },
  {
   "cell_type": "code",
   "execution_count": 6,
   "metadata": {},
   "outputs": [],
   "source": [
    "def fake_wrong_search():\n",
    "    click_boto = driver.find_element_by_xpath('//*[@id=\"input-254\"]')\n",
    "    time.sleep(random.randint(2,9))\n",
    "    fake_wrong_search = wrong_search_list[random.randint(0,len(wrong_search_list))]\n",
    "    click_boto.send_keys(fake_wrong_search)\n",
    "    time.sleep(random.randint(2,14))\n",
    "    click_boto.clear()"
   ]
  },
  {
   "cell_type": "code",
   "execution_count": 7,
   "metadata": {},
   "outputs": [],
   "source": [
    "def multiple_searchbox_clicks():\n",
    "    random = random.randint(0,2)\n",
    "    if random == 1:\n",
    "        time.sleep(random.randint(3,11))\n",
    "        search_box = driver.find_element_by_xpath('/html/body/div[2]/div[2]/div/ng-include/div/div[2]/autocomplete')\n",
    "        search_box.click()\n",
    "    elif random == 2:\n",
    "        time.sleep(random.randint(7,12))\n",
    "        search_box = driver.find_element_by_xpath('/html/body/div[2]/div[2]/div/ng-include/div/div[2]/autocomplete')\n",
    "        search_box.click()\n",
    "        time.sleep(random.randint(1,13))\n",
    "        search_box.click()"
   ]
  },
  {
   "cell_type": "code",
   "execution_count": null,
   "metadata": {},
   "outputs": [],
   "source": []
  },
  {
   "cell_type": "code",
   "execution_count": null,
   "metadata": {},
   "outputs": [],
   "source": []
  },
  {
   "cell_type": "code",
   "execution_count": 8,
   "metadata": {},
   "outputs": [],
   "source": [
    "# Opens the url\n",
    "url = \"https://trends.google.es/trends/\"\n",
    "driver = webdriver.Chrome(r'C:\\Users\\ppaau\\Desktop\\Academic\\IronHack\\Projects\\Project-Week-5-Your-Own-Project\\chromedriver.exe')\n",
    "driver.get(url)\n",
    "# Find the text search box\n",
    "search_box = driver.find_element_by_xpath('/html/body/div[2]/div[2]/div/ng-include/div/div[2]/autocomplete')\n",
    "# Clicks on the search box to do the search\n",
    "search_box.click()\n",
    "# Textes the needed search on the text box\n",
    "click_boto = driver.find_element_by_xpath('//*[@id=\"input-254\"]')\n",
    "search = top_locations[0]\n",
    "click_boto.send_keys(search)\n",
    "# Presses enter to proceed with the search\n",
    "search_button = driver.find_element_by_xpath('//*[@id=\"input-254\"]')\n",
    "search_button.send_keys(u'\\ue007')"
   ]
  },
  {
   "cell_type": "code",
   "execution_count": null,
   "metadata": {},
   "outputs": [],
   "source": []
  },
  {
   "cell_type": "code",
   "execution_count": null,
   "metadata": {},
   "outputs": [],
   "source": []
  },
  {
   "cell_type": "code",
   "execution_count": null,
   "metadata": {},
   "outputs": [],
   "source": []
  },
  {
   "cell_type": "code",
   "execution_count": null,
   "metadata": {},
   "outputs": [],
   "source": []
  },
  {
   "cell_type": "code",
   "execution_count": null,
   "metadata": {},
   "outputs": [],
   "source": []
  },
  {
   "cell_type": "code",
   "execution_count": null,
   "metadata": {},
   "outputs": [],
   "source": []
  },
  {
   "cell_type": "code",
   "execution_count": null,
   "metadata": {},
   "outputs": [],
   "source": []
  },
  {
   "cell_type": "code",
   "execution_count": null,
   "metadata": {},
   "outputs": [],
   "source": []
  },
  {
   "cell_type": "code",
   "execution_count": null,
   "metadata": {},
   "outputs": [],
   "source": []
  },
  {
   "cell_type": "code",
   "execution_count": 64,
   "metadata": {},
   "outputs": [],
   "source": [
    "# Click on the \"Compare\" page\n",
    "def compare_trend():\n",
    "    compare_button = driver.find_element_by_xpath('//*[@id=\"explorepage-content-header\"]/explore-pills/div/button/span/span[1]')\n",
    "    time.sleep(random.randint(1,3))\n",
    "    compare_button.click()\n",
    "    time.sleep(random.randint(1,9))"
   ]
  },
  {
   "cell_type": "code",
   "execution_count": 65,
   "metadata": {},
   "outputs": [],
   "source": [
    "# Click on the interest graph\n",
    "def graph_clicker():\n",
    "    interest_graph = driver.find_element_by_xpath('/html/body/div[2]/div[2]/div/md-content/div/div/div[1]/trends-widget/ng-include/widget/div/div/ng-include/div')\n",
    "    interest_graph.click()\n",
    "    time.sleep(random.randint(2,10))"
   ]
  },
  {
   "cell_type": "code",
   "execution_count": 66,
   "metadata": {},
   "outputs": [],
   "source": [
    "# Click on the \"Categories\" dropdown\n",
    "def categories_selector():\n",
    "    categories_dropdown = driver.find_element_by_xpath('//*[@id=\"compare-pickers-wrapper\"]/div/hierarchy-picker[2]/ng-include/div[1]')\n",
    "    categories_dropdown.click()\n",
    "    time.sleep(random.randint(1,11))\n",
    "    all_categories = driver.find_element_by_xpath('//*[@id=\"ul-13\"]/li[1]/md-autocomplete-parent-scope/div/div/span')\n",
    "    all_categories.click()\n",
    "    time.sleep(random.randint(3,7))"
   ]
  },
  {
   "cell_type": "code",
   "execution_count": 67,
   "metadata": {},
   "outputs": [],
   "source": [
    "# Click on the \"Web Search\" dropdown\n",
    "def web_search_selector():\n",
    "    searchtype_dropdown = driver.find_element_by_xpath('//*[@id=\"select_value_label_0\"]/span[1]/div')\n",
    "    searchtype_dropdown.click()\n",
    "    time.sleep(random.randint(1,9))\n",
    "    youtube_option = driver.find_element_by_xpath('//*[@id=\"select_option_7\"]/div')\n",
    "    youtube_option.click()\n",
    "    time.sleep(random.randint(7,15))\n",
    "    searchtype_dropdown = driver.find_element_by_xpath('//*[@id=\"select_value_label_0\"]/span[1]/div')\n",
    "    searchtype_dropdown.click()\n",
    "    time.sleep(random.randint(3,7))\n",
    "    websearch_option = driver.find_element_by_xpath('//*[@id=\"select_option_3\"]/div')\n",
    "    websearch_option.click()\n",
    "    time.sleep(random.randint(1,10))"
   ]
  },
  {
   "cell_type": "code",
   "execution_count": 68,
   "metadata": {},
   "outputs": [],
   "source": [
    "# Click on the \"Region\" dropdown\n",
    "def region_selector():\n",
    "    region_dropdown = driver.find_element_by_xpath('//*[@id=\"select_value_label_343\"]/span[1]/div')\n",
    "    region_dropdown.click()\n",
    "    time.sleep(random.randint(3,10))\n",
    "    region_option = driver.find_element_by_xpath('//*[@id=\"select_option_347\"]/div')\n",
    "    region_option.click()\n",
    "    time.sleep(random.randint(3,5))"
   ]
  },
  {
   "cell_type": "code",
   "execution_count": 69,
   "metadata": {},
   "outputs": [],
   "source": [
    "# Click on the \"include low interest regions\"\n",
    "def low_interest_regions_selector():\n",
    "    regions_checkbox = driver.find_element_by_xpath('/html/body/div[2]/div[2]/div/md-content/div/div/div[2]/trends-widget/ng-include/widget/div/div/ng-include/div/div/div[1]/low-search-volume-filter/div/md-checkbox/div[1]')\n",
    "    regions_checkbox.click()\n",
    "    time.sleep(random.randint(2,11))"
   ]
  },
  {
   "cell_type": "code",
   "execution_count": 70,
   "metadata": {},
   "outputs": [],
   "source": [
    "# Click on the \"related topics\" dropdown\n",
    "def related_topics_type_selector():\n",
    "    related_topics_dropdown = driver.find_element_by_xpath('//*[@id=\"select_value_label_299\"]/span[1]/div')\n",
    "    related_topics_dropdown.click()\n",
    "    time.sleep(random.randint(1,6))\n",
    "    increasing1_button = driver.find_element_by_xpath('//*[@id=\"select_option_300\"]/div[1]')\n",
    "    increasing1_button.click()\n",
    "    time.sleep(random.randint(1,8))"
   ]
  },
  {
   "cell_type": "code",
   "execution_count": 29,
   "metadata": {},
   "outputs": [
    {
     "name": "stdout",
     "output_type": "stream",
     "text": [
      "1\n"
     ]
    }
   ],
   "source": [
    "# Check the related topics suggestions\n",
    "def related_topics_pages():\n",
    "    pages_clicks = random.randint(1,3)\n",
    "    if pages_clicks == 1:\n",
    "        related_topics_pages = driver.find_element_by_xpath('/html/body/div[2]/div[2]/div/md-content/div/div/div[3]/trends-widget/ng-include/widget/div/div/ng-include/div/div[6]/pagination/div/button[2]/md-icon')\n",
    "        time.sleep(random.randint(1,4))\n",
    "        related_topics_pages.click()\n",
    "        time.sleep(random.randint(6,10))\n",
    "    elif pages_clicks == 2:\n",
    "        related_topics_pages = driver.find_element_by_xpath('/html/body/div[2]/div[2]/div/md-content/div/div/div[3]/trends-widget/ng-include/widget/div/div/ng-include/div/div[6]/pagination/div/button[2]/md-icon')\n",
    "        time.sleep(random.randint(1,6))\n",
    "        related_topics_pages.click()\n",
    "        time.sleep(random.randint(11,16))\n",
    "        related_topics_pages = driver.find_element_by_xpath('/html/body/div[2]/div[2]/div/md-content/div/div/div[3]/trends-widget/ng-include/widget/div/div/ng-include/div/div[6]/pagination/div/button[2]/md-icon')\n",
    "        time.sleep(random.randint(3,5))\n",
    "        related_topics_pages.click()\n",
    "        time.sleep(random.randint(2,8))\n",
    "    else:\n",
    "        related_topics_pages = driver.find_element_by_xpath('/html/body/div[2]/div[2]/div/md-content/div/div/div[3]/trends-widget/ng-include/widget/div/div/ng-include/div/div[6]/pagination/div/button[2]/md-icon')\n",
    "        time.sleep(random.randint(1,4))\n",
    "        related_topics_pages.click()\n",
    "        time.sleep(random.randint(7,13))\n",
    "        related_topics_pages = driver.find_element_by_xpath('/html/body/div[2]/div[2]/div/md-content/div/div/div[3]/trends-widget/ng-include/widget/div/div/ng-include/div/div[6]/pagination/div/button[2]/md-icon')\n",
    "        time.sleep(random.randint(2,5))\n",
    "        related_topics_pages.click()\n",
    "        time.sleep(random.randint(11,14))\n",
    "        related_topics_pages = driver.find_element_by_xpath('/html/body/div[2]/div[2]/div/md-content/div/div/div[3]/trends-widget/ng-include/widget/div/div/ng-include/div/div[6]/pagination/div/button[2]/md-icon')\n",
    "        time.sleep(random.randint(3,7))\n",
    "        related_topics_pages.click()\n",
    "        time.sleep(random.randint(6,8))"
   ]
  },
  {
   "cell_type": "code",
   "execution_count": 71,
   "metadata": {},
   "outputs": [],
   "source": [
    "# Click on the related searches dropdown\n",
    "def related_searches_dropdown():\n",
    "    related_searches_dropdown = driver.find_element_by_xpath('//*[@id=\"select_value_label_304\"]/span[1]/div')\n",
    "    related_searches_dropdown.click()\n",
    "    time.sleep(random.randint(5,9))\n",
    "    main_button = driver.find_element_by_xpath('//*[@id=\"select_option_306\"]/div[1]')\n",
    "    main_button.click()\n",
    "    time.sleep(random.randint(3,12))"
   ]
  },
  {
   "cell_type": "code",
   "execution_count": 72,
   "metadata": {},
   "outputs": [],
   "source": [
    "# Click on the \"overtime interest\" help button\n",
    "def overtime_interest_help():\n",
    "    overtime_help = driver.find_element_by_xpath('/html/body/div[2]/div[2]/div/md-content/div/div/div[1]/trends-widget/ng-include/widget/div/div/div/div/help-dialog/button/i')\n",
    "    overtime_help.click()\n",
    "    time.sleep(random.randint(3,7))\n",
    "    overtime_help_close = driver.find_element_by_xpath('//*[@id=\"dialogContent_355\"]/div/div[2]/md-icon')\n",
    "    overtime_help_close.click()\n",
    "    time.sleep(random.randint(1,5))"
   ]
  },
  {
   "cell_type": "code",
   "execution_count": 73,
   "metadata": {},
   "outputs": [],
   "source": [
    "# Click on the \"regional interest\" help button\n",
    "def regional_interest_help():\n",
    "    region_help = driver.find_element_by_xpath('/html/body/div[2]/div[2]/div/md-content/div/div/div[2]/trends-widget/ng-include/widget/div/div/div/div[1]/help-dialog/button/i')\n",
    "    region_help.click()\n",
    "    time.sleep(random.randint(4,6))\n",
    "    region_help_close = driver.find_element_by_xpath('//*[@id=\"dialogContent_356\"]/div/div[2]/md-icon')\n",
    "    region_help_close.click()\n",
    "    time.sleep(random.randint(1,8))"
   ]
  },
  {
   "cell_type": "code",
   "execution_count": 74,
   "metadata": {},
   "outputs": [],
   "source": [
    "# Click on the \"related topics\" help button\n",
    "def related_topics_help():\n",
    "    topics_help = driver.find_element_by_xpath('/html/body/div[2]/div[2]/div/md-content/div/div/div[3]/trends-widget/ng-include/widget/div/div/div/div/help-dialog/button/i')\n",
    "    topics_help.click()\n",
    "    time.sleep(random.randint(2,7))\n",
    "    topics_help_close = driver.find_element_by_xpath('//*[@id=\"dialogContent_357\"]/div/div[2]/md-icon')\n",
    "    topics_help_close.click()\n",
    "    time.sleep(random.randint(2,6))"
   ]
  },
  {
   "cell_type": "code",
   "execution_count": 75,
   "metadata": {},
   "outputs": [],
   "source": [
    "# Click on the \"related searches\" help button\n",
    "def related_searches_help():\n",
    "    searches_help = driver.find_element_by_xpath('/html/body/div[2]/div[2]/div/md-content/div/div/div[4]/trends-widget/ng-include/widget/div/div/div/div/help-dialog/button/i')\n",
    "    searches_help.click()\n",
    "    time.sleep(random.randint(7,9))\n",
    "    searches_help_close = driver.find_element_by_xpath('//*[@id=\"dialogContent_358\"]/div/div[2]/md-icon')\n",
    "    searches_help_close.click()\n",
    "    time.sleep(random.randint(4,10))"
   ]
  },
  {
   "cell_type": "code",
   "execution_count": 79,
   "metadata": {},
   "outputs": [],
   "source": [
    "# Create a function to randomly determine which fake funtions to use and \n",
    "    # in which order to use them.\n",
    "\n",
    "def human_errors(x,y):\n",
    "    counter = 0\n",
    "    while counter<random.randint(x,y):\n",
    "        counter += 1\n",
    "        function = random.randint(1,13)\n",
    "        if function == 1:\n",
    "            do_or_not = random.randint(0,1)\n",
    "            if do_or_not == 1:\n",
    "                compare_trend()\n",
    "        if function == 2:\n",
    "            do_or_not = random.randint(0,1)\n",
    "            if do_or_not == 1:\n",
    "                graph_clicker()\n",
    "        if function == 3:\n",
    "            do_or_not = random.randint(0,1)\n",
    "            if do_or_not == 1:\n",
    "                categories_selector()\n",
    "        if function == 4:\n",
    "            do_or_not = random.randint(0,1)\n",
    "            if do_or_not == 1:\n",
    "                web_search_selector()\n",
    "        if function == 5:\n",
    "            do_or_not = random.randint(0,1)\n",
    "            if do_or_not == 1:\n",
    "                region_selector()\n",
    "        if function == 6:\n",
    "            do_or_not = random.randint(0,1)\n",
    "            if do_or_not == 1:\n",
    "                low_interest_regions_selector()\n",
    "        if function == 7:\n",
    "            do_or_not = random.randint(0,1)\n",
    "            if do_or_not == 1:\n",
    "                related_topics_type_selector()\n",
    "        if function == 8:\n",
    "            do_or_not = random.randint(0,1)\n",
    "            if do_or_not == 1:\n",
    "                related_topics_pages()\n",
    "        if function == 9:\n",
    "            do_or_not = random.randint(0,1)\n",
    "            if do_or_not == 1:\n",
    "                related_searches_dropdown()\n",
    "        if function == 10:\n",
    "            do_or_not = random.randint(0,1)\n",
    "            if do_or_not == 1:\n",
    "                overtime_interest_help()\n",
    "        if function == 11:\n",
    "            do_or_not = random.randint(0,1)\n",
    "            if do_or_not == 1:\n",
    "                regional_interest_help()\n",
    "        if function == 12:\n",
    "            do_or_not = random.randint(0,1)\n",
    "            if do_or_not == 1:\n",
    "                related_topics_help()\n",
    "        if function == 13:\n",
    "            do_or_not = random.randint(0,1)\n",
    "            if do_or_not == 1:\n",
    "                related_searches_help()"
   ]
  },
  {
   "cell_type": "code",
   "execution_count": null,
   "metadata": {},
   "outputs": [],
   "source": [
    "def trends_downloader(x):\n",
    "    # Opens the url\n",
    "    url = \"https://trends.google.es/trends/\"\n",
    "    driver = webdriver.Chrome(r'C:\\Users\\ppaau\\Desktop\\Academic\\IronHack\\Projects\\Project-Week-5-Your-Own-Project\\chromedriver.exe')\n",
    "    driver.get(url)\n",
    "    # Find the text search box\n",
    "    search_box = driver.find_element_by_xpath('/html/body/div[2]/div[2]/div/ng-include/div/div[2]/autocomplete')\n",
    "    # Clicks on the search box to do the search\n",
    "    search_box.click()\n",
    "    # Textes the needed search on the text box\n",
    "    click_boto = driver.find_element_by_xpath('//*[@id=\"input-254\"]')\n",
    "    search = x[0]\n",
    "    click_boto.send_keys(search)\n",
    "    # Presses enter to proceed with the search\n",
    "    search_button = driver.find_element_by_xpath('//*[@id=\"input-254\"]')\n",
    "    search_button.send_keys(u'\\ue007')\n",
    "    # We simulate some human errors before doing the first download\n",
    "    human_errors(1,4)\n",
    "    # Select the geografical location \"All the world\"\n",
    "    location_button = driver.find_element_by_xpath('//*[@id=\"compare-pickers-wrapper\"]/div/hierarchy-picker[1]/ng-include')\n",
    "    location_button.click()\n",
    "    world_button = driver.find_element_by_xpath('//*[@id=\"ul-10\"]/li[1]/md-autocomplete-parent-scope/div/div/span')\n",
    "    world_button.click()\n",
    "    # Select timeframe of our data\n",
    "    timeframe_button = driver.find_element_by_xpath('//*[@id=\"select_11\"]')\n",
    "    timeframe_button.click()\n",
    "    five_year_button = driver.find_element_by_xpath('//*[@id=\"select_option_21\"]/div[1]')\n",
    "    five_year_button.click()\n",
    "    # Localizes download button and clicks on it!\n",
    "    download_button = driver.find_element_by_xpath('/html/body/div[2]/div[2]/div/md-content/div/div/div[1]/trends-widget/ng-include/widget/div/div/div/widget-actions/div/button[1]')\n",
    "    download_button.click()\n",
    "    for i in range(1, len(x)):\n",
    "        # Finds the search box again\n",
    "        re_search_button = driver.find_element_by_xpath('//*[@id=\"input-24\"]')\n",
    "        time.sleep(random.randint(7,25))\n",
    "        # Clears the text from the search box\n",
    "        time.sleep(random.randint(8, 23))\n",
    "        re_search_button.clear()\n",
    "        # Randomize whether we imput a fake search or not\n",
    "        if random.randint(0,1) == 1:\n",
    "            fake_wrong_search()\n",
    "        # Randomize whether we click on the textbox multiple times or not\n",
    "        if random.randint(0,1) == 1:\n",
    "            multiple_searchbox_clicks()\n",
    "        # Sending search text\n",
    "        time.sleep(random.randint(7, 27))\n",
    "        search = x[i]\n",
    "        re_search_button.send_keys(search)\n",
    "        re_search_button.send_keys(u'\\ue007')\n",
    "        # Call to the human error function\n",
    "        human_errors(random.randint(2,5),random.randint(6,11))\n",
    "        # Localizes download button and clicks on it!\n",
    "        download_button = driver.find_element_by_xpath('/html/body/div[2]/div[2]/div/md-content/div/div/div[1]/trends-widget/ng-include/widget/div/div/div/widget-actions/div/button[1]')\n",
    "        download_button.click()"
   ]
  },
  {
   "cell_type": "code",
   "execution_count": null,
   "metadata": {},
   "outputs": [],
   "source": []
  },
  {
   "cell_type": "code",
   "execution_count": null,
   "metadata": {},
   "outputs": [],
   "source": []
  },
  {
   "cell_type": "code",
   "execution_count": null,
   "metadata": {},
   "outputs": [],
   "source": []
  },
  {
   "cell_type": "code",
   "execution_count": 19,
   "metadata": {},
   "outputs": [],
   "source": [
    "# Opens the url\n",
    "url = \"https://trends.google.es/trends/\"\n",
    "driver = webdriver.Chrome(r'C:\\Users\\ppaau\\Desktop\\Academic\\IronHack\\Projects\\Project-Week-5-Your-Own-Project\\chromedriver.exe')\n",
    "driver.get(url)\n",
    "# Find the text search box\n",
    "search_box = driver.find_element_by_xpath('/html/body/div[2]/div[2]/div/ng-include/div/div[2]/autocomplete')\n",
    "# Clicks on the search box to do the search\n",
    "search_box.click()\n",
    "# Textes the needed search on the text box\n",
    "click_boto = driver.find_element_by_xpath('//*[@id=\"input-254\"]')\n",
    "search = top_locations[0]\n",
    "click_boto.send_keys(search)\n",
    "# Presses enter to proceed with the search\n",
    "search_button = driver.find_element_by_xpath('//*[@id=\"input-254\"]')\n",
    "search_button.send_keys(u'\\ue007')\n",
    "# Select the geografical location \"All the world\"\n",
    "location_button = driver.find_element_by_xpath('//*[@id=\"compare-pickers-wrapper\"]/div/hierarchy-picker[1]/ng-include')\n",
    "location_button.click()\n",
    "world_button = driver.find_element_by_xpath('//*[@id=\"ul-10\"]/li[1]/md-autocomplete-parent-scope/div/div/span')\n",
    "world_button.click()\n",
    "# Select timeframe of our data\n",
    "timeframe_button = driver.find_element_by_xpath('//*[@id=\"select_11\"]')\n",
    "timeframe_button.click()\n",
    "five_year_button = driver.find_element_by_xpath('//*[@id=\"select_option_21\"]/div[1]')\n",
    "five_year_button.click()\n",
    "# Localizes download button and clicks on it!\n",
    "download_button = driver.find_element_by_xpath('/html/body/div[2]/div[2]/div/md-content/div/div/div[1]/trends-widget/ng-include/widget/div/div/div/widget-actions/div/button[1]')\n",
    "download_button.click()\n"
   ]
  },
  {
   "cell_type": "code",
   "execution_count": null,
   "metadata": {},
   "outputs": [],
   "source": []
  },
  {
   "cell_type": "code",
   "execution_count": null,
   "metadata": {},
   "outputs": [],
   "source": []
  },
  {
   "cell_type": "code",
   "execution_count": null,
   "metadata": {},
   "outputs": [],
   "source": []
  },
  {
   "cell_type": "code",
   "execution_count": null,
   "metadata": {},
   "outputs": [],
   "source": []
  },
  {
   "cell_type": "code",
   "execution_count": null,
   "metadata": {},
   "outputs": [],
   "source": []
  },
  {
   "cell_type": "code",
   "execution_count": null,
   "metadata": {},
   "outputs": [],
   "source": []
  },
  {
   "cell_type": "code",
   "execution_count": null,
   "metadata": {},
   "outputs": [],
   "source": []
  },
  {
   "cell_type": "code",
   "execution_count": 18,
   "metadata": {},
   "outputs": [
    {
     "ename": "KeyboardInterrupt",
     "evalue": "",
     "output_type": "error",
     "traceback": [
      "\u001b[1;31m---------------------------------------------------------------------------\u001b[0m",
      "\u001b[1;31mKeyboardInterrupt\u001b[0m                         Traceback (most recent call last)",
      "\u001b[1;32m<ipython-input-18-417f8b3fb7b8>\u001b[0m in \u001b[0;36m<module>\u001b[1;34m\u001b[0m\n\u001b[0;32m      4\u001b[0m     \u001b[0mtime\u001b[0m\u001b[1;33m.\u001b[0m\u001b[0msleep\u001b[0m\u001b[1;33m(\u001b[0m\u001b[0mrandom\u001b[0m\u001b[1;33m.\u001b[0m\u001b[0mrandint\u001b[0m\u001b[1;33m(\u001b[0m\u001b[1;36m7\u001b[0m\u001b[1;33m,\u001b[0m\u001b[1;36m25\u001b[0m\u001b[1;33m)\u001b[0m\u001b[1;33m)\u001b[0m\u001b[1;33m\u001b[0m\u001b[1;33m\u001b[0m\u001b[0m\n\u001b[0;32m      5\u001b[0m     \u001b[1;31m# Clears the text from the search box\u001b[0m\u001b[1;33m\u001b[0m\u001b[1;33m\u001b[0m\u001b[1;33m\u001b[0m\u001b[0m\n\u001b[1;32m----> 6\u001b[1;33m     \u001b[0mtime\u001b[0m\u001b[1;33m.\u001b[0m\u001b[0msleep\u001b[0m\u001b[1;33m(\u001b[0m\u001b[0mrandom\u001b[0m\u001b[1;33m.\u001b[0m\u001b[0mrandint\u001b[0m\u001b[1;33m(\u001b[0m\u001b[1;36m8\u001b[0m\u001b[1;33m,\u001b[0m \u001b[1;36m23\u001b[0m\u001b[1;33m)\u001b[0m\u001b[1;33m)\u001b[0m\u001b[1;33m\u001b[0m\u001b[1;33m\u001b[0m\u001b[0m\n\u001b[0m\u001b[0;32m      7\u001b[0m     \u001b[0mre_search_button\u001b[0m\u001b[1;33m.\u001b[0m\u001b[0mclear\u001b[0m\u001b[1;33m(\u001b[0m\u001b[1;33m)\u001b[0m\u001b[1;33m\u001b[0m\u001b[1;33m\u001b[0m\u001b[0m\n\u001b[0;32m      8\u001b[0m     \u001b[1;31m# Sending search text\u001b[0m\u001b[1;33m\u001b[0m\u001b[1;33m\u001b[0m\u001b[1;33m\u001b[0m\u001b[0m\n",
      "\u001b[1;31mKeyboardInterrupt\u001b[0m: "
     ]
    }
   ],
   "source": [
    "for i in range(len(top_locations)):\n",
    "    # Finds the search box again\n",
    "    re_search_button = driver.find_element_by_xpath('//*[@id=\"input-24\"]')\n",
    "    time.sleep(random.randint(7,25))\n",
    "    # Clears the text from the search box\n",
    "    time.sleep(random.randint(8, 23))\n",
    "    re_search_button.clear()\n",
    "    # Sending search text\n",
    "    time.sleep(random.randint(7, 27))\n",
    "    search = top_locations[i]\n",
    "    re_search_button.send_keys(search)\n",
    "    re_search_button.send_keys(u'\\ue007')\n",
    "    # Localizes download button and clicks on it!\n",
    "    download_button = driver.find_element_by_xpath('/html/body/div[2]/div[2]/div/md-content/div/div/div[1]/trends-widget/ng-include/widget/div/div/div/widget-actions/div/button[1]')\n",
    "    download_button.click()"
   ]
  },
  {
   "cell_type": "code",
   "execution_count": 12,
   "metadata": {},
   "outputs": [],
   "source": [
    "# Finds the search box again\n",
    "re_search_button = driver.find_element_by_xpath('//*[@id=\"input-24\"]')\n",
    "time.sleep(15)"
   ]
  },
  {
   "cell_type": "code",
   "execution_count": 13,
   "metadata": {},
   "outputs": [],
   "source": [
    "# Clears the text from the search box\n",
    "time.sleep(random.randint(8, 23))\n",
    "re_search_button.clear()"
   ]
  },
  {
   "cell_type": "code",
   "execution_count": 14,
   "metadata": {},
   "outputs": [],
   "source": [
    "# Sending search text\n",
    "time.sleep(random.randint(8, 23))\n",
    "search = top10_mallorca[1]\n",
    "re_search_button.send_keys(search)"
   ]
  },
  {
   "cell_type": "code",
   "execution_count": 15,
   "metadata": {},
   "outputs": [],
   "source": [
    "# Pressing enter to proceed with the search\n",
    "re_search_button.send_keys(u'\\ue007')"
   ]
  },
  {
   "cell_type": "code",
   "execution_count": 16,
   "metadata": {},
   "outputs": [],
   "source": [
    "# Localizes download button and clicks on it!\n",
    "download_button = driver.find_element_by_xpath('/html/body/div[2]/div[2]/div/md-content/div/div/div[1]/trends-widget/ng-include/widget/div/div/div/widget-actions/div/button[1]')\n",
    "download_button.click()"
   ]
  },
  {
   "cell_type": "code",
   "execution_count": null,
   "metadata": {},
   "outputs": [],
   "source": [
    "for i in range(len())"
   ]
  },
  {
   "cell_type": "code",
   "execution_count": null,
   "metadata": {},
   "outputs": [],
   "source": [
    "# UNTESTED PART\n",
    "for i in range(1,10):\n",
    "    # Finds the search box again\n",
    "    re_search_button = driver.find_element_by_xpath('//*[@id=\"input-24\"]')\n",
    "    time.sleep(15)\n",
    "    # Clears the text from the search box\n",
    "    re_search_button.clear()\n",
    "    # Sending search text\n",
    "    search = top10_mallorca[i]\n",
    "    re_search_button.send_keys(search)\n",
    "    # Pressing enter to proceed with the search\n",
    "    re_search_button.send_keys(u'\\ue007')\n",
    "    # Select timeframe of our data\n",
    "    timeframe_button = driver.find_element_by_xpath('//*[@id=\"select_11\"]')\n",
    "    timeframe_button.click()\n",
    "    five_year_button = driver.find_element_by_xpath('//*[@id=\"select_option_21\"]/div[1]')\n",
    "    five_year_button.click()\n",
    "    # Localizes download button and clicks on it!\n",
    "    download_button = driver.find_element_by_xpath('/html/body/div[2]/div[2]/div/md-content/div/div/div[1]/trends-widget/ng-include/widget/div/div/div/widget-actions/div/button[1]')\n",
    "    download_button.click()\n",
    "    # Renames the downloaded document\n",
    "    # os.rename(f'C:\\Users\\ppaau\\Downloads\\multiTimeline ({i}).csv', 'C:\\Users\\ppaau\\Downloads\\'+top10_mallorca[i]}.csv')\n",
    "    \n"
   ]
  },
  {
   "cell_type": "code",
   "execution_count": null,
   "metadata": {},
   "outputs": [],
   "source": []
  },
  {
   "cell_type": "code",
   "execution_count": null,
   "metadata": {},
   "outputs": [],
   "source": [
    "os.rename(r'Downloads\\multiTimeline ('+2+').csv', )"
   ]
  },
  {
   "cell_type": "code",
   "execution_count": null,
   "metadata": {},
   "outputs": [],
   "source": []
  },
  {
   "cell_type": "code",
   "execution_count": null,
   "metadata": {},
   "outputs": [],
   "source": [
    "os.rename(r'C:\\Users\\ppaau\\Downloads\\multiTimeline ('+2+').csv',\n",
    "          r'C:\\Users\\ppaau\\Downloads\\'+top10_mallorca[0]+'.csv')"
   ]
  }
 ],
 "metadata": {
  "kernelspec": {
   "display_name": "Python 3",
   "language": "python",
   "name": "python3"
  },
  "language_info": {
   "codemirror_mode": {
    "name": "ipython",
    "version": 3
   },
   "file_extension": ".py",
   "mimetype": "text/x-python",
   "name": "python",
   "nbconvert_exporter": "python",
   "pygments_lexer": "ipython3",
   "version": "3.8.3"
  }
 },
 "nbformat": 4,
 "nbformat_minor": 4
}
