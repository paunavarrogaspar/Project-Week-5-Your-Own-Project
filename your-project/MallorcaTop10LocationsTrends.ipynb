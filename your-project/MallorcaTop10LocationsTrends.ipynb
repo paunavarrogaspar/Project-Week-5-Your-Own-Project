{
 "cells": [
  {
   "cell_type": "code",
   "execution_count": 4,
   "metadata": {},
   "outputs": [],
   "source": [
    "from selenium import webdriver\n",
    "import os\n",
    "import time\n",
    "import random"
   ]
  },
  {
   "cell_type": "code",
   "execution_count": 17,
   "metadata": {},
   "outputs": [],
   "source": [
    "top_locations = [\"Castell de Bellver\", \"Cuevas del Drach\", \"Cabo de Formentor\",\n",
    "                  \"Palma Aquarium\", \"Soller\", \"Cala Galdana\", \"Cala Mitjana\", \n",
    "                 \"Monte Toro\", \"Cala Macarella\", \"Cala Macarelleta\", \"Albufera\",\n",
    "                 \"Cala Pregonda\", \"Faro de Favaritx\", \"Platges de Compte\", \n",
    "                 \"Cala Benirras\", \"Es Vedra\", \"ses Salines\", \"Cala Salada\",\n",
    "                 \"Ses Illetes\", \"Es Pujols\", \"Cap de Barbaria\", \"Ses Platgetes\"]"
   ]
  },
  {
   "cell_type": "code",
   "execution_count": 19,
   "metadata": {},
   "outputs": [],
   "source": [
    "# Opens the url\n",
    "url = \"https://trends.google.es/trends/\"\n",
    "driver = webdriver.Chrome(r'C:\\Users\\ppaau\\Desktop\\Academic\\IronHack\\Projects\\Project-Week-5-Your-Own-Project\\chromedriver.exe')\n",
    "driver.get(url)\n",
    "# Find the text search box\n",
    "search_box = driver.find_element_by_xpath('/html/body/div[2]/div[2]/div/ng-include/div/div[2]/autocomplete')\n",
    "# Clicks on the search box to do the search\n",
    "search_box.click()\n",
    "# Textes the needed search on the text box\n",
    "click_boto = driver.find_element_by_xpath('//*[@id=\"input-254\"]')\n",
    "search = top_locations[0]\n",
    "click_boto.send_keys(search)\n",
    "# Presses enter to proceed with the search\n",
    "search_button = driver.find_element_by_xpath('//*[@id=\"input-254\"]')\n",
    "search_button.send_keys(u'\\ue007')\n",
    "# Select the geografical location \"All the world\"\n",
    "location_button = driver.find_element_by_xpath('//*[@id=\"compare-pickers-wrapper\"]/div/hierarchy-picker[1]/ng-include')\n",
    "location_button.click()\n",
    "world_button = driver.find_element_by_xpath('//*[@id=\"ul-10\"]/li[1]/md-autocomplete-parent-scope/div/div/span')\n",
    "world_button.click()\n",
    "# Select timeframe of our data\n",
    "timeframe_button = driver.find_element_by_xpath('//*[@id=\"select_11\"]')\n",
    "timeframe_button.click()\n",
    "five_year_button = driver.find_element_by_xpath('//*[@id=\"select_option_21\"]/div[1]')\n",
    "five_year_button.click()\n",
    "# Localizes download button and clicks on it!\n",
    "download_button = driver.find_element_by_xpath('/html/body/div[2]/div[2]/div/md-content/div/div/div[1]/trends-widget/ng-include/widget/div/div/div/widget-actions/div/button[1]')\n",
    "download_button.click()\n"
   ]
  },
  {
   "cell_type": "code",
   "execution_count": null,
   "metadata": {},
   "outputs": [],
   "source": []
  },
  {
   "cell_type": "code",
   "execution_count": 18,
   "metadata": {},
   "outputs": [
    {
     "ename": "KeyboardInterrupt",
     "evalue": "",
     "output_type": "error",
     "traceback": [
      "\u001b[1;31m---------------------------------------------------------------------------\u001b[0m",
      "\u001b[1;31mKeyboardInterrupt\u001b[0m                         Traceback (most recent call last)",
      "\u001b[1;32m<ipython-input-18-417f8b3fb7b8>\u001b[0m in \u001b[0;36m<module>\u001b[1;34m\u001b[0m\n\u001b[0;32m      4\u001b[0m     \u001b[0mtime\u001b[0m\u001b[1;33m.\u001b[0m\u001b[0msleep\u001b[0m\u001b[1;33m(\u001b[0m\u001b[0mrandom\u001b[0m\u001b[1;33m.\u001b[0m\u001b[0mrandint\u001b[0m\u001b[1;33m(\u001b[0m\u001b[1;36m7\u001b[0m\u001b[1;33m,\u001b[0m\u001b[1;36m25\u001b[0m\u001b[1;33m)\u001b[0m\u001b[1;33m)\u001b[0m\u001b[1;33m\u001b[0m\u001b[1;33m\u001b[0m\u001b[0m\n\u001b[0;32m      5\u001b[0m     \u001b[1;31m# Clears the text from the search box\u001b[0m\u001b[1;33m\u001b[0m\u001b[1;33m\u001b[0m\u001b[1;33m\u001b[0m\u001b[0m\n\u001b[1;32m----> 6\u001b[1;33m     \u001b[0mtime\u001b[0m\u001b[1;33m.\u001b[0m\u001b[0msleep\u001b[0m\u001b[1;33m(\u001b[0m\u001b[0mrandom\u001b[0m\u001b[1;33m.\u001b[0m\u001b[0mrandint\u001b[0m\u001b[1;33m(\u001b[0m\u001b[1;36m8\u001b[0m\u001b[1;33m,\u001b[0m \u001b[1;36m23\u001b[0m\u001b[1;33m)\u001b[0m\u001b[1;33m)\u001b[0m\u001b[1;33m\u001b[0m\u001b[1;33m\u001b[0m\u001b[0m\n\u001b[0m\u001b[0;32m      7\u001b[0m     \u001b[0mre_search_button\u001b[0m\u001b[1;33m.\u001b[0m\u001b[0mclear\u001b[0m\u001b[1;33m(\u001b[0m\u001b[1;33m)\u001b[0m\u001b[1;33m\u001b[0m\u001b[1;33m\u001b[0m\u001b[0m\n\u001b[0;32m      8\u001b[0m     \u001b[1;31m# Sending search text\u001b[0m\u001b[1;33m\u001b[0m\u001b[1;33m\u001b[0m\u001b[1;33m\u001b[0m\u001b[0m\n",
      "\u001b[1;31mKeyboardInterrupt\u001b[0m: "
     ]
    }
   ],
   "source": [
    "for i in range(len(top_locations)):\n",
    "    # Finds the search box again\n",
    "    re_search_button = driver.find_element_by_xpath('//*[@id=\"input-24\"]')\n",
    "    time.sleep(random.randint(7,25))\n",
    "    # Clears the text from the search box\n",
    "    time.sleep(random.randint(8, 23))\n",
    "    re_search_button.clear()\n",
    "    # Sending search text\n",
    "    time.sleep(random.randint(7, 27))\n",
    "    search = top_locations[i]\n",
    "    re_search_button.send_keys(search)\n",
    "    re_search_button.send_keys(u'\\ue007')\n",
    "    # Localizes download button and clicks on it!\n",
    "    download_button = driver.find_element_by_xpath('/html/body/div[2]/div[2]/div/md-content/div/div/div[1]/trends-widget/ng-include/widget/div/div/div/widget-actions/div/button[1]')\n",
    "    download_button.click()"
   ]
  },
  {
   "cell_type": "code",
   "execution_count": 12,
   "metadata": {},
   "outputs": [],
   "source": [
    "# Finds the search box again\n",
    "re_search_button = driver.find_element_by_xpath('//*[@id=\"input-24\"]')\n",
    "time.sleep(15)"
   ]
  },
  {
   "cell_type": "code",
   "execution_count": 13,
   "metadata": {},
   "outputs": [],
   "source": [
    "# Clears the text from the search box\n",
    "time.sleep(random.randint(8, 23))\n",
    "re_search_button.clear()"
   ]
  },
  {
   "cell_type": "code",
   "execution_count": 14,
   "metadata": {},
   "outputs": [],
   "source": [
    "# Sending search text\n",
    "time.sleep(random.randint(8, 23))\n",
    "search = top10_mallorca[1]\n",
    "re_search_button.send_keys(search)"
   ]
  },
  {
   "cell_type": "code",
   "execution_count": 15,
   "metadata": {},
   "outputs": [],
   "source": [
    "# Pressing enter to proceed with the search\n",
    "re_search_button.send_keys(u'\\ue007')"
   ]
  },
  {
   "cell_type": "code",
   "execution_count": 16,
   "metadata": {},
   "outputs": [],
   "source": [
    "# Localizes download button and clicks on it!\n",
    "download_button = driver.find_element_by_xpath('/html/body/div[2]/div[2]/div/md-content/div/div/div[1]/trends-widget/ng-include/widget/div/div/div/widget-actions/div/button[1]')\n",
    "download_button.click()"
   ]
  },
  {
   "cell_type": "code",
   "execution_count": null,
   "metadata": {},
   "outputs": [],
   "source": [
    "for i in range(len())"
   ]
  },
  {
   "cell_type": "code",
   "execution_count": null,
   "metadata": {},
   "outputs": [],
   "source": [
    "# UNTESTED PART\n",
    "for i in range(1,10):\n",
    "    # Finds the search box again\n",
    "    re_search_button = driver.find_element_by_xpath('//*[@id=\"input-24\"]')\n",
    "    time.sleep(15)\n",
    "    # Clears the text from the search box\n",
    "    re_search_button.clear()\n",
    "    # Sending search text\n",
    "    search = top10_mallorca[i]\n",
    "    re_search_button.send_keys(search)\n",
    "    # Pressing enter to proceed with the search\n",
    "    re_search_button.send_keys(u'\\ue007')\n",
    "    # Select timeframe of our data\n",
    "    timeframe_button = driver.find_element_by_xpath('//*[@id=\"select_11\"]')\n",
    "    timeframe_button.click()\n",
    "    five_year_button = driver.find_element_by_xpath('//*[@id=\"select_option_21\"]/div[1]')\n",
    "    five_year_button.click()\n",
    "    # Localizes download button and clicks on it!\n",
    "    download_button = driver.find_element_by_xpath('/html/body/div[2]/div[2]/div/md-content/div/div/div[1]/trends-widget/ng-include/widget/div/div/div/widget-actions/div/button[1]')\n",
    "    download_button.click()\n",
    "    # Renames the downloaded document\n",
    "    # os.rename(f'C:\\Users\\ppaau\\Downloads\\multiTimeline ({i}).csv', 'C:\\Users\\ppaau\\Downloads\\'+top10_mallorca[i]}.csv')\n",
    "    \n"
   ]
  },
  {
   "cell_type": "code",
   "execution_count": null,
   "metadata": {},
   "outputs": [],
   "source": []
  },
  {
   "cell_type": "code",
   "execution_count": null,
   "metadata": {},
   "outputs": [],
   "source": []
  },
  {
   "cell_type": "code",
   "execution_count": null,
   "metadata": {},
   "outputs": [],
   "source": []
  },
  {
   "cell_type": "code",
   "execution_count": null,
   "metadata": {},
   "outputs": [],
   "source": [
    "os.rename(r'C:\\Users\\ppaau\\Downloads\\multiTimeline ('+2+').csv',\n",
    "          r'C:\\Users\\ppaau\\Downloads\\'+top10_mallorca[0]+'.csv')"
   ]
  }
 ],
 "metadata": {
  "kernelspec": {
   "display_name": "Python 3",
   "language": "python",
   "name": "python3"
  },
  "language_info": {
   "codemirror_mode": {
    "name": "ipython",
    "version": 3
   },
   "file_extension": ".py",
   "mimetype": "text/x-python",
   "name": "python",
   "nbconvert_exporter": "python",
   "pygments_lexer": "ipython3",
   "version": "3.8.3"
  }
 },
 "nbformat": 4,
 "nbformat_minor": 4
}
