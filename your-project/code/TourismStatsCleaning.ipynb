{
 "cells": [
  {
   "cell_type": "code",
   "execution_count": 43,
   "metadata": {},
   "outputs": [],
   "source": [
    "import pandas as pd\n",
    "import re"
   ]
  },
  {
   "cell_type": "code",
   "execution_count": 27,
   "metadata": {},
   "outputs": [
    {
     "data": {
      "text/html": [
       "<div>\n",
       "<style scoped>\n",
       "    .dataframe tbody tr th:only-of-type {\n",
       "        vertical-align: middle;\n",
       "    }\n",
       "\n",
       "    .dataframe tbody tr th {\n",
       "        vertical-align: top;\n",
       "    }\n",
       "\n",
       "    .dataframe thead th {\n",
       "        text-align: right;\n",
       "    }\n",
       "</style>\n",
       "<table border=\"1\" class=\"dataframe\">\n",
       "  <thead>\n",
       "    <tr style=\"text-align: right;\">\n",
       "      <th></th>\n",
       "      <th>CountryTag</th>\n",
       "      <th>Dato mensual</th>\n",
       "      <th>Tasa de variación anual</th>\n",
       "      <th>Acumulado del año</th>\n",
       "      <th>Tasa de variación del acumulado</th>\n",
       "    </tr>\n",
       "  </thead>\n",
       "  <tbody>\n",
       "    <tr>\n",
       "      <th>0</th>\n",
       "      <td>TOTAL (1+2)</td>\n",
       "      <td>0</td>\n",
       "      <td>-100</td>\n",
       "      <td>729.443</td>\n",
       "      <td>-83</td>\n",
       "    </tr>\n",
       "    <tr>\n",
       "      <th>1</th>\n",
       "      <td>1. ESPAÑA (otras ccaa)</td>\n",
       "      <td>0</td>\n",
       "      <td>-100</td>\n",
       "      <td>323.973</td>\n",
       "      <td>-60,33</td>\n",
       "    </tr>\n",
       "    <tr>\n",
       "      <th>2</th>\n",
       "      <td>2. EXTRANJERO</td>\n",
       "      <td>0</td>\n",
       "      <td>-100</td>\n",
       "      <td>405.470</td>\n",
       "      <td>-88,33</td>\n",
       "    </tr>\n",
       "    <tr>\n",
       "      <th>3</th>\n",
       "      <td>(103) Bélgica</td>\n",
       "      <td>0</td>\n",
       "      <td>-100</td>\n",
       "      <td>5.144</td>\n",
       "      <td>-92,5</td>\n",
       "    </tr>\n",
       "    <tr>\n",
       "      <th>4</th>\n",
       "      <td>(110) Francia</td>\n",
       "      <td>0</td>\n",
       "      <td>-100</td>\n",
       "      <td>15.823</td>\n",
       "      <td>-91,21</td>\n",
       "    </tr>\n",
       "    <tr>\n",
       "      <th>...</th>\n",
       "      <td>...</td>\n",
       "      <td>...</td>\n",
       "      <td>...</td>\n",
       "      <td>...</td>\n",
       "      <td>...</td>\n",
       "    </tr>\n",
       "    <tr>\n",
       "      <th>834</th>\n",
       "      <td>(132) Suiza</td>\n",
       "      <td>50.357</td>\n",
       "      <td>23,99</td>\n",
       "      <td>..</td>\n",
       "      <td>..</td>\n",
       "    </tr>\n",
       "    <tr>\n",
       "      <th>835</th>\n",
       "      <td>(154) Rusia</td>\n",
       "      <td>1.166</td>\n",
       "      <td>-16,55</td>\n",
       "      <td>..</td>\n",
       "      <td>..</td>\n",
       "    </tr>\n",
       "    <tr>\n",
       "      <th>836</th>\n",
       "      <td>Países nórdicos</td>\n",
       "      <td>53.907</td>\n",
       "      <td>5,48</td>\n",
       "      <td>..</td>\n",
       "      <td>..</td>\n",
       "    </tr>\n",
       "    <tr>\n",
       "      <th>837</th>\n",
       "      <td>Resto de Europa</td>\n",
       "      <td>28.456</td>\n",
       "      <td>-35,93</td>\n",
       "      <td>..</td>\n",
       "      <td>..</td>\n",
       "    </tr>\n",
       "    <tr>\n",
       "      <th>838</th>\n",
       "      <td>Resto del mundo</td>\n",
       "      <td>10.467</td>\n",
       "      <td>-2,12</td>\n",
       "      <td>..</td>\n",
       "      <td>..</td>\n",
       "    </tr>\n",
       "  </tbody>\n",
       "</table>\n",
       "<p>839 rows × 5 columns</p>\n",
       "</div>"
      ],
      "text/plain": [
       "                    CountryTag Dato mensual Tasa de variación anual  \\\n",
       "0                  TOTAL (1+2)            0                    -100   \n",
       "1       1. ESPAÑA (otras ccaa)            0                    -100   \n",
       "2                2. EXTRANJERO            0                    -100   \n",
       "3                (103) Bélgica            0                    -100   \n",
       "4                (110) Francia            0                    -100   \n",
       "..                         ...          ...                     ...   \n",
       "834                (132) Suiza       50.357                   23,99   \n",
       "835                (154) Rusia        1.166                  -16,55   \n",
       "836            Países nórdicos       53.907                    5,48   \n",
       "837            Resto de Europa       28.456                  -35,93   \n",
       "838            Resto del mundo       10.467                   -2,12   \n",
       "\n",
       "    Acumulado del año Tasa de variación del acumulado  \n",
       "0             729.443                             -83  \n",
       "1             323.973                          -60,33  \n",
       "2             405.470                          -88,33  \n",
       "3               5.144                           -92,5  \n",
       "4              15.823                          -91,21  \n",
       "..                ...                             ...  \n",
       "834                ..                              ..  \n",
       "835                ..                              ..  \n",
       "836                ..                              ..  \n",
       "837                ..                              ..  \n",
       "838                ..                              ..  \n",
       "\n",
       "[839 rows x 5 columns]"
      ]
     },
     "execution_count": 27,
     "metadata": {},
     "output_type": "execute_result"
    }
   ],
   "source": [
    "tourism = pd.read_csv('../data/IBESTAT_Turistas con destino principal las Illes Balears por periodo y país de residencia (1).csv', sep=\";\")\n",
    "tourism"
   ]
  },
  {
   "cell_type": "code",
   "execution_count": 95,
   "metadata": {},
   "outputs": [
    {
     "data": {
      "text/plain": [
       "'   Países nórdicos'"
      ]
     },
     "execution_count": 95,
     "metadata": {},
     "output_type": "execute_result"
    }
   ],
   "source": [
    "tourism.iloc[11, 0]"
   ]
  },
  {
   "cell_type": "code",
   "execution_count": 75,
   "metadata": {
    "scrolled": false
   },
   "outputs": [],
   "source": [
    "spain_df = tourism.loc[tourism[\"CountryTag\"]==\"   1. ESPAÑA (otras ccaa)\"].reset_index()\n",
    "tourists_spain = []\n",
    "for i in range(len(spain_df)):\n",
    "    tourists_spain.append(spain_df[\"Dato mensual\"][i])"
   ]
  },
  {
   "cell_type": "code",
   "execution_count": 76,
   "metadata": {},
   "outputs": [],
   "source": [
    "belgium_df = tourism.loc[tourism[\"CountryTag\"]==\"   (103) Bélgica\"].reset_index()\n",
    "tourists_belgium = []\n",
    "for i in range(len(belgium_df)):\n",
    "    tourists_belgium.append(belgium_df[\"Dato mensual\"][i])"
   ]
  },
  {
   "cell_type": "code",
   "execution_count": 77,
   "metadata": {},
   "outputs": [],
   "source": [
    "france_df = tourism.loc[tourism[\"CountryTag\"]==\"   (110) Francia\"].reset_index()\n",
    "tourists_france = []\n",
    "for i in range(len(france_df)):\n",
    "    tourists_france.append(france_df[\"Dato mensual\"][i])"
   ]
  },
  {
   "cell_type": "code",
   "execution_count": 78,
   "metadata": {},
   "outputs": [],
   "source": [
    "italy_df = tourism.loc[tourism[\"CountryTag\"]==\"   (115) Italia\"].reset_index()\n",
    "tourists_italy = []\n",
    "for i in range(len(italy_df)):\n",
    "    tourists_italy.append(italy_df[\"Dato mensual\"][i])"
   ]
  },
  {
   "cell_type": "code",
   "execution_count": 79,
   "metadata": {},
   "outputs": [],
   "source": [
    "netherlands_df = tourism.loc[tourism[\"CountryTag\"]==\"   (121) Países Bajos\"].reset_index()\n",
    "tourists_netherlands = []\n",
    "for i in range(len(netherlands_df)):\n",
    "    tourists_netherlands.append(netherlands_df[\"Dato mensual\"][i])"
   ]
  },
  {
   "cell_type": "code",
   "execution_count": 80,
   "metadata": {},
   "outputs": [],
   "source": [
    "uk_df = tourism.loc[tourism[\"CountryTag\"]==\"   (125) Reino Unido\"].reset_index()\n",
    "tourists_uk = []\n",
    "for i in range(len(uk_df)):\n",
    "    tourists_uk.append(uk_df[\"Dato mensual\"][i])"
   ]
  },
  {
   "cell_type": "code",
   "execution_count": 81,
   "metadata": {},
   "outputs": [],
   "source": [
    "germany_df = tourism.loc[tourism[\"CountryTag\"]==\"   (126) Alemania\"].reset_index()\n",
    "tourists_germany = []\n",
    "for i in range(len(germany_df)):\n",
    "    tourists_germany.append(germany_df[\"Dato mensual\"][i])"
   ]
  },
  {
   "cell_type": "code",
   "execution_count": 82,
   "metadata": {},
   "outputs": [],
   "source": [
    "switzerland_df = tourism.loc[tourism[\"CountryTag\"]==\"   (132) Suiza\"].reset_index()\n",
    "tourists_switzerland = []\n",
    "for i in range(len(switzerland_df)):\n",
    "    tourists_switzerland.append(switzerland_df[\"Dato mensual\"][i])"
   ]
  },
  {
   "cell_type": "code",
   "execution_count": 83,
   "metadata": {},
   "outputs": [],
   "source": [
    "dates = [\"05-2020\", \"04-2020\", \"03-2020\", \"02-2020\", \"01-2020\"]\n",
    "month = [\"12\",\"11\",\"10\",\"09\",\"08\",\"07\",\"06\",\"05\",\"04\",\"03\",\"02\",\"01\"]\n",
    "for i in range(12):\n",
    "    dates.append(month[i]+\"-2019\")\n",
    "for i in range(12):\n",
    "    dates.append(month[i]+\"-2018\")\n",
    "for i in range(12):\n",
    "    dates.append(month[i]+\"-2017\")\n",
    "for i in range(12):\n",
    "    dates.append(month[i]+\"-2016\")\n",
    "for i in range(3):\n",
    "    dates.append(month[i]+\"-2015\")\n",
    "\n"
   ]
  },
  {
   "cell_type": "code",
   "execution_count": 97,
   "metadata": {},
   "outputs": [],
   "source": [
    "tourism_influx = pd.DataFrame({\"date\":dates, \"spanish\":tourists_spain,\n",
    "                               \"belge\":tourists_belgium, \"french\":tourists_france,\n",
    "                              \"german\":tourists_germany, \"italian\":tourists_italy,\n",
    "                              \"dutch\":tourists_netherlands,\n",
    "                              \"swiss\": tourists_switzerland,\n",
    "                              \"british\":tourists_uk})\n",
    "tourism_influx.to_csv('../data/BalearicIslandsTourismClean.csv')"
   ]
  }
 ],
 "metadata": {
  "kernelspec": {
   "display_name": "Python 3",
   "language": "python",
   "name": "python3"
  },
  "language_info": {
   "codemirror_mode": {
    "name": "ipython",
    "version": 3
   },
   "file_extension": ".py",
   "mimetype": "text/x-python",
   "name": "python",
   "nbconvert_exporter": "python",
   "pygments_lexer": "ipython3",
   "version": "3.8.3"
  }
 },
 "nbformat": 4,
 "nbformat_minor": 4
}
