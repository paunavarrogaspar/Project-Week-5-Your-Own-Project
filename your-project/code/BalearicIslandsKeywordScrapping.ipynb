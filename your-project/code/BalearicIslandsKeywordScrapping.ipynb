{
 "cells": [
  {
   "cell_type": "code",
   "execution_count": 1,
   "metadata": {},
   "outputs": [],
   "source": [
    "import requests\n",
    "from bs4 import BeautifulSoup\n",
    "import pandas as pd\n",
    "import re"
   ]
  },
  {
   "cell_type": "code",
   "execution_count": 2,
   "metadata": {},
   "outputs": [
    {
     "name": "stdout",
     "output_type": "stream",
     "text": [
      "<!DOCTYPE html>\n",
      "<html lang=\"en\">\n",
      " <meta charset=\"utf-8\"/>\n",
      " <meta content=\"initial-scale=1, minimum-scale=1, width=device-width\" name=\"viewport\"/>\n",
      " <title>\n",
      "  Error 429 (Too Many Requests)!!1\n",
      " </title>\n",
      " <style nonce=\"jD+xv1KVI1vinkZle9G36g\">\n",
      "  *{margin:0;padding:0}html,code{font:15px/22px arial,sans-serif}html{background:#fff;color:#222;padding:15px}body{color:#222;text-align:unset;margin:7% auto 0;max-width:390px;min-height:180px;padding:30px 0 15px;}* > body{background:url(//www.google.com/images/errors/robot.png) 100% 5px no-repeat;padding-right:205px}p{margin:11px 0 22px;overflow:hidden}pre{white-space:pre-wrap;}ins{color:#777;text-decoration:none}a img{border:0}@media screen and (max-width:772px){body{background:none;margin-top:0;max-width:none;padding-right:0}}#logo{background:url(//www.google.com/images/branding/googlelogo/1x/googlelogo_color_150x54dp.png) no-repeat;margin-left:-5px}@media only screen and (min-resolution:192dpi){#logo{background:url(//www.google.com/images/branding/googlelogo/2x/googlelogo_color_150x54dp.png) no-repeat 0% 0%/100% 100%;-moz-border-image:url(//www.google.com/images/branding/googlelogo/2x/googlelogo_color_150x54dp.png) 0}}@media only screen and (-webkit-min-device-pixel-ratio:2){#logo{background:url(//www.google.com/images/branding/googlelogo/2x/googlelogo_color_150x54dp.png) no-repeat;-webkit-background-size:100% 100%}}#logo{display:inline-block;height:54px;width:150px}\n",
      " </style>\n",
      " <div id=\"af-error-container\">\n",
      "  <a href=\"//www.google.com\">\n",
      "   <span aria-label=\"Google\" id=\"logo\">\n",
      "   </span>\n",
      "  </a>\n",
      "  <p>\n",
      "   <b>\n",
      "    429.\n",
      "   </b>\n",
      "   <ins>\n",
      "    That’s an error.\n",
      "   </ins>\n",
      "   <p>\n",
      "    We're sorry, but you have sent too many requests to us recently. Please try again later.\n",
      "    <ins>\n",
      "     That’s all we know.\n",
      "    </ins>\n",
      "   </p>\n",
      "  </p>\n",
      " </div>\n",
      "</html>\n"
     ]
    }
   ],
   "source": [
    "# I scrapp Google Travel page for Mallorca to get the html code\n",
    "\n",
    "url = \"https://trends.google.es/trends/explore?date=today%205-y&q=Es%20Trenc\"\n",
    "page = requests.get(url)\n",
    "soup=BeautifulSoup(page.content, \"html.parser\")\n",
    "print(soup.prettify())"
   ]
  },
  {
   "cell_type": "code",
   "execution_count": 3,
   "metadata": {},
   "outputs": [],
   "source": [
    "# From the html code, I try to extract the recommended locations of Mallorca\n",
    "\n",
    "mallorca_raw = soup.select(\"div.rbj0Ud\")\n",
    "\n",
    "# I generate a loop that extracts the name of the location using .get_text()\n",
    "mallorca_keywords = []\n",
    "\n",
    "for i in range(len(mallorca_raw)):\n",
    "    mallorca_keywords.append(mallorca_raw[i].get_text())"
   ]
  },
  {
   "cell_type": "code",
   "execution_count": 4,
   "metadata": {},
   "outputs": [],
   "source": [
    "# I scrapp Google Travel page for Menorca to get the html code\n",
    "\n",
    "url = \"https://www.google.com/travel/things-to-do/see-all?dest_src=ut&dest_mid=%2Fm%2F0g87v&tcfs=EhMKCC9tLzBnODd2EgdNZW5vcmNh&g2lb=2502548%2C4258168%2C4270442%2C4305595%2C4306835%2C4317915%2C4319922%2C4322823%2C4328159%2C4347309%2C4367952%2C4371334%2C4381263%2C4401769%2C4402622%2C4403882&hl=es&gl=ES&dest_state_type=sattd&otf=1#ttdm=39.921392_3.957982_10&ttdmf=%25252Fg%25252F121ybdln\"\n",
    "page = requests.get(url)\n",
    "soup=BeautifulSoup(page.content, \"html.parser\")"
   ]
  },
  {
   "cell_type": "code",
   "execution_count": 5,
   "metadata": {},
   "outputs": [],
   "source": [
    "# From the html code, I try to extract the recommended locations of Menorca\n",
    "\n",
    "menorca_raw = soup.select(\"div.rbj0Ud\")\n",
    "\n",
    "# I generate a loop that extracts the name of the location using .get_text()\n",
    "menorca_keywords = []\n",
    "\n",
    "for i in range(len(menorca_raw)):\n",
    "    menorca_keywords.append(menorca_raw[i].get_text())"
   ]
  },
  {
   "cell_type": "code",
   "execution_count": 6,
   "metadata": {},
   "outputs": [],
   "source": [
    "# I scrapp Google Travel page for Ibiza to get the html code\n",
    "\n",
    "url = \"https://www.google.com/travel/things-to-do/see-all?dest_src=ut&dest_mid=%2Fm%2F0h2c3&tcfs=EhEKCC9tLzBoMmMzEgVJYml6YQ&g2lb=2502548%2C4258168%2C4270442%2C4305595%2C4306835%2C4317915%2C4319922%2C4322823%2C4328159%2C4347309%2C4367952%2C4371334%2C4381263%2C4401769%2C4402622%2C4403882&hl=es&gl=ES&dest_state_type=sattd&otf=1#ttdm=38.836585_1.374851_10&ttdmf=%25252Fm%25252F0n49p8x\"\n",
    "page = requests.get(url)\n",
    "soup=BeautifulSoup(page.content, \"html.parser\")"
   ]
  },
  {
   "cell_type": "code",
   "execution_count": 7,
   "metadata": {},
   "outputs": [],
   "source": [
    "# From the html code, I try to extract the recommended locations of Ibiza\n",
    "\n",
    "ibiza_raw = soup.select(\"div.rbj0Ud\")\n",
    "\n",
    "# I generate a loop that extracts the name of the location using .get_text()\n",
    "ibiza_keywords = []\n",
    "\n",
    "for i in range(len(ibiza_raw)):\n",
    "    ibiza_keywords.append(ibiza_raw[i].get_text())"
   ]
  },
  {
   "cell_type": "code",
   "execution_count": 8,
   "metadata": {},
   "outputs": [],
   "source": [
    "# I scrapp Google Travel page for Formentera to get the html code\n",
    "\n",
    "url = \"https://www.google.com/travel/things-to-do/see-all?dest_src=ut&dest_mid=%2Fm%2F0dhh4&tcfs=EhYKCC9tLzBkaGg0EgpGb3JtZW50ZXJh&g2lb=2502548%2C4258168%2C4270442%2C4305595%2C4306835%2C4317915%2C4319922%2C4322823%2C4328159%2C4347309%2C4367952%2C4371334%2C4381263%2C4401769%2C4402622%2C4403882&hl=es&gl=ES&dest_state_type=sattd&otf=1#ttdm=38.737132_1.435336_11&ttdmf=%252Fm%252F03wdxrw\"\n",
    "page = requests.get(url)\n",
    "soup=BeautifulSoup(page.content, \"html.parser\")"
   ]
  },
  {
   "cell_type": "code",
   "execution_count": 9,
   "metadata": {},
   "outputs": [],
   "source": [
    "# From the html code, I try to extract the recommended locations of Formentera\n",
    "\n",
    "formentera_raw = soup.select(\"div.rbj0Ud\")\n",
    "\n",
    "# I generate a loop that extracts the name of the location using .get_text()\n",
    "formentera_keywords = []\n",
    "\n",
    "for i in range(len(formentera_raw)):\n",
    "    formentera_keywords.append(formentera_raw[i].get_text())"
   ]
  },
  {
   "cell_type": "code",
   "execution_count": 10,
   "metadata": {},
   "outputs": [
    {
     "name": "stdout",
     "output_type": "stream",
     "text": [
      "255\n"
     ]
    }
   ],
   "source": [
    "print(len(mallorca_keywords)+len(menorca_keywords)+len(ibiza_keywords)+len(formentera_keywords))"
   ]
  },
  {
   "cell_type": "code",
   "execution_count": 11,
   "metadata": {},
   "outputs": [
    {
     "data": {
      "text/plain": [
       "[]"
      ]
     },
     "execution_count": 11,
     "metadata": {},
     "output_type": "execute_result"
    }
   ],
   "source": [
    "mallorca_keywords[:9]"
   ]
  },
  {
   "cell_type": "code",
   "execution_count": null,
   "metadata": {},
   "outputs": [],
   "source": []
  },
  {
   "cell_type": "code",
   "execution_count": null,
   "metadata": {},
   "outputs": [],
   "source": []
  },
  {
   "cell_type": "code",
   "execution_count": null,
   "metadata": {},
   "outputs": [],
   "source": []
  }
 ],
 "metadata": {
  "kernelspec": {
   "display_name": "Python 3",
   "language": "python",
   "name": "python3"
  },
  "language_info": {
   "codemirror_mode": {
    "name": "ipython",
    "version": 3
   },
   "file_extension": ".py",
   "mimetype": "text/x-python",
   "name": "python",
   "nbconvert_exporter": "python",
   "pygments_lexer": "ipython3",
   "version": "3.8.3"
  }
 },
 "nbformat": 4,
 "nbformat_minor": 4
}
