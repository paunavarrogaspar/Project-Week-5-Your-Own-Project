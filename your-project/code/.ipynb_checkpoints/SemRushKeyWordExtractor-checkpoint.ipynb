{
 "cells": [
  {
   "cell_type": "code",
   "execution_count": 80,
   "metadata": {},
   "outputs": [],
   "source": [
    "import pandas as pd\n",
    "from selenium import webdriver\n",
    "from selenium.webdriver.common.keys import Keys\n",
    "import re\n",
    "import getpass\n",
    "import time"
   ]
  },
  {
   "cell_type": "code",
   "execution_count": 61,
   "metadata": {
    "collapsed": true
   },
   "outputs": [
    {
     "data": {
      "text/plain": [
       "['4, 2020',\n",
       " '3, 2020',\n",
       " '2, 2020',\n",
       " '1, 2020',\n",
       " '12, 2019',\n",
       " '11, 2019',\n",
       " '10, 2019',\n",
       " '9, 2019',\n",
       " '8, 2019',\n",
       " '7, 2019',\n",
       " '6, 2019',\n",
       " '5, 2019',\n",
       " '4, 2019',\n",
       " '3, 2019',\n",
       " '2, 2019',\n",
       " '1, 2019',\n",
       " '12, 2018',\n",
       " '11, 2018',\n",
       " '10, 2018',\n",
       " '9, 2018',\n",
       " '8, 2018',\n",
       " '7, 2018',\n",
       " '6, 2018',\n",
       " '5, 2018',\n",
       " '4, 2018',\n",
       " '3, 2018',\n",
       " '2, 2018',\n",
       " '1, 2018',\n",
       " '12, 2017',\n",
       " '11, 2017',\n",
       " '10, 2017',\n",
       " '9, 2017',\n",
       " '8, 2017',\n",
       " '7, 2017',\n",
       " '6, 2017',\n",
       " '5, 2017',\n",
       " '4, 2017',\n",
       " '3, 2017',\n",
       " '2, 2017',\n",
       " '1, 2017',\n",
       " '12, 2016',\n",
       " '11, 2016',\n",
       " '10, 2016',\n",
       " '9, 2016',\n",
       " '8, 2016',\n",
       " '7, 2016',\n",
       " '6, 2016',\n",
       " '5, 2016',\n",
       " '4, 2016',\n",
       " '3, 2016',\n",
       " '2, 2016',\n",
       " '1, 2016',\n",
       " '12, 2015',\n",
       " '11, 2015',\n",
       " '10, 2015']"
      ]
     },
     "execution_count": 61,
     "metadata": {},
     "output_type": "execute_result"
    }
   ],
   "source": [
    "top_locations = [\"Castell de Bellver\", \"Cuevas del Drach\", \"Cabo de Formentor\",\n",
    "                  \"Palma Aquarium\", \"Soller\", \"Cala Galdana\", \"Cala Mitjana\", \n",
    "                 \"Monte Toro\", \"Cala Macarella\", \"Cala Macarelleta\", \"Albufera\",\n",
    "                 \"Cala Pregonda\", \"Faro de Favaritx\", \"Platges de Compte\", \n",
    "                 \"Cala Benirras\", \"Es Vedra\", \"ses Salines\", \"Cala Salada\",\n",
    "                 \"Ses Illetes\", \"Es Pujols\", \"Cap de Barbaria\", \"Ses Platgetes\"]\n",
    "dates1 = []\n",
    "dates2 = []\n",
    "dates3 = []\n",
    "dates4 = []\n",
    "dates5 = []\n",
    "dates6 = []\n",
    "months = [\"1\",\"2\",\"3\",\"4\",\"5\",\"6\",\"7\",\"8\",\"9\",\"10\",\"11\",\"12\"]\n",
    "years = [\"2020\",\"2019\",\"2018\",\"2017\",\"2016\",\"2015\"]\n",
    "for i in range(4):\n",
    "    dates1.append(str(months[i]+\", \"+years[0]))\n",
    "dates = []\n",
    "for i in range(1, (len(dates1)+1)):\n",
    "    dates.append(dates1[-i])\n",
    "for i in range(len(months)):\n",
    "    dates2.append(str(months[i]+\", \"+years[1]))\n",
    "for i in range(1, (len(dates2)+1)):\n",
    "    dates.append(dates2[-i])\n",
    "for i in range(len(months)):\n",
    "    dates3.append(str(months[i]+\", \"+years[2]))\n",
    "for i in range(1, (len(dates3)+1)):\n",
    "    dates.append(dates3[-i])\n",
    "for i in range(len(months)):\n",
    "    dates4.append(str(months[i]+\", \"+years[3]))\n",
    "for i in range(1, (len(dates4)+1)):\n",
    "    dates.append(dates4[-i])\n",
    "for i in range(len(months)):\n",
    "    dates5.append(str(months[i]+\", \"+years[4]))\n",
    "for i in range(1, (len(dates5)+1)):\n",
    "    dates.append(dates5[-i])\n",
    "for i in range(len(months)):\n",
    "    dates6.append(str(months[i]+\", \"+years[5]))\n",
    "for i in range(1, 4):\n",
    "    dates.append(dates6[-i])\n",
    "dates"
   ]
  },
  {
   "cell_type": "code",
   "execution_count": 70,
   "metadata": {},
   "outputs": [],
   "source": [
    "# Opening url\n",
    "url = \"https://es.semrush.com/dashboard2/\"\n",
    "driver = webdriver.Chrome(r'C:\\Users\\ppaau\\Desktop\\Academic\\IronHack\\Projects\\Project-Week-5-Your-Own-Project\\chromedriver.exe')\n",
    "driver.get(url)"
   ]
  },
  {
   "cell_type": "code",
   "execution_count": 71,
   "metadata": {},
   "outputs": [],
   "source": [
    "# Finds the login button\n",
    "login_button = driver.find_element_by_xpath('//*[@id=\"srf-header\"]/div/div/div[2]/a[1]')\n",
    "login_button.click()"
   ]
  },
  {
   "cell_type": "code",
   "execution_count": 72,
   "metadata": {},
   "outputs": [],
   "source": [
    "# Sending login credentials\n",
    "email_textbox = driver.find_element_by_xpath('//*[@id=\"loginForm\"]/label[1]/div[2]/div/input')\n",
    "email_textbox.send_keys(\"navarrog.pau@gmail.com\")\n",
    "password_textbox = driver.find_element_by_xpath('//*[@id=\"loginForm\"]/label[2]/div[2]/div/input')\n",
    "password_textbox.send_keys(\"samueletoo9\")\n",
    "password_textbox.send_keys(u'\\ue007')"
   ]
  },
  {
   "cell_type": "code",
   "execution_count": 73,
   "metadata": {},
   "outputs": [],
   "source": [
    "# Finding search box and inputing the search\n",
    "searchbox = driver.find_element_by_xpath('/html/body/div[1]/div[4]/aside/form/div[2]/div[2]/div[1]/input')\n",
    "search = top_locations[0]\n",
    "searchbox.send_keys(search)\n",
    "searchbox.send_keys(u'\\ue007')"
   ]
  },
  {
   "cell_type": "code",
   "execution_count": 29,
   "metadata": {},
   "outputs": [],
   "source": [
    "# Chooses the geographical location\n",
    "location_selector = driver.find_element_by_xpath('//*[@id=\"app\"]/div/div/div[1]/div/div[3]/div/div[1]/a/span[2]')\n",
    "location_selector.click()\n",
    "location_searchbox = driver.find_element_by_xpath('//*[@id=\"30384\"]/div/div[1]/div/input')\n",
    "location_searchbox.click()\n",
    "location_searchbox.send_keys('Spain')\n",
    "location_searchbox.send_keys(Keys.DOWN)\n",
    "location_searchbox.send_keys(u'\\ue007')"
   ]
  },
  {
   "cell_type": "code",
   "execution_count": 75,
   "metadata": {},
   "outputs": [],
   "source": [
    "# # Selects the timeframe\n",
    "# timeframe_selector = driver.find_element_by_xpath('//*[@id=\"app\"]/div/div/div[1]/div/div[3]/div/div[3]/a/span[2]')\n",
    "# timeframe_selector.click()\n",
    "# Presses DOWN key until it gets to APRIL 2020\n",
    "timeframe_down_key = driver.find_element_by_xpath('//*[@id=\"35493\"]/div[1]')\n",
    "timeframe_down_key.send_keys(Keys.DOWN)\n",
    "timeframe_down_key.send_keys(Keys.DOWN)\n",
    "timeframe_down_key.send_keys(Keys.DOWN)\n",
    "timeframe_down_key.send_keys(u'\\ue007')"
   ]
  },
  {
   "cell_type": "code",
   "execution_count": 49,
   "metadata": {},
   "outputs": [
    {
     "data": {
      "text/plain": [
       "'4.4K'"
      ]
     },
     "execution_count": 49,
     "metadata": {},
     "output_type": "execute_result"
    }
   ],
   "source": [
    "# Datapoint extractor\n",
    "volume_searches = driver.find_element_by_xpath('//*[@id=\"app\"]/div/div/div[3]/div[2]/div/div[1]/div/div/div[1]/span[2]/span')\n",
    "volume_searches.text"
   ]
  },
  {
   "cell_type": "code",
   "execution_count": 50,
   "metadata": {},
   "outputs": [],
   "source": [
    "# Changes the timeframe\n",
    "timeframe_selector = driver.find_element_by_xpath('//*[@id=\"app\"]/div/div/div[1]/div/div[3]/div/div[3]/a/span[2]')\n",
    "timeframe_selector.click()"
   ]
  },
  {
   "cell_type": "code",
   "execution_count": 51,
   "metadata": {},
   "outputs": [],
   "source": [
    "# Presses DOWN key until it gets to MARCH 2020\n",
    "timeframe_down_key = driver.find_element_by_xpath('//*[@id=\"90863\"]/div[1]')\n",
    "timeframe_down_key.send_keys(Keys.DOWN)\n",
    "timeframe_down_key.send_keys(u'\\ue007')"
   ]
  },
  {
   "cell_type": "code",
   "execution_count": 76,
   "metadata": {},
   "outputs": [],
   "source": [
    "# # CREATING THE COMPLETE FLOW\n",
    "\n",
    "# # Opening url\n",
    "# url = \"https://es.semrush.com/dashboard2/\"\n",
    "# driver = webdriver.Chrome(r'C:\\Users\\ppaau\\Desktop\\Academic\\IronHack\\Projects\\Project-Week-5-Your-Own-Project\\chromedriver.exe')\n",
    "# driver.get(url)\n",
    "# # Finds the login button\n",
    "# login_button = driver.find_element_by_xpath('//*[@id=\"srf-header\"]/div/div/div[2]/a[1]')\n",
    "# login_button.click()\n",
    "# # Sending login credentials\n",
    "# email_textbox = driver.find_element_by_xpath('//*[@id=\"loginForm\"]/label[1]/div[2]/div/input')\n",
    "# email_textbox.send_keys(\"navarrog.pau@gmail.com\")\n",
    "# password_textbox = driver.find_element_by_xpath('//*[@id=\"loginForm\"]/label[2]/div[2]/div/input')\n",
    "# password = getpass.getpass(prompt='Password: ', stream=None)\n",
    "# password_textbox.send_keys(password)\n",
    "# password_textbox.send_keys(u'\\ue007')\n",
    "# # Finding search box and inputing the search\n",
    "# searchbox = driver.find_element_by_xpath('/html/body/div[1]/div[4]/aside/form/div[2]/div[2]/div[1]/input')\n",
    "# search = top_locations[0]\n",
    "# searchbox.send_keys(search)\n",
    "# searchbox.send_keys(u'\\ue007')\n",
    "# # Chooses the geographical location\n",
    "# location_selector = driver.find_element_by_xpath('//*[@id=\"app\"]/div/div/div[1]/div/div[3]/div/div[1]/a/span[2]')\n",
    "# location_selector.click()\n",
    "# location_searchbox = driver.find_element_by_xpath('//*[@id=\"30384\"]/div/div[1]/div/input')\n",
    "# location_searchbox.click()\n",
    "# location_searchbox.send_keys('Spain')\n",
    "# location_searchbox.send_keys(Keys.DOWN)\n",
    "# location_searchbox.send_keys(u'\\ue007')\n",
    "# # Selects the timeframe\n",
    "# timeframe_selector = driver.find_element_by_xpath('//*[@id=\"app\"]/div/div/div[1]/div/div[3]/div/div[3]/a/span[2]')\n",
    "# timeframe_selector.click()\n",
    "# Presses DOWN key until it gets to APRIL 2020\n",
    "# timeframe_down_key = driver.find_element_by_xpath('//*[@id=\"35493\"]/div[1]')\n",
    "# timeframe_down_key.send_keys(Keys.DOWN)\n",
    "# timeframe_down_key.send_keys(Keys.DOWN)\n",
    "# timeframe_down_key.send_keys(Keys.DOWN)\n",
    "# timeframe_down_key.send_keys(u'\\ue007')\n",
    "# Datapoint extractor\n",
    "castellbellver_spain = []\n",
    "volume_searches = driver.find_element_by_xpath('//*[@id=\"app\"]/div/div/div[3]/div[2]/div/div[1]/div/div/div[1]/span[2]/span')\n",
    "castellbellver_spain.append(volume_searches.text)\n",
    "\n",
    "    \n"
   ]
  },
  {
   "cell_type": "code",
   "execution_count": 77,
   "metadata": {},
   "outputs": [
    {
     "data": {
      "text/plain": [
       "['4.4K']"
      ]
     },
     "execution_count": 77,
     "metadata": {},
     "output_type": "execute_result"
    }
   ],
   "source": [
    "castellbellver_spain"
   ]
  },
  {
   "cell_type": "code",
   "execution_count": 81,
   "metadata": {
    "collapsed": true
   },
   "outputs": [
    {
     "ename": "KeyboardInterrupt",
     "evalue": "",
     "output_type": "error",
     "traceback": [
      "\u001b[1;31m---------------------------------------------------------------------------\u001b[0m",
      "\u001b[1;31mKeyboardInterrupt\u001b[0m                         Traceback (most recent call last)",
      "\u001b[1;32m<ipython-input-81-44cf8358bb64>\u001b[0m in \u001b[0;36m<module>\u001b[1;34m\u001b[0m\n\u001b[0;32m      6\u001b[0m     \u001b[0mtimeframe_down_key\u001b[0m\u001b[1;33m.\u001b[0m\u001b[0msend_keys\u001b[0m\u001b[1;33m(\u001b[0m\u001b[0mKeys\u001b[0m\u001b[1;33m.\u001b[0m\u001b[0mDOWN\u001b[0m\u001b[1;33m)\u001b[0m\u001b[1;33m\u001b[0m\u001b[1;33m\u001b[0m\u001b[0m\n\u001b[0;32m      7\u001b[0m     \u001b[0mtimeframe_down_key\u001b[0m\u001b[1;33m.\u001b[0m\u001b[0msend_keys\u001b[0m\u001b[1;33m(\u001b[0m\u001b[1;34mu'\\ue007'\u001b[0m\u001b[1;33m)\u001b[0m\u001b[1;33m\u001b[0m\u001b[1;33m\u001b[0m\u001b[0m\n\u001b[1;32m----> 8\u001b[1;33m     \u001b[0mtime\u001b[0m\u001b[1;33m.\u001b[0m\u001b[0msleep\u001b[0m\u001b[1;33m(\u001b[0m\u001b[1;36m10\u001b[0m\u001b[1;33m)\u001b[0m\u001b[1;33m\u001b[0m\u001b[1;33m\u001b[0m\u001b[0m\n\u001b[0m\u001b[0;32m      9\u001b[0m     \u001b[0mvolume_searches\u001b[0m \u001b[1;33m=\u001b[0m \u001b[0mdriver\u001b[0m\u001b[1;33m.\u001b[0m\u001b[0mfind_element_by_xpath\u001b[0m\u001b[1;33m(\u001b[0m\u001b[1;34m'//*[@id=\"app\"]/div/div/div[3]/div[2]/div/div[1]/div/div/div[1]/span[2]/span'\u001b[0m\u001b[1;33m)\u001b[0m\u001b[1;33m\u001b[0m\u001b[1;33m\u001b[0m\u001b[0m\n\u001b[0;32m     10\u001b[0m     \u001b[0mcastellbellver_spain\u001b[0m\u001b[1;33m.\u001b[0m\u001b[0mappend\u001b[0m\u001b[1;33m(\u001b[0m\u001b[0mvolume_searches\u001b[0m\u001b[1;33m.\u001b[0m\u001b[0mtext\u001b[0m\u001b[1;33m)\u001b[0m\u001b[1;33m\u001b[0m\u001b[1;33m\u001b[0m\u001b[0m\n",
      "\u001b[1;31mKeyboardInterrupt\u001b[0m: "
     ]
    }
   ],
   "source": [
    "for i in range(1, len(dates)):\n",
    "    # Changes the timeframe\n",
    "    timeframe_selector = driver.find_element_by_xpath('//*[@id=\"app\"]/div/div/div[1]/div/div[3]/div/div[3]/a/span[2]')\n",
    "    timeframe_selector.click()\n",
    "    timeframe_down_key = driver.find_element_by_xpath('//*[@id=\"35493\"]/div[1]')\n",
    "    timeframe_down_key.send_keys(Keys.DOWN)\n",
    "    timeframe_down_key.send_keys(u'\\ue007')\n",
    "    time.sleep(10)\n",
    "    volume_searches = driver.find_element_by_xpath('//*[@id=\"app\"]/div/div/div[3]/div[2]/div/div[1]/div/div/div[1]/span[2]/span')\n",
    "    castellbellver_spain.append(volume_searches.text)"
   ]
  }
 ],
 "metadata": {
  "kernelspec": {
   "display_name": "Python 3",
   "language": "python",
   "name": "python3"
  },
  "language_info": {
   "codemirror_mode": {
    "name": "ipython",
    "version": 3
   },
   "file_extension": ".py",
   "mimetype": "text/x-python",
   "name": "python",
   "nbconvert_exporter": "python",
   "pygments_lexer": "ipython3",
   "version": "3.8.3"
  }
 },
 "nbformat": 4,
 "nbformat_minor": 4
}
