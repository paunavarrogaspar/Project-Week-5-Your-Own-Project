{
 "cells": [
  {
   "cell_type": "code",
   "execution_count": 4,
   "metadata": {},
   "outputs": [],
   "source": [
    "import pandas as pd\n",
    "import seaborn as sns"
   ]
  },
  {
   "cell_type": "code",
   "execution_count": 2,
   "metadata": {},
   "outputs": [],
   "source": [
    "df = pd.read_csv('../data/TourismAndTrendsAggregated.csv')"
   ]
  },
  {
   "cell_type": "code",
   "execution_count": 25,
   "metadata": {},
   "outputs": [
    {
     "data": {
      "text/plain": [
       "Index(['bellver', 'cuevas del drach', 'formentor', 'palma aquarium', 'soller',\n",
       "       'cala galdana', 'cala mitjana', 'monte toro', 'cala macarella',\n",
       "       'cala macarelleta', 'albufera', 'cala pregonda', 'favaritx',\n",
       "       'cala benirras', 'es vedra', 'ses salines', 'cala salada',\n",
       "       'ses illetes', 'es pujols', 'ses platgetes', 'magaluf',\n",
       "       'Cuevas del Drach', 'benirras', 'tourists'],\n",
       "      dtype='object')"
      ]
     },
     "execution_count": 25,
     "metadata": {},
     "output_type": "execute_result"
    }
   ],
   "source": [
    "columns = df.columns[:21]\n",
    "columns.append(df.columns[-3:])"
   ]
  },
  {
   "cell_type": "code",
   "execution_count": 20,
   "metadata": {},
   "outputs": [
    {
     "name": "stdout",
     "output_type": "stream",
     "text": [
      "palma aquarium 0.5010605654622563\n",
      "soller 0.4988026785046345\n",
      "cala macarella 0.46765888804551314\n",
      "albufera 0.4668692408678848\n",
      "cala benirras 0.41938745738933714\n",
      "es vedra 0.4730068856839407\n",
      "ses salines 0.47018909653081115\n",
      "cala salada 0.4160800617797593\n",
      "es pujols 0.46420584584565344\n",
      "ses platgetes 0.7153960189040004\n",
      "magaluf 0.5480950490508681\n"
     ]
    }
   ],
   "source": [
    "counts = 0\n",
    "for i in columns:\n",
    "    counts+=1\n",
    "    corr = df.tourists.corr(df[i])\n",
    "    if (corr<-0.4) | (corr>0.4):\n",
    "        print(i, str(corr))"
   ]
  },
  {
   "cell_type": "code",
   "execution_count": 30,
   "metadata": {},
   "outputs": [
    {
     "name": "stderr",
     "output_type": "stream",
     "text": [
      "<ipython-input-30-a162a89d26c1>:3: SettingWithCopyWarning: \n",
      "A value is trying to be set on a copy of a slice from a DataFrame\n",
      "\n",
      "See the caveats in the documentation: https://pandas.pydata.org/pandas-docs/stable/user_guide/indexing.html#returning-a-view-versus-a-copy\n",
      "  df[\"overall_trend\"][i] = max(df[\"palma aquarium\"][i], df[\"soller\"][i], df[\"cala macarella\"][i],\n"
     ]
    },
    {
     "data": {
      "text/plain": [
       "0      57\n",
       "1      47\n",
       "2      52\n",
       "3      62\n",
       "4      60\n",
       "       ..\n",
       "331    61\n",
       "332    46\n",
       "333    37\n",
       "334    41\n",
       "335    39\n",
       "Name: overall_trend, Length: 336, dtype: object"
      ]
     },
     "execution_count": 30,
     "metadata": {},
     "output_type": "execute_result"
    }
   ],
   "source": [
    "df[\"overall_trend\"] = ''\n",
    "for i in range(len(df)):\n",
    "    df[\"overall_trend\"][i] = max(df[\"palma aquarium\"][i], df[\"soller\"][i], df[\"cala macarella\"][i], \n",
    "                      df[\"albufera\"][i], df[\"cala benirras\"][i], df[\"es vedra\"][i], \n",
    "                      df[\"ses salines\"][i], df[\"ses salines\"][i], df[\"cala salada\"][i],\n",
    "                      df[\"es pujols\"][i], df[\"ses platgetes\"][i], df[\"magaluf\"][i])\n",
    "    \n",
    "    \n",
    "df[\"overall_trend\"]"
   ]
  },
  {
   "cell_type": "code",
   "execution_count": 42,
   "metadata": {},
   "outputs": [],
   "source": [
    "df[\"overall_trend\"] = df.overall_trend.astype(float)"
   ]
  },
  {
   "cell_type": "code",
   "execution_count": 43,
   "metadata": {},
   "outputs": [
    {
     "name": "stdout",
     "output_type": "stream",
     "text": [
      "<class 'pandas.core.frame.DataFrame'>\n",
      "RangeIndex: 336 entries, 0 to 335\n",
      "Data columns (total 27 columns):\n",
      " #   Column            Non-Null Count  Dtype  \n",
      "---  ------            --------------  -----  \n",
      " 0   bellver           336 non-null    int64  \n",
      " 1   cuevas del drach  336 non-null    float64\n",
      " 2   formentor         336 non-null    int64  \n",
      " 3   palma aquarium    336 non-null    float64\n",
      " 4   soller            336 non-null    int64  \n",
      " 5   cala galdana      336 non-null    int64  \n",
      " 6   cala mitjana      336 non-null    float64\n",
      " 7   monte toro        224 non-null    float64\n",
      " 8   cala macarella    280 non-null    float64\n",
      " 9   cala macarelleta  336 non-null    float64\n",
      " 10  albufera          336 non-null    int64  \n",
      " 11  cala pregonda     280 non-null    float64\n",
      " 12  favaritx          168 non-null    float64\n",
      " 13  cala benirras     336 non-null    float64\n",
      " 14  es vedra          336 non-null    int64  \n",
      " 15  ses salines       336 non-null    int64  \n",
      " 16  cala salada       336 non-null    int64  \n",
      " 17  ses illetes       280 non-null    float64\n",
      " 18  es pujols         280 non-null    float64\n",
      " 19  ses platgetes     112 non-null    float64\n",
      " 20  magaluf           336 non-null    int64  \n",
      " 21  date              336 non-null    object \n",
      " 22  country           336 non-null    object \n",
      " 23  Cuevas del Drach  0 non-null      float64\n",
      " 24  benirras          0 non-null      float64\n",
      " 25  tourists          328 non-null    float64\n",
      " 26  overall_trend     336 non-null    float64\n",
      "dtypes: float64(16), int64(9), object(2)\n",
      "memory usage: 68.3+ KB\n"
     ]
    }
   ],
   "source": [
    "df.info()"
   ]
  },
  {
   "cell_type": "code",
   "execution_count": null,
   "metadata": {},
   "outputs": [],
   "source": []
  }
 ],
 "metadata": {
  "kernelspec": {
   "display_name": "Python 3",
   "language": "python",
   "name": "python3"
  },
  "language_info": {
   "codemirror_mode": {
    "name": "ipython",
    "version": 3
   },
   "file_extension": ".py",
   "mimetype": "text/x-python",
   "name": "python",
   "nbconvert_exporter": "python",
   "pygments_lexer": "ipython3",
   "version": "3.8.3"
  }
 },
 "nbformat": 4,
 "nbformat_minor": 4
}
