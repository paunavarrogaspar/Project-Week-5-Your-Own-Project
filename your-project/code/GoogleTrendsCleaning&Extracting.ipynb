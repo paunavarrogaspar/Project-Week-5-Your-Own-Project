{
 "cells": [
  {
   "cell_type": "code",
   "execution_count": 1,
   "metadata": {},
   "outputs": [],
   "source": [
    "import pandas as pd"
   ]
  },
  {
   "cell_type": "code",
   "execution_count": 10,
   "metadata": {},
   "outputs": [],
   "source": [
    "worldwide1 = pd.read_csv('../data/keywords/International/multiTimeline.csv', skiprows=2)\n",
    "worldwide2 = pd.read_csv('../data/keywords/International/multiTimeline (1).csv', skiprows=2)\n",
    "worldwide3 = pd.read_csv('../data/keywords/International/multiTimeline (2).csv', skiprows=2)\n",
    "worldwide4 = pd.read_csv('../data/keywords/International/multiTimeline (3).csv', skiprows=2)\n",
    "worldwide5 = pd.read_csv('../data/keywords/International/multiTimeline (4).csv', skiprows=2)\n",
    "worldwide6 = pd.read_csv('../data/keywords/International/multiTimeline (5).csv', skiprows=2)\n",
    "worldwide7 = pd.read_csv('../data/keywords/International/multiTimeline (6).csv', skiprows=2)\n",
    "worldwide8 = pd.read_csv('../data/keywords/International/multiTimeline (7).csv', skiprows=2)\n",
    "worldwide9 = pd.read_csv('../data/keywords/International/multiTimeline (8).csv', skiprows=2)\n",
    "worldwide10 = pd.read_csv('../data/keywords/International/multiTimeline (9).csv', skiprows=2)\n",
    "worldwide11 = pd.read_csv('../data/keywords/International/multiTimeline (10).csv', skiprows=2)\n",
    "worldwide12 = pd.read_csv('../data/keywords/International/multiTimeline (11).csv', skiprows=2)\n",
    "worldwide13 = pd.read_csv('../data/keywords/International/multiTimeline (12).csv', skiprows=2)\n",
    "worldwide14 = pd.read_csv('../data/keywords/International/multiTimeline (13).csv', skiprows=2)\n",
    "worldwide15 = pd.read_csv('../data/keywords/International/multiTimeline (14).csv', skiprows=2)\n",
    "worldwide16 = pd.read_csv('../data/keywords/International/multiTimeline (15).csv', skiprows=2)\n",
    "worldwide17 = pd.read_csv('../data/keywords/International/multiTimeline (16).csv', skiprows=2)\n",
    "worldwide18 = pd.read_csv('../data/keywords/International/multiTimeline (17).csv', skiprows=2)\n",
    "worldwide19 = pd.read_csv('../data/keywords/International/multiTimeline (18).csv', skiprows=2)\n",
    "worldwide20 = pd.read_csv('../data/keywords/International/multiTimeline (19).csv', skiprows=2)\n",
    "worldwide21 = pd.read_csv('../data/keywords/International/multiTimeline (20).csv', skiprows=2)\n",
    "worldwide22 = pd.read_csv('../data/keywords/International/multiTimeline (21).csv', skiprows=2)"
   ]
  },
  {
   "cell_type": "code",
   "execution_count": 14,
   "metadata": {},
   "outputs": [],
   "source": [
    "keywords_worldwide = pd.merge(worldwide1, worldwide2)\n",
    "keywords_worldwide = pd.merge(keywords_worldwide, worldwide3)\n",
    "keywords_worldwide = pd.merge(keywords_worldwide, worldwide4)\n",
    "keywords_worldwide = pd.merge(keywords_worldwide, worldwide5)\n",
    "keywords_worldwide = pd.merge(keywords_worldwide, worldwide6)\n",
    "keywords_worldwide = pd.merge(keywords_worldwide, worldwide7)\n",
    "keywords_worldwide = pd.merge(keywords_worldwide, worldwide8)\n",
    "keywords_worldwide = pd.merge(keywords_worldwide, worldwide9)\n",
    "keywords_worldwide = pd.merge(keywords_worldwide, worldwide10)\n",
    "keywords_worldwide = pd.merge(keywords_worldwide, worldwide11)\n",
    "keywords_worldwide = pd.merge(keywords_worldwide, worldwide12)\n",
    "keywords_worldwide = pd.merge(keywords_worldwide, worldwide13)\n",
    "keywords_worldwide = pd.merge(keywords_worldwide, worldwide14)\n",
    "keywords_worldwide = pd.merge(keywords_worldwide, worldwide15)\n",
    "keywords_worldwide = pd.merge(keywords_worldwide, worldwide16)\n",
    "keywords_worldwide = pd.merge(keywords_worldwide, worldwide17)\n",
    "keywords_worldwide = pd.merge(keywords_worldwide, worldwide18)\n",
    "keywords_worldwide = pd.merge(keywords_worldwide, worldwide19)\n",
    "keywords_worldwide = pd.merge(keywords_worldwide, worldwide20)\n",
    "keywords_worldwide = pd.merge(keywords_worldwide, worldwide21)\n",
    "keywords_worldwide = pd.merge(keywords_worldwide, worldwide22)"
   ]
  },
  {
   "cell_type": "code",
   "execution_count": 15,
   "metadata": {},
   "outputs": [],
   "source": [
    "keywords_worldwide.to_csv('../data/keywords/International/International.csv')"
   ]
  },
  {
   "cell_type": "code",
   "execution_count": 17,
   "metadata": {},
   "outputs": [],
   "source": [
    "germany1 = pd.read_csv('../data/keywords/Alemania/multiTimeline.csv', skiprows=2)\n",
    "germany2 = pd.read_csv('../data/keywords/Alemania/multiTimeline (1).csv', skiprows=2)\n",
    "germany3 = pd.read_csv('../data/keywords/Alemania/multiTimeline (2).csv', skiprows=2)\n",
    "germany4 = pd.read_csv('../data/keywords/Alemania/multiTimeline (3).csv', skiprows=2)\n",
    "germany5 = pd.read_csv('../data/keywords/Alemania/multiTimeline (4).csv', skiprows=2)\n",
    "germany6 = pd.read_csv('../data/keywords/Alemania/multiTimeline (5).csv', skiprows=2)\n",
    "germany7 = pd.read_csv('../data/keywords/Alemania/multiTimeline (6).csv', skiprows=2)\n",
    "germany8 = pd.read_csv('../data/keywords/Alemania/multiTimeline (7).csv', skiprows=2)\n",
    "germany9 = pd.read_csv('../data/keywords/Alemania/multiTimeline (8).csv', skiprows=2)\n",
    "germany10 = pd.read_csv('../data/keywords/Alemania/multiTimeline (9).csv', skiprows=2)\n",
    "germany11 = pd.read_csv('../data/keywords/Alemania/multiTimeline (10).csv', skiprows=2)\n",
    "germany12 = pd.read_csv('../data/keywords/Alemania/multiTimeline (11).csv', skiprows=2)\n",
    "germany13 = pd.read_csv('../data/keywords/Alemania/multiTimeline (12).csv', skiprows=2)\n",
    "germany14 = pd.read_csv('../data/keywords/Alemania/multiTimeline (13).csv', skiprows=2)\n",
    "germany15 = pd.read_csv('../data/keywords/Alemania/multiTimeline (14).csv', skiprows=2)\n",
    "germany16 = pd.read_csv('../data/keywords/Alemania/multiTimeline (15).csv', skiprows=2)\n",
    "germany17 = pd.read_csv('../data/keywords/Alemania/multiTimeline (16).csv', skiprows=2)\n",
    "germany18 = pd.read_csv('../data/keywords/Alemania/multiTimeline (17).csv', skiprows=2)"
   ]
  },
  {
   "cell_type": "code",
   "execution_count": 20,
   "metadata": {},
   "outputs": [],
   "source": [
    "keywords_germany = pd.merge(germany1, germany2)\n",
    "keywords_germany = pd.merge(keywords_germany, germany3)\n",
    "keywords_germany = pd.merge(keywords_germany, germany4)\n",
    "keywords_germany = pd.merge(keywords_germany, germany5)\n",
    "keywords_germany = pd.merge(keywords_germany, germany6)\n",
    "keywords_germany = pd.merge(keywords_germany, germany7)\n",
    "keywords_germany = pd.merge(keywords_germany, germany8)\n",
    "keywords_germany = pd.merge(keywords_germany, germany9)\n",
    "keywords_germany = pd.merge(keywords_germany, germany10)\n",
    "keywords_germany = pd.merge(keywords_germany, germany11)\n",
    "keywords_germany = pd.merge(keywords_germany, germany12)\n",
    "keywords_germany = pd.merge(keywords_germany, germany13)\n",
    "keywords_germany = pd.merge(keywords_germany, germany14)\n",
    "keywords_germany = pd.merge(keywords_germany, germany15)\n",
    "keywords_germany = pd.merge(keywords_germany, germany16)\n",
    "keywords_germany = pd.merge(keywords_germany, germany17)\n",
    "keywords_germany = pd.merge(keywords_germany, germany18)"
   ]
  },
  {
   "cell_type": "code",
   "execution_count": 21,
   "metadata": {},
   "outputs": [],
   "source": [
    "keywords_germany.to_csv('../data/keywords/Alemania/germany.csv')"
   ]
  },
  {
   "cell_type": "code",
   "execution_count": 24,
   "metadata": {},
   "outputs": [],
   "source": [
    "belgium1 = pd.read_csv('../data/keywords/Bélgica/multiTimeline.csv', skiprows=2)\n",
    "belgium2 = pd.read_csv('../data/keywords/Bélgica/multiTimeline (1).csv', skiprows=2)\n",
    "belgium3 = pd.read_csv('../data/keywords/Bélgica/multiTimeline (2).csv', skiprows=2)\n",
    "belgium4 = pd.read_csv('../data/keywords/Bélgica/multiTimeline (3).csv', skiprows=2)\n",
    "belgium5 = pd.read_csv('../data/keywords/Bélgica/multiTimeline (4).csv', skiprows=2)\n",
    "belgium6 = pd.read_csv('../data/keywords/Bélgica/multiTimeline (5).csv', skiprows=2)\n",
    "belgium7 = pd.read_csv('../data/keywords/Bélgica/multiTimeline (6).csv', skiprows=2)\n",
    "belgium8 = pd.read_csv('../data/keywords/Bélgica/multiTimeline (7).csv', skiprows=2)\n",
    "belgium9 = pd.read_csv('../data/keywords/Bélgica/multiTimeline (8).csv', skiprows=2)\n",
    "belgium10 = pd.read_csv('../data/keywords/Bélgica/multiTimeline (9).csv', skiprows=2)\n",
    "belgium11 = pd.read_csv('../data/keywords/Bélgica/multiTimeline (10).csv', skiprows=2)\n",
    "belgium12 = pd.read_csv('../data/keywords/Bélgica/multiTimeline (11).csv', skiprows=2)\n",
    "belgium13 = pd.read_csv('../data/keywords/Bélgica/multiTimeline (12).csv', skiprows=2)"
   ]
  },
  {
   "cell_type": "code",
   "execution_count": 26,
   "metadata": {},
   "outputs": [],
   "source": [
    "keywords_belgium = pd.merge(belgium1, belgium2)\n",
    "keywords_belgium = pd.merge(keywords_belgium, belgium3)\n",
    "keywords_belgium = pd.merge(keywords_belgium, belgium4)\n",
    "keywords_belgium = pd.merge(keywords_belgium, belgium5)\n",
    "keywords_belgium = pd.merge(keywords_belgium, belgium6)\n",
    "keywords_belgium = pd.merge(keywords_belgium, belgium7)\n",
    "keywords_belgium = pd.merge(keywords_belgium, belgium8)\n",
    "keywords_belgium = pd.merge(keywords_belgium, belgium9)\n",
    "keywords_belgium = pd.merge(keywords_belgium, belgium10)\n",
    "keywords_belgium = pd.merge(keywords_belgium, belgium11)\n",
    "keywords_belgium = pd.merge(keywords_belgium, belgium12)\n",
    "keywords_belgium = pd.merge(keywords_belgium, belgium13)"
   ]
  },
  {
   "cell_type": "code",
   "execution_count": 27,
   "metadata": {},
   "outputs": [],
   "source": [
    "keywords_belgium.to_csv('../data/keywords/Bélgica/belgium.csv')"
   ]
  },
  {
   "cell_type": "code",
   "execution_count": 28,
   "metadata": {},
   "outputs": [],
   "source": [
    "spain1 = pd.read_csv('../data/keywords/España/multiTimeline.csv', skiprows=2)\n",
    "spain2 = pd.read_csv('../data/keywords/España/multiTimeline (1).csv', skiprows=2)\n",
    "spain3 = pd.read_csv('../data/keywords/España/multiTimeline (2).csv', skiprows=2)\n",
    "spain4 = pd.read_csv('../data/keywords/España/multiTimeline (3).csv', skiprows=2)\n",
    "spain5 = pd.read_csv('../data/keywords/España/multiTimeline (4).csv', skiprows=2)\n",
    "spain6 = pd.read_csv('../data/keywords/España/multiTimeline (5).csv', skiprows=2)\n",
    "spain7 = pd.read_csv('../data/keywords/España/multiTimeline (6).csv', skiprows=2)\n",
    "spain8 = pd.read_csv('../data/keywords/España/multiTimeline (7).csv', skiprows=2)\n",
    "spain9 = pd.read_csv('../data/keywords/España/multiTimeline (8).csv', skiprows=2)\n",
    "spain10 = pd.read_csv('../data/keywords/España/multiTimeline (9).csv', skiprows=2)\n",
    "spain11 = pd.read_csv('../data/keywords/España/multiTimeline (10).csv', skiprows=2)\n",
    "spain12 = pd.read_csv('../data/keywords/España/multiTimeline (11).csv', skiprows=2)\n",
    "spain13 = pd.read_csv('../data/keywords/España/multiTimeline (12).csv', skiprows=2)\n",
    "spain14 = pd.read_csv('../data/keywords/España/multiTimeline (13).csv', skiprows=2)\n",
    "spain15 = pd.read_csv('../data/keywords/España/multiTimeline (14).csv', skiprows=2)\n",
    "spain16 = pd.read_csv('../data/keywords/España/multiTimeline (15).csv', skiprows=2)\n",
    "spain17 = pd.read_csv('../data/keywords/España/multiTimeline (16).csv', skiprows=2)\n",
    "spain18 = pd.read_csv('../data/keywords/España/multiTimeline (17).csv', skiprows=2)\n",
    "spain19 = pd.read_csv('../data/keywords/España/multiTimeline (18).csv', skiprows=2)\n",
    "spain20 = pd.read_csv('../data/keywords/España/multiTimeline (19).csv', skiprows=2)\n",
    "spain21 = pd.read_csv('../data/keywords/España/multiTimeline (20).csv', skiprows=2)\n",
    "spain22 = pd.read_csv('../data/keywords/España/multiTimeline (21).csv', skiprows=2)"
   ]
  },
  {
   "cell_type": "code",
   "execution_count": 30,
   "metadata": {},
   "outputs": [],
   "source": [
    "keywords_spain = pd.merge(spain1, spain2)\n",
    "keywords_spain = pd.merge(keywords_spain, spain3)\n",
    "keywords_spain = pd.merge(keywords_spain, spain4)\n",
    "keywords_spain = pd.merge(keywords_spain, spain5)\n",
    "keywords_spain = pd.merge(keywords_spain, spain6)\n",
    "keywords_spain = pd.merge(keywords_spain, spain7)\n",
    "keywords_spain = pd.merge(keywords_spain, spain8)\n",
    "keywords_spain = pd.merge(keywords_spain, spain9)\n",
    "keywords_spain = pd.merge(keywords_spain, spain10)\n",
    "keywords_spain = pd.merge(keywords_spain, spain11)\n",
    "keywords_spain = pd.merge(keywords_spain, spain12)\n",
    "keywords_spain = pd.merge(keywords_spain, spain13)\n",
    "keywords_spain = pd.merge(keywords_spain, spain14)\n",
    "keywords_spain = pd.merge(keywords_spain, spain15)\n",
    "keywords_spain = pd.merge(keywords_spain, spain16)\n",
    "keywords_spain = pd.merge(keywords_spain, spain17)\n",
    "keywords_spain = pd.merge(keywords_spain, spain18)\n",
    "keywords_spain = pd.merge(keywords_spain, spain19)\n",
    "keywords_spain = pd.merge(keywords_spain, spain20)\n",
    "keywords_spain = pd.merge(keywords_spain, spain21)\n",
    "keywords_spain = pd.merge(keywords_spain, spain22)"
   ]
  },
  {
   "cell_type": "code",
   "execution_count": 31,
   "metadata": {},
   "outputs": [],
   "source": [
    "keywords_spain.to_csv('../data/keywords/España/spain.csv')"
   ]
  },
  {
   "cell_type": "code",
   "execution_count": 32,
   "metadata": {},
   "outputs": [],
   "source": [
    "france1 = pd.read_csv('../data/keywords/Francia/multiTimeline.csv', skiprows=2)\n",
    "france2 = pd.read_csv('../data/keywords/Francia/multiTimeline (1).csv', skiprows=2)\n",
    "france3 = pd.read_csv('../data/keywords/Francia/multiTimeline (2).csv', skiprows=2)\n",
    "france4 = pd.read_csv('../data/keywords/Francia/multiTimeline (3).csv', skiprows=2)\n",
    "france5 = pd.read_csv('../data/keywords/Francia/multiTimeline (4).csv', skiprows=2)\n",
    "france6 = pd.read_csv('../data/keywords/Francia/multiTimeline (5).csv', skiprows=2)\n",
    "france7 = pd.read_csv('../data/keywords/Francia/multiTimeline (6).csv', skiprows=2)\n",
    "france8 = pd.read_csv('../data/keywords/Francia/multiTimeline (7).csv', skiprows=2)\n",
    "france9 = pd.read_csv('../data/keywords/Francia/multiTimeline (8).csv', skiprows=2)\n",
    "france10 = pd.read_csv('../data/keywords/Francia/multiTimeline (9).csv', skiprows=2)\n",
    "france11 = pd.read_csv('../data/keywords/Francia/multiTimeline (10).csv', skiprows=2)\n",
    "france12 = pd.read_csv('../data/keywords/Francia/multiTimeline (11).csv', skiprows=2)\n",
    "france13 = pd.read_csv('../data/keywords/Francia/multiTimeline (12).csv', skiprows=2)\n",
    "france14 = pd.read_csv('../data/keywords/Francia/multiTimeline (13).csv', skiprows=2)\n",
    "france15 = pd.read_csv('../data/keywords/Francia/multiTimeline (14).csv', skiprows=2)\n",
    "france16 = pd.read_csv('../data/keywords/Francia/multiTimeline (15).csv', skiprows=2)\n",
    "france17 = pd.read_csv('../data/keywords/Francia/multiTimeline (16).csv', skiprows=2)\n",
    "france18 = pd.read_csv('../data/keywords/Francia/multiTimeline (17).csv', skiprows=2)\n",
    "france19 = pd.read_csv('../data/keywords/Francia/multiTimeline (18).csv', skiprows=2)\n",
    "france20 = pd.read_csv('../data/keywords/Francia/multiTimeline (19).csv', skiprows=2)"
   ]
  },
  {
   "cell_type": "code",
   "execution_count": 35,
   "metadata": {},
   "outputs": [],
   "source": [
    "keyword_france = pd.merge(france1, france2)\n",
    "keyword_france = pd.merge(keyword_france, france3)\n",
    "keyword_france = pd.merge(keyword_france, france4)\n",
    "keyword_france = pd.merge(keyword_france, france5)\n",
    "keyword_france = pd.merge(keyword_france, france6)\n",
    "keyword_france = pd.merge(keyword_france, france7)\n",
    "keyword_france = pd.merge(keyword_france, france8)\n",
    "keyword_france = pd.merge(keyword_france, france9)\n",
    "keyword_france = pd.merge(keyword_france, france10)\n",
    "keyword_france = pd.merge(keyword_france, france11)\n",
    "keyword_france = pd.merge(keyword_france, france12)\n",
    "keyword_france = pd.merge(keyword_france, france13)\n",
    "keyword_france = pd.merge(keyword_france, france14)\n",
    "keyword_france = pd.merge(keyword_france, france15)\n",
    "keyword_france = pd.merge(keyword_france, france16)\n",
    "keyword_france = pd.merge(keyword_france, france17)\n",
    "keyword_france = pd.merge(keyword_france, france18)\n",
    "keyword_france = pd.merge(keyword_france, france19)\n",
    "keyword_france = pd.merge(keyword_france, france20)"
   ]
  },
  {
   "cell_type": "code",
   "execution_count": 36,
   "metadata": {},
   "outputs": [],
   "source": [
    "keyword_france.to_csv('../data/keywords/Francia/france.csv')"
   ]
  },
  {
   "cell_type": "code",
   "execution_count": 37,
   "metadata": {},
   "outputs": [],
   "source": [
    "italy1 = pd.read_csv('../data/keywords/Italia/multiTimeline.csv', skiprows=2)\n",
    "italy2 = pd.read_csv('../data/keywords/Italia/multiTimeline (1).csv', skiprows=2)\n",
    "italy3 = pd.read_csv('../data/keywords/Italia/multiTimeline (2).csv', skiprows=2)\n",
    "italy4 = pd.read_csv('../data/keywords/Italia/multiTimeline (3).csv', skiprows=2)\n",
    "italy5 = pd.read_csv('../data/keywords/Italia/multiTimeline (4).csv', skiprows=2)\n",
    "italy6 = pd.read_csv('../data/keywords/Italia/multiTimeline (5).csv', skiprows=2)\n",
    "italy7 = pd.read_csv('../data/keywords/Italia/multiTimeline (6).csv', skiprows=2)\n",
    "italy8 = pd.read_csv('../data/keywords/Italia/multiTimeline (7).csv', skiprows=2)\n",
    "italy9 = pd.read_csv('../data/keywords/Italia/multiTimeline (8).csv', skiprows=2)\n",
    "italy10 = pd.read_csv('../data/keywords/Italia/multiTimeline (9).csv', skiprows=2)\n",
    "italy11 = pd.read_csv('../data/keywords/Italia/multiTimeline (10).csv', skiprows=2)\n",
    "italy12 = pd.read_csv('../data/keywords/Italia/multiTimeline (11).csv', skiprows=2)\n",
    "italy13 = pd.read_csv('../data/keywords/Italia/multiTimeline (12).csv', skiprows=2)\n",
    "italy14 = pd.read_csv('../data/keywords/Italia/multiTimeline (13).csv', skiprows=2)\n",
    "italy15 = pd.read_csv('../data/keywords/Italia/multiTimeline (14).csv', skiprows=2)\n",
    "italy16 = pd.read_csv('../data/keywords/Italia/multiTimeline (15).csv', skiprows=2)\n",
    "italy17 = pd.read_csv('../data/keywords/Italia/multiTimeline (16).csv', skiprows=2)\n",
    "italy18 = pd.read_csv('../data/keywords/Italia/multiTimeline (17).csv', skiprows=2)\n",
    "italy19 = pd.read_csv('../data/keywords/Italia/multiTimeline (18).csv', skiprows=2)\n",
    "italy20 = pd.read_csv('../data/keywords/Italia/multiTimeline (19).csv', skiprows=2)"
   ]
  },
  {
   "cell_type": "code",
   "execution_count": 38,
   "metadata": {},
   "outputs": [],
   "source": [
    "keywords_italy = pd.merge(italy1, italy2)\n",
    "keywords_italy = pd.merge(keywords_italy, italy3)\n",
    "keywords_italy = pd.merge(keywords_italy, italy4)\n",
    "keywords_italy = pd.merge(keywords_italy, italy5)\n",
    "keywords_italy = pd.merge(keywords_italy, italy6)\n",
    "keywords_italy = pd.merge(keywords_italy, italy7)\n",
    "keywords_italy = pd.merge(keywords_italy, italy8)\n",
    "keywords_italy = pd.merge(keywords_italy, italy9)\n",
    "keywords_italy = pd.merge(keywords_italy, italy10)\n",
    "keywords_italy = pd.merge(keywords_italy, italy11)\n",
    "keywords_italy = pd.merge(keywords_italy, italy12)\n",
    "keywords_italy = pd.merge(keywords_italy, italy13)\n",
    "keywords_italy = pd.merge(keywords_italy, italy14)\n",
    "keywords_italy = pd.merge(keywords_italy, italy15)\n",
    "keywords_italy = pd.merge(keywords_italy, italy16)\n",
    "keywords_italy = pd.merge(keywords_italy, italy17)\n",
    "keywords_italy = pd.merge(keywords_italy, italy18)\n",
    "keywords_italy = pd.merge(keywords_italy, italy19)\n",
    "keywords_italy = pd.merge(keywords_italy, italy20)"
   ]
  },
  {
   "cell_type": "code",
   "execution_count": 39,
   "metadata": {},
   "outputs": [],
   "source": [
    "keywords_italy.to_csv('../data/keywords/Italia/italy.csv')"
   ]
  },
  {
   "cell_type": "code",
   "execution_count": 40,
   "metadata": {},
   "outputs": [],
   "source": [
    "holland1 = pd.read_csv('../data/keywords/Paises Bajos/multiTimeline.csv', skiprows=2)\n",
    "holland2 = pd.read_csv('../data/keywords/Paises Bajos/multiTimeline (1).csv', skiprows=2)\n",
    "holland3 = pd.read_csv('../data/keywords/Paises Bajos/multiTimeline (2).csv', skiprows=2)\n",
    "holland4 = pd.read_csv('../data/keywords/Paises Bajos/multiTimeline (3).csv', skiprows=2)\n",
    "holland5 = pd.read_csv('../data/keywords/Paises Bajos/multiTimeline (4).csv', skiprows=2)\n",
    "holland6 = pd.read_csv('../data/keywords/Paises Bajos/multiTimeline (5).csv', skiprows=2)\n",
    "holland7 = pd.read_csv('../data/keywords/Paises Bajos/multiTimeline (6).csv', skiprows=2)\n",
    "holland8 = pd.read_csv('../data/keywords/Paises Bajos/multiTimeline (7).csv', skiprows=2)\n",
    "holland9 = pd.read_csv('../data/keywords/Paises Bajos/multiTimeline (8).csv', skiprows=2)\n",
    "holland10 = pd.read_csv('../data/keywords/Paises Bajos/multiTimeline (9).csv', skiprows=2)\n",
    "holland11 = pd.read_csv('../data/keywords/Paises Bajos/multiTimeline (10).csv', skiprows=2)\n",
    "holland12 = pd.read_csv('../data/keywords/Paises Bajos/multiTimeline (11).csv', skiprows=2)\n",
    "holland13 = pd.read_csv('../data/keywords/Paises Bajos/multiTimeline (12).csv', skiprows=2)\n",
    "holland14 = pd.read_csv('../data/keywords/Paises Bajos/multiTimeline (13).csv', skiprows=2)"
   ]
  },
  {
   "cell_type": "code",
   "execution_count": 41,
   "metadata": {},
   "outputs": [],
   "source": [
    "keywords_netherlands = pd.merge(holland1, holland2)\n",
    "keywords_netherlands = pd.merge(keywords_netherlands, holland3)\n",
    "keywords_netherlands = pd.merge(keywords_netherlands, holland4)\n",
    "keywords_netherlands = pd.merge(keywords_netherlands, holland5)\n",
    "keywords_netherlands = pd.merge(keywords_netherlands, holland6)\n",
    "keywords_netherlands = pd.merge(keywords_netherlands, holland7)\n",
    "keywords_netherlands = pd.merge(keywords_netherlands, holland8)\n",
    "keywords_netherlands = pd.merge(keywords_netherlands, holland9)\n",
    "keywords_netherlands = pd.merge(keywords_netherlands, holland10)\n",
    "keywords_netherlands = pd.merge(keywords_netherlands, holland11)\n",
    "keywords_netherlands = pd.merge(keywords_netherlands, holland12)\n",
    "keywords_netherlands = pd.merge(keywords_netherlands, holland13)\n",
    "keywords_netherlands = pd.merge(keywords_netherlands, holland14)"
   ]
  },
  {
   "cell_type": "code",
   "execution_count": 42,
   "metadata": {},
   "outputs": [],
   "source": [
    "keywords_netherlands.to_csv('../data/keywords/Paises Bajos/netherlands.csv')"
   ]
  },
  {
   "cell_type": "code",
   "execution_count": 43,
   "metadata": {},
   "outputs": [],
   "source": [
    "uk1 = pd.read_csv('../data/keywords/Reino Unido/multiTimeline.csv', skiprows=2)\n",
    "uk2 = pd.read_csv('../data/keywords/Reino Unido/multiTimeline (1).csv', skiprows=2)\n",
    "uk3 = pd.read_csv('../data/keywords/Reino Unido/multiTimeline (2).csv', skiprows=2)\n",
    "uk4 = pd.read_csv('../data/keywords/Reino Unido/multiTimeline (3).csv', skiprows=2)\n",
    "uk5 = pd.read_csv('../data/keywords/Reino Unido/multiTimeline (4).csv', skiprows=2)\n",
    "uk6 = pd.read_csv('../data/keywords/Reino Unido/multiTimeline (5).csv', skiprows=2)\n",
    "uk7 = pd.read_csv('../data/keywords/Reino Unido/multiTimeline (6).csv', skiprows=2)\n",
    "uk8 = pd.read_csv('../data/keywords/Reino Unido/multiTimeline (7).csv', skiprows=2)\n",
    "uk9 = pd.read_csv('../data/keywords/Reino Unido/multiTimeline (8).csv', skiprows=2)\n",
    "uk10 = pd.read_csv('../data/keywords/Reino Unido/multiTimeline (9).csv', skiprows=2)\n",
    "uk11 = pd.read_csv('../data/keywords/Reino Unido/multiTimeline (10).csv', skiprows=2)\n",
    "uk12 = pd.read_csv('../data/keywords/Reino Unido/multiTimeline (11).csv', skiprows=2)\n",
    "uk13 = pd.read_csv('../data/keywords/Reino Unido/multiTimeline (12).csv', skiprows=2)\n",
    "uk14 = pd.read_csv('../data/keywords/Reino Unido/multiTimeline (13).csv', skiprows=2)\n",
    "uk15 = pd.read_csv('../data/keywords/Reino Unido/multiTimeline (14).csv', skiprows=2)\n",
    "uk16 = pd.read_csv('../data/keywords/Reino Unido/multiTimeline (15).csv', skiprows=2)\n",
    "uk17 = pd.read_csv('../data/keywords/Reino Unido/multiTimeline (16).csv', skiprows=2)\n",
    "uk18 = pd.read_csv('../data/keywords/Reino Unido/multiTimeline (17).csv', skiprows=2)\n",
    "uk19 = pd.read_csv('../data/keywords/Reino Unido/multiTimeline (18).csv', skiprows=2)"
   ]
  },
  {
   "cell_type": "code",
   "execution_count": 44,
   "metadata": {},
   "outputs": [],
   "source": [
    "keywords_uk = pd.merge(uk1, uk2)\n",
    "keywords_uk = pd.merge(keywords_uk, uk3)\n",
    "keywords_uk = pd.merge(keywords_uk, uk4)\n",
    "keywords_uk = pd.merge(keywords_uk, uk5)\n",
    "keywords_uk = pd.merge(keywords_uk, uk6)\n",
    "keywords_uk = pd.merge(keywords_uk, uk7)\n",
    "keywords_uk = pd.merge(keywords_uk, uk8)\n",
    "keywords_uk = pd.merge(keywords_uk, uk9)\n",
    "keywords_uk = pd.merge(keywords_uk, uk10)\n",
    "keywords_uk = pd.merge(keywords_uk, uk11)\n",
    "keywords_uk = pd.merge(keywords_uk, uk12)\n",
    "keywords_uk = pd.merge(keywords_uk, uk13)\n",
    "keywords_uk = pd.merge(keywords_uk, uk14)\n",
    "keywords_uk = pd.merge(keywords_uk, uk15)\n",
    "keywords_uk = pd.merge(keywords_uk, uk16)\n",
    "keywords_uk = pd.merge(keywords_uk, uk17)\n",
    "keywords_uk = pd.merge(keywords_uk, uk18)\n",
    "keywords_uk = pd.merge(keywords_uk, uk19)"
   ]
  },
  {
   "cell_type": "code",
   "execution_count": 45,
   "metadata": {},
   "outputs": [],
   "source": [
    "keywords_uk.to_csv('../data/keywords/Reino Unido/unitedkingdom.csv')"
   ]
  },
  {
   "cell_type": "code",
   "execution_count": 48,
   "metadata": {},
   "outputs": [],
   "source": [
    "switzerland1 = pd.read_csv('../data/keywords/Suiza/multiTimeline.csv', skiprows=2)\n",
    "switzerland2 = pd.read_csv('../data/keywords/Suiza/multiTimeline (1).csv', skiprows=2)\n",
    "switzerland3 = pd.read_csv('../data/keywords/Suiza/multiTimeline (2).csv', skiprows=2)\n",
    "switzerland4 = pd.read_csv('../data/keywords/Suiza/multiTimeline (3).csv', skiprows=2)\n",
    "switzerland5 = pd.read_csv('../data/keywords/Suiza/multiTimeline (4).csv', skiprows=2)\n",
    "switzerland6 = pd.read_csv('../data/keywords/Suiza/multiTimeline (5).csv', skiprows=2)\n",
    "switzerland7 = pd.read_csv('../data/keywords/Suiza/multiTimeline (6).csv', skiprows=2)\n",
    "switzerland8 = pd.read_csv('../data/keywords/Suiza/multiTimeline (7).csv', skiprows=2)\n",
    "switzerland9 = pd.read_csv('../data/keywords/Suiza/multiTimeline (8).csv', skiprows=2)\n",
    "switzerland10 = pd.read_csv('../data/keywords/Suiza/multiTimeline (9).csv', skiprows=2)\n",
    "switzerland11 = pd.read_csv('../data/keywords/Suiza/multiTimeline (10).csv', skiprows=2)"
   ]
  },
  {
   "cell_type": "code",
   "execution_count": 49,
   "metadata": {},
   "outputs": [],
   "source": [
    "keywords_switzerland = pd.merge(switzerland1, switzerland2)\n",
    "keywords_switzerland = pd.merge(keywords_switzerland, switzerland3)\n",
    "keywords_switzerland = pd.merge(keywords_switzerland, switzerland4)\n",
    "keywords_switzerland = pd.merge(keywords_switzerland, switzerland5)\n",
    "keywords_switzerland = pd.merge(keywords_switzerland, switzerland6)\n",
    "keywords_switzerland = pd.merge(keywords_switzerland, switzerland7)\n",
    "keywords_switzerland = pd.merge(keywords_switzerland, switzerland8)\n",
    "keywords_switzerland = pd.merge(keywords_switzerland, switzerland9)\n",
    "keywords_switzerland = pd.merge(keywords_switzerland, switzerland10)\n",
    "keywords_switzerland = pd.merge(keywords_switzerland, switzerland11)"
   ]
  },
  {
   "cell_type": "code",
   "execution_count": 50,
   "metadata": {},
   "outputs": [],
   "source": [
    "keywords_switzerland.to_csv('../data/keywords/Suiza/switzerland.csv')"
   ]
  }
 ],
 "metadata": {
  "kernelspec": {
   "display_name": "Python 3",
   "language": "python",
   "name": "python3"
  },
  "language_info": {
   "codemirror_mode": {
    "name": "ipython",
    "version": 3
   },
   "file_extension": ".py",
   "mimetype": "text/x-python",
   "name": "python",
   "nbconvert_exporter": "python",
   "pygments_lexer": "ipython3",
   "version": "3.8.3"
  }
 },
 "nbformat": 4,
 "nbformat_minor": 4
}
