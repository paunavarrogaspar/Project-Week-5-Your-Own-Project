{
 "cells": [
  {
   "cell_type": "code",
   "execution_count": 1,
   "metadata": {},
   "outputs": [],
   "source": [
    "import pandas as pd"
   ]
  },
  {
   "cell_type": "code",
   "execution_count": 10,
   "metadata": {},
   "outputs": [],
   "source": [
    "worldwide1 = pd.read_csv('../data/keywords/International/multiTimeline.csv', skiprows=2)\n",
    "worldwide2 = pd.read_csv('../data/keywords/International/multiTimeline (1).csv', skiprows=2)\n",
    "worldwide3 = pd.read_csv('../data/keywords/International/multiTimeline (2).csv', skiprows=2)\n",
    "worldwide4 = pd.read_csv('../data/keywords/International/multiTimeline (3).csv', skiprows=2)\n",
    "worldwide5 = pd.read_csv('../data/keywords/International/multiTimeline (4).csv', skiprows=2)\n",
    "worldwide6 = pd.read_csv('../data/keywords/International/multiTimeline (5).csv', skiprows=2)\n",
    "worldwide7 = pd.read_csv('../data/keywords/International/multiTimeline (6).csv', skiprows=2)\n",
    "worldwide8 = pd.read_csv('../data/keywords/International/multiTimeline (7).csv', skiprows=2)\n",
    "worldwide9 = pd.read_csv('../data/keywords/International/multiTimeline (8).csv', skiprows=2)\n",
    "worldwide10 = pd.read_csv('../data/keywords/International/multiTimeline (9).csv', skiprows=2)\n",
    "worldwide11 = pd.read_csv('../data/keywords/International/multiTimeline (10).csv', skiprows=2)\n",
    "worldwide12 = pd.read_csv('../data/keywords/International/multiTimeline (11).csv', skiprows=2)\n",
    "worldwide13 = pd.read_csv('../data/keywords/International/multiTimeline (12).csv', skiprows=2)\n",
    "worldwide14 = pd.read_csv('../data/keywords/International/multiTimeline (13).csv', skiprows=2)\n",
    "worldwide15 = pd.read_csv('../data/keywords/International/multiTimeline (14).csv', skiprows=2)\n",
    "worldwide16 = pd.read_csv('../data/keywords/International/multiTimeline (15).csv', skiprows=2)\n",
    "worldwide17 = pd.read_csv('../data/keywords/International/multiTimeline (16).csv', skiprows=2)\n",
    "worldwide18 = pd.read_csv('../data/keywords/International/multiTimeline (17).csv', skiprows=2)\n",
    "worldwide19 = pd.read_csv('../data/keywords/International/multiTimeline (18).csv', skiprows=2)\n",
    "worldwide20 = pd.read_csv('../data/keywords/International/multiTimeline (19).csv', skiprows=2)\n",
    "worldwide21 = pd.read_csv('../data/keywords/International/multiTimeline (20).csv', skiprows=2)\n",
    "worldwide22 = pd.read_csv('../data/keywords/International/multiTimeline (21).csv', skiprows=2)"
   ]
  },
  {
   "cell_type": "code",
   "execution_count": 14,
   "metadata": {},
   "outputs": [],
   "source": [
    "keywords_worldwide = pd.merge(worldwide1, worldwide2)\n",
    "keywords_worldwide = pd.merge(keywords_worldwide, worldwide3)\n",
    "keywords_worldwide = pd.merge(keywords_worldwide, worldwide4)\n",
    "keywords_worldwide = pd.merge(keywords_worldwide, worldwide5)\n",
    "keywords_worldwide = pd.merge(keywords_worldwide, worldwide6)\n",
    "keywords_worldwide = pd.merge(keywords_worldwide, worldwide7)\n",
    "keywords_worldwide = pd.merge(keywords_worldwide, worldwide8)\n",
    "keywords_worldwide = pd.merge(keywords_worldwide, worldwide9)\n",
    "keywords_worldwide = pd.merge(keywords_worldwide, worldwide10)\n",
    "keywords_worldwide = pd.merge(keywords_worldwide, worldwide11)\n",
    "keywords_worldwide = pd.merge(keywords_worldwide, worldwide12)\n",
    "keywords_worldwide = pd.merge(keywords_worldwide, worldwide13)\n",
    "keywords_worldwide = pd.merge(keywords_worldwide, worldwide14)\n",
    "keywords_worldwide = pd.merge(keywords_worldwide, worldwide15)\n",
    "keywords_worldwide = pd.merge(keywords_worldwide, worldwide16)\n",
    "keywords_worldwide = pd.merge(keywords_worldwide, worldwide17)\n",
    "keywords_worldwide = pd.merge(keywords_worldwide, worldwide18)\n",
    "keywords_worldwide = pd.merge(keywords_worldwide, worldwide19)\n",
    "keywords_worldwide = pd.merge(keywords_worldwide, worldwide20)\n",
    "keywords_worldwide = pd.merge(keywords_worldwide, worldwide21)\n",
    "keywords_worldwide = pd.merge(keywords_worldwide, worldwide22)"
   ]
  },
  {
   "cell_type": "code",
   "execution_count": 15,
   "metadata": {},
   "outputs": [],
   "source": [
    "keywords_worldwide.to_csv('../data/keywords/International/International.csv')"
   ]
  },
  {
   "cell_type": "code",
   "execution_count": 17,
   "metadata": {},
   "outputs": [],
   "source": [
    "germany1 = pd.read_csv('../data/keywords/Alemania/multiTimeline.csv', skiprows=2)\n",
    "germany2 = pd.read_csv('../data/keywords/Alemania/multiTimeline (1).csv', skiprows=2)\n",
    "germany3 = pd.read_csv('../data/keywords/Alemania/multiTimeline (2).csv', skiprows=2)\n",
    "germany4 = pd.read_csv('../data/keywords/Alemania/multiTimeline (3).csv', skiprows=2)\n",
    "germany5 = pd.read_csv('../data/keywords/Alemania/multiTimeline (4).csv', skiprows=2)\n",
    "germany6 = pd.read_csv('../data/keywords/Alemania/multiTimeline (5).csv', skiprows=2)\n",
    "germany7 = pd.read_csv('../data/keywords/Alemania/multiTimeline (6).csv', skiprows=2)\n",
    "germany8 = pd.read_csv('../data/keywords/Alemania/multiTimeline (7).csv', skiprows=2)\n",
    "germany9 = pd.read_csv('../data/keywords/Alemania/multiTimeline (8).csv', skiprows=2)\n",
    "germany10 = pd.read_csv('../data/keywords/Alemania/multiTimeline (9).csv', skiprows=2)\n",
    "germany11 = pd.read_csv('../data/keywords/Alemania/multiTimeline (10).csv', skiprows=2)\n",
    "germany12 = pd.read_csv('../data/keywords/Alemania/multiTimeline (11).csv', skiprows=2)\n",
    "germany13 = pd.read_csv('../data/keywords/Alemania/multiTimeline (12).csv', skiprows=2)\n",
    "germany14 = pd.read_csv('../data/keywords/Alemania/multiTimeline (13).csv', skiprows=2)\n",
    "germany15 = pd.read_csv('../data/keywords/Alemania/multiTimeline (14).csv', skiprows=2)\n",
    "germany16 = pd.read_csv('../data/keywords/Alemania/multiTimeline (15).csv', skiprows=2)\n",
    "germany17 = pd.read_csv('../data/keywords/Alemania/multiTimeline (16).csv', skiprows=2)\n",
    "germany18 = pd.read_csv('../data/keywords/Alemania/multiTimeline (17).csv', skiprows=2)"
   ]
  },
  {
   "cell_type": "code",
   "execution_count": 20,
   "metadata": {},
   "outputs": [],
   "source": [
    "keywords_germany = pd.merge(germany1, germany2)\n",
    "keywords_germany = pd.merge(keywords_germany, germany3)\n",
    "keywords_germany = pd.merge(keywords_germany, germany4)\n",
    "keywords_germany = pd.merge(keywords_germany, germany5)\n",
    "keywords_germany = pd.merge(keywords_germany, germany6)\n",
    "keywords_germany = pd.merge(keywords_germany, germany7)\n",
    "keywords_germany = pd.merge(keywords_germany, germany8)\n",
    "keywords_germany = pd.merge(keywords_germany, germany9)\n",
    "keywords_germany = pd.merge(keywords_germany, germany10)\n",
    "keywords_germany = pd.merge(keywords_germany, germany11)\n",
    "keywords_germany = pd.merge(keywords_germany, germany12)\n",
    "keywords_germany = pd.merge(keywords_germany, germany13)\n",
    "keywords_germany = pd.merge(keywords_germany, germany14)\n",
    "keywords_germany = pd.merge(keywords_germany, germany15)\n",
    "keywords_germany = pd.merge(keywords_germany, germany16)\n",
    "keywords_germany = pd.merge(keywords_germany, germany17)\n",
    "keywords_germany = pd.merge(keywords_germany, germany18)"
   ]
  },
  {
   "cell_type": "code",
   "execution_count": 21,
   "metadata": {},
   "outputs": [],
   "source": [
    "keywords_germany.to_csv('../data/keywords/Alemania/germany.csv')"
   ]
  },
  {
   "cell_type": "code",
   "execution_count": 24,
   "metadata": {},
   "outputs": [],
   "source": [
    "belgium1 = pd.read_csv('../data/keywords/Bélgica/multiTimeline.csv', skiprows=2)\n",
    "belgium2 = pd.read_csv('../data/keywords/Bélgica/multiTimeline (1).csv', skiprows=2)\n",
    "belgium3 = pd.read_csv('../data/keywords/Bélgica/multiTimeline (2).csv', skiprows=2)\n",
    "belgium4 = pd.read_csv('../data/keywords/Bélgica/multiTimeline (3).csv', skiprows=2)\n",
    "belgium5 = pd.read_csv('../data/keywords/Bélgica/multiTimeline (4).csv', skiprows=2)\n",
    "belgium6 = pd.read_csv('../data/keywords/Bélgica/multiTimeline (5).csv', skiprows=2)\n",
    "belgium7 = pd.read_csv('../data/keywords/Bélgica/multiTimeline (6).csv', skiprows=2)\n",
    "belgium8 = pd.read_csv('../data/keywords/Bélgica/multiTimeline (7).csv', skiprows=2)\n",
    "belgium9 = pd.read_csv('../data/keywords/Bélgica/multiTimeline (8).csv', skiprows=2)\n",
    "belgium10 = pd.read_csv('../data/keywords/Bélgica/multiTimeline (9).csv', skiprows=2)\n",
    "belgium11 = pd.read_csv('../data/keywords/Bélgica/multiTimeline (10).csv', skiprows=2)\n",
    "belgium12 = pd.read_csv('../data/keywords/Bélgica/multiTimeline (11).csv', skiprows=2)\n",
    "belgium13 = pd.read_csv('../data/keywords/Bélgica/multiTimeline (12).csv', skiprows=2)"
   ]
  },
  {
   "cell_type": "code",
   "execution_count": 26,
   "metadata": {},
   "outputs": [],
   "source": [
    "keywords_belgium = pd.merge(belgium1, belgium2)\n",
    "keywords_belgium = pd.merge(keywords_belgium, belgium3)\n",
    "keywords_belgium = pd.merge(keywords_belgium, belgium4)\n",
    "keywords_belgium = pd.merge(keywords_belgium, belgium5)\n",
    "keywords_belgium = pd.merge(keywords_belgium, belgium6)\n",
    "keywords_belgium = pd.merge(keywords_belgium, belgium7)\n",
    "keywords_belgium = pd.merge(keywords_belgium, belgium8)\n",
    "keywords_belgium = pd.merge(keywords_belgium, belgium9)\n",
    "keywords_belgium = pd.merge(keywords_belgium, belgium10)\n",
    "keywords_belgium = pd.merge(keywords_belgium, belgium11)\n",
    "keywords_belgium = pd.merge(keywords_belgium, belgium12)\n",
    "keywords_belgium = pd.merge(keywords_belgium, belgium13)"
   ]
  },
  {
   "cell_type": "code",
   "execution_count": 27,
   "metadata": {},
   "outputs": [],
   "source": [
    "keywords_belgium.to_csv('../data/keywords/Bélgica/belgium.csv')"
   ]
  },
  {
   "cell_type": "code",
   "execution_count": 28,
   "metadata": {},
   "outputs": [],
   "source": [
    "spain1 = pd.read_csv('../data/keywords/España/multiTimeline.csv', skiprows=2)\n",
    "spain2 = pd.read_csv('../data/keywords/España/multiTimeline (1).csv', skiprows=2)\n",
    "spain3 = pd.read_csv('../data/keywords/España/multiTimeline (2).csv', skiprows=2)\n",
    "spain4 = pd.read_csv('../data/keywords/España/multiTimeline (3).csv', skiprows=2)\n",
    "spain5 = pd.read_csv('../data/keywords/España/multiTimeline (4).csv', skiprows=2)\n",
    "spain6 = pd.read_csv('../data/keywords/España/multiTimeline (5).csv', skiprows=2)\n",
    "spain7 = pd.read_csv('../data/keywords/España/multiTimeline (6).csv', skiprows=2)\n",
    "spain8 = pd.read_csv('../data/keywords/España/multiTimeline (7).csv', skiprows=2)\n",
    "spain9 = pd.read_csv('../data/keywords/España/multiTimeline (8).csv', skiprows=2)\n",
    "spain10 = pd.read_csv('../data/keywords/España/multiTimeline (9).csv', skiprows=2)\n",
    "spain11 = pd.read_csv('../data/keywords/España/multiTimeline (10).csv', skiprows=2)\n",
    "spain12 = pd.read_csv('../data/keywords/España/multiTimeline (11).csv', skiprows=2)\n",
    "spain13 = pd.read_csv('../data/keywords/España/multiTimeline (12).csv', skiprows=2)\n",
    "spain14 = pd.read_csv('../data/keywords/España/multiTimeline (13).csv', skiprows=2)\n",
    "spain15 = pd.read_csv('../data/keywords/España/multiTimeline (14).csv', skiprows=2)\n",
    "spain16 = pd.read_csv('../data/keywords/España/multiTimeline (15).csv', skiprows=2)\n",
    "spain17 = pd.read_csv('../data/keywords/España/multiTimeline (16).csv', skiprows=2)\n",
    "spain18 = pd.read_csv('../data/keywords/España/multiTimeline (17).csv', skiprows=2)\n",
    "spain19 = pd.read_csv('../data/keywords/España/multiTimeline (18).csv', skiprows=2)\n",
    "spain20 = pd.read_csv('../data/keywords/España/multiTimeline (19).csv', skiprows=2)\n",
    "spain21 = pd.read_csv('../data/keywords/España/multiTimeline (20).csv', skiprows=2)\n",
    "spain22 = pd.read_csv('../data/keywords/España/multiTimeline (21).csv', skiprows=2)"
   ]
  },
  {
   "cell_type": "code",
   "execution_count": 30,
   "metadata": {},
   "outputs": [],
   "source": [
    "keywords_spain = pd.merge(spain1, spain2)\n",
    "keywords_spain = pd.merge(keywords_spain, spain3)\n",
    "keywords_spain = pd.merge(keywords_spain, spain4)\n",
    "keywords_spain = pd.merge(keywords_spain, spain5)\n",
    "keywords_spain = pd.merge(keywords_spain, spain6)\n",
    "keywords_spain = pd.merge(keywords_spain, spain7)\n",
    "keywords_spain = pd.merge(keywords_spain, spain8)\n",
    "keywords_spain = pd.merge(keywords_spain, spain9)\n",
    "keywords_spain = pd.merge(keywords_spain, spain10)\n",
    "keywords_spain = pd.merge(keywords_spain, spain11)\n",
    "keywords_spain = pd.merge(keywords_spain, spain12)\n",
    "keywords_spain = pd.merge(keywords_spain, spain13)\n",
    "keywords_spain = pd.merge(keywords_spain, spain14)\n",
    "keywords_spain = pd.merge(keywords_spain, spain15)\n",
    "keywords_spain = pd.merge(keywords_spain, spain16)\n",
    "keywords_spain = pd.merge(keywords_spain, spain17)\n",
    "keywords_spain = pd.merge(keywords_spain, spain18)\n",
    "keywords_spain = pd.merge(keywords_spain, spain19)\n",
    "keywords_spain = pd.merge(keywords_spain, spain20)\n",
    "keywords_spain = pd.merge(keywords_spain, spain21)\n",
    "keywords_spain = pd.merge(keywords_spain, spain22)"
   ]
  },
  {
   "cell_type": "code",
   "execution_count": 31,
   "metadata": {},
   "outputs": [],
   "source": [
    "keywords_spain.to_csv('../data/keywords/España/spain.csv')"
   ]
  },
  {
   "cell_type": "code",
   "execution_count": 32,
   "metadata": {},
   "outputs": [],
   "source": [
    "france1 = pd.read_csv('../data/keywords/Francia/multiTimeline.csv', skiprows=2)\n",
    "france2 = pd.read_csv('../data/keywords/Francia/multiTimeline (1).csv', skiprows=2)\n",
    "france3 = pd.read_csv('../data/keywords/Francia/multiTimeline (2).csv', skiprows=2)\n",
    "france4 = pd.read_csv('../data/keywords/Francia/multiTimeline (3).csv', skiprows=2)\n",
    "france5 = pd.read_csv('../data/keywords/Francia/multiTimeline (4).csv', skiprows=2)\n",
    "france6 = pd.read_csv('../data/keywords/Francia/multiTimeline (5).csv', skiprows=2)\n",
    "france7 = pd.read_csv('../data/keywords/Francia/multiTimeline (6).csv', skiprows=2)\n",
    "france8 = pd.read_csv('../data/keywords/Francia/multiTimeline (7).csv', skiprows=2)\n",
    "france9 = pd.read_csv('../data/keywords/Francia/multiTimeline (8).csv', skiprows=2)\n",
    "france10 = pd.read_csv('../data/keywords/Francia/multiTimeline (9).csv', skiprows=2)\n",
    "france11 = pd.read_csv('../data/keywords/Francia/multiTimeline (10).csv', skiprows=2)\n",
    "france12 = pd.read_csv('../data/keywords/Francia/multiTimeline (11).csv', skiprows=2)\n",
    "france13 = pd.read_csv('../data/keywords/Francia/multiTimeline (12).csv', skiprows=2)\n",
    "france14 = pd.read_csv('../data/keywords/Francia/multiTimeline (13).csv', skiprows=2)\n",
    "france15 = pd.read_csv('../data/keywords/Francia/multiTimeline (14).csv', skiprows=2)\n",
    "france16 = pd.read_csv('../data/keywords/Francia/multiTimeline (15).csv', skiprows=2)\n",
    "france17 = pd.read_csv('../data/keywords/Francia/multiTimeline (16).csv', skiprows=2)\n",
    "france18 = pd.read_csv('../data/keywords/Francia/multiTimeline (17).csv', skiprows=2)\n",
    "france19 = pd.read_csv('../data/keywords/Francia/multiTimeline (18).csv', skiprows=2)\n",
    "france20 = pd.read_csv('../data/keywords/Francia/multiTimeline (19).csv', skiprows=2)"
   ]
  },
  {
   "cell_type": "code",
   "execution_count": 35,
   "metadata": {},
   "outputs": [],
   "source": [
    "keyword_france = pd.merge(france1, france2)\n",
    "keyword_france = pd.merge(keyword_france, france3)\n",
    "keyword_france = pd.merge(keyword_france, france4)\n",
    "keyword_france = pd.merge(keyword_france, france5)\n",
    "keyword_france = pd.merge(keyword_france, france6)\n",
    "keyword_france = pd.merge(keyword_france, france7)\n",
    "keyword_france = pd.merge(keyword_france, france8)\n",
    "keyword_france = pd.merge(keyword_france, france9)\n",
    "keyword_france = pd.merge(keyword_france, france10)\n",
    "keyword_france = pd.merge(keyword_france, france11)\n",
    "keyword_france = pd.merge(keyword_france, france12)\n",
    "keyword_france = pd.merge(keyword_france, france13)\n",
    "keyword_france = pd.merge(keyword_france, france14)\n",
    "keyword_france = pd.merge(keyword_france, france15)\n",
    "keyword_france = pd.merge(keyword_france, france16)\n",
    "keyword_france = pd.merge(keyword_france, france17)\n",
    "keyword_france = pd.merge(keyword_france, france18)\n",
    "keyword_france = pd.merge(keyword_france, france19)\n",
    "keyword_france = pd.merge(keyword_france, france20)"
   ]
  },
  {
   "cell_type": "code",
   "execution_count": 36,
   "metadata": {},
   "outputs": [],
   "source": [
    "keyword_france.to_csv('../data/keywords/Francia/france.csv')"
   ]
  },
  {
   "cell_type": "code",
   "execution_count": 37,
   "metadata": {},
   "outputs": [],
   "source": [
    "italy1 = pd.read_csv('../data/keywords/Italia/multiTimeline.csv', skiprows=2)\n",
    "italy2 = pd.read_csv('../data/keywords/Italia/multiTimeline (1).csv', skiprows=2)\n",
    "italy3 = pd.read_csv('../data/keywords/Italia/multiTimeline (2).csv', skiprows=2)\n",
    "italy4 = pd.read_csv('../data/keywords/Italia/multiTimeline (3).csv', skiprows=2)\n",
    "italy5 = pd.read_csv('../data/keywords/Italia/multiTimeline (4).csv', skiprows=2)\n",
    "italy6 = pd.read_csv('../data/keywords/Italia/multiTimeline (5).csv', skiprows=2)\n",
    "italy7 = pd.read_csv('../data/keywords/Italia/multiTimeline (6).csv', skiprows=2)\n",
    "italy8 = pd.read_csv('../data/keywords/Italia/multiTimeline (7).csv', skiprows=2)\n",
    "italy9 = pd.read_csv('../data/keywords/Italia/multiTimeline (8).csv', skiprows=2)\n",
    "italy10 = pd.read_csv('../data/keywords/Italia/multiTimeline (9).csv', skiprows=2)\n",
    "italy11 = pd.read_csv('../data/keywords/Italia/multiTimeline (10).csv', skiprows=2)\n",
    "italy12 = pd.read_csv('../data/keywords/Italia/multiTimeline (11).csv', skiprows=2)\n",
    "italy13 = pd.read_csv('../data/keywords/Italia/multiTimeline (12).csv', skiprows=2)\n",
    "italy14 = pd.read_csv('../data/keywords/Italia/multiTimeline (13).csv', skiprows=2)\n",
    "italy15 = pd.read_csv('../data/keywords/Italia/multiTimeline (14).csv', skiprows=2)\n",
    "italy16 = pd.read_csv('../data/keywords/Italia/multiTimeline (15).csv', skiprows=2)\n",
    "italy17 = pd.read_csv('../data/keywords/Italia/multiTimeline (16).csv', skiprows=2)\n",
    "italy18 = pd.read_csv('../data/keywords/Italia/multiTimeline (17).csv', skiprows=2)\n",
    "italy19 = pd.read_csv('../data/keywords/Italia/multiTimeline (18).csv', skiprows=2)\n",
    "italy20 = pd.read_csv('../data/keywords/Italia/multiTimeline (19).csv', skiprows=2)"
   ]
  },
  {
   "cell_type": "code",
   "execution_count": 38,
   "metadata": {},
   "outputs": [],
   "source": [
    "keywords_italy = pd.merge(italy1, italy2)\n",
    "keywords_italy = pd.merge(keywords_italy, italy3)\n",
    "keywords_italy = pd.merge(keywords_italy, italy4)\n",
    "keywords_italy = pd.merge(keywords_italy, italy5)\n",
    "keywords_italy = pd.merge(keywords_italy, italy6)\n",
    "keywords_italy = pd.merge(keywords_italy, italy7)\n",
    "keywords_italy = pd.merge(keywords_italy, italy8)\n",
    "keywords_italy = pd.merge(keywords_italy, italy9)\n",
    "keywords_italy = pd.merge(keywords_italy, italy10)\n",
    "keywords_italy = pd.merge(keywords_italy, italy11)\n",
    "keywords_italy = pd.merge(keywords_italy, italy12)\n",
    "keywords_italy = pd.merge(keywords_italy, italy13)\n",
    "keywords_italy = pd.merge(keywords_italy, italy14)\n",
    "keywords_italy = pd.merge(keywords_italy, italy15)\n",
    "keywords_italy = pd.merge(keywords_italy, italy16)\n",
    "keywords_italy = pd.merge(keywords_italy, italy17)\n",
    "keywords_italy = pd.merge(keywords_italy, italy18)\n",
    "keywords_italy = pd.merge(keywords_italy, italy19)\n",
    "keywords_italy = pd.merge(keywords_italy, italy20)"
   ]
  },
  {
   "cell_type": "code",
   "execution_count": 39,
   "metadata": {},
   "outputs": [],
   "source": [
    "keywords_italy.to_csv('../data/keywords/Italia/italy.csv')"
   ]
  },
  {
   "cell_type": "code",
   "execution_count": 40,
   "metadata": {},
   "outputs": [],
   "source": [
    "holland1 = pd.read_csv('../data/keywords/Paises Bajos/multiTimeline.csv', skiprows=2)\n",
    "holland2 = pd.read_csv('../data/keywords/Paises Bajos/multiTimeline (1).csv', skiprows=2)\n",
    "holland3 = pd.read_csv('../data/keywords/Paises Bajos/multiTimeline (2).csv', skiprows=2)\n",
    "holland4 = pd.read_csv('../data/keywords/Paises Bajos/multiTimeline (3).csv', skiprows=2)\n",
    "holland5 = pd.read_csv('../data/keywords/Paises Bajos/multiTimeline (4).csv', skiprows=2)\n",
    "holland6 = pd.read_csv('../data/keywords/Paises Bajos/multiTimeline (5).csv', skiprows=2)\n",
    "holland7 = pd.read_csv('../data/keywords/Paises Bajos/multiTimeline (6).csv', skiprows=2)\n",
    "holland8 = pd.read_csv('../data/keywords/Paises Bajos/multiTimeline (7).csv', skiprows=2)\n",
    "holland9 = pd.read_csv('../data/keywords/Paises Bajos/multiTimeline (8).csv', skiprows=2)\n",
    "holland10 = pd.read_csv('../data/keywords/Paises Bajos/multiTimeline (9).csv', skiprows=2)\n",
    "holland11 = pd.read_csv('../data/keywords/Paises Bajos/multiTimeline (10).csv', skiprows=2)\n",
    "holland12 = pd.read_csv('../data/keywords/Paises Bajos/multiTimeline (11).csv', skiprows=2)\n",
    "holland13 = pd.read_csv('../data/keywords/Paises Bajos/multiTimeline (12).csv', skiprows=2)\n",
    "holland14 = pd.read_csv('../data/keywords/Paises Bajos/multiTimeline (13).csv', skiprows=2)"
   ]
  },
  {
   "cell_type": "code",
   "execution_count": 41,
   "metadata": {},
   "outputs": [],
   "source": [
    "keywords_netherlands = pd.merge(holland1, holland2)\n",
    "keywords_netherlands = pd.merge(keywords_netherlands, holland3)\n",
    "keywords_netherlands = pd.merge(keywords_netherlands, holland4)\n",
    "keywords_netherlands = pd.merge(keywords_netherlands, holland5)\n",
    "keywords_netherlands = pd.merge(keywords_netherlands, holland6)\n",
    "keywords_netherlands = pd.merge(keywords_netherlands, holland7)\n",
    "keywords_netherlands = pd.merge(keywords_netherlands, holland8)\n",
    "keywords_netherlands = pd.merge(keywords_netherlands, holland9)\n",
    "keywords_netherlands = pd.merge(keywords_netherlands, holland10)\n",
    "keywords_netherlands = pd.merge(keywords_netherlands, holland11)\n",
    "keywords_netherlands = pd.merge(keywords_netherlands, holland12)\n",
    "keywords_netherlands = pd.merge(keywords_netherlands, holland13)\n",
    "keywords_netherlands = pd.merge(keywords_netherlands, holland14)"
   ]
  },
  {
   "cell_type": "code",
   "execution_count": 42,
   "metadata": {},
   "outputs": [],
   "source": [
    "keywords_netherlands.to_csv('../data/keywords/Paises Bajos/netherlands.csv')"
   ]
  },
  {
   "cell_type": "code",
   "execution_count": 43,
   "metadata": {},
   "outputs": [],
   "source": [
    "uk1 = pd.read_csv('../data/keywords/Reino Unido/multiTimeline.csv', skiprows=2)\n",
    "uk2 = pd.read_csv('../data/keywords/Reino Unido/multiTimeline (1).csv', skiprows=2)\n",
    "uk3 = pd.read_csv('../data/keywords/Reino Unido/multiTimeline (2).csv', skiprows=2)\n",
    "uk4 = pd.read_csv('../data/keywords/Reino Unido/multiTimeline (3).csv', skiprows=2)\n",
    "uk5 = pd.read_csv('../data/keywords/Reino Unido/multiTimeline (4).csv', skiprows=2)\n",
    "uk6 = pd.read_csv('../data/keywords/Reino Unido/multiTimeline (5).csv', skiprows=2)\n",
    "uk7 = pd.read_csv('../data/keywords/Reino Unido/multiTimeline (6).csv', skiprows=2)\n",
    "uk8 = pd.read_csv('../data/keywords/Reino Unido/multiTimeline (7).csv', skiprows=2)\n",
    "uk9 = pd.read_csv('../data/keywords/Reino Unido/multiTimeline (8).csv', skiprows=2)\n",
    "uk10 = pd.read_csv('../data/keywords/Reino Unido/multiTimeline (9).csv', skiprows=2)\n",
    "uk11 = pd.read_csv('../data/keywords/Reino Unido/multiTimeline (10).csv', skiprows=2)\n",
    "uk12 = pd.read_csv('../data/keywords/Reino Unido/multiTimeline (11).csv', skiprows=2)\n",
    "uk13 = pd.read_csv('../data/keywords/Reino Unido/multiTimeline (12).csv', skiprows=2)\n",
    "uk14 = pd.read_csv('../data/keywords/Reino Unido/multiTimeline (13).csv', skiprows=2)\n",
    "uk15 = pd.read_csv('../data/keywords/Reino Unido/multiTimeline (14).csv', skiprows=2)\n",
    "uk16 = pd.read_csv('../data/keywords/Reino Unido/multiTimeline (15).csv', skiprows=2)\n",
    "uk17 = pd.read_csv('../data/keywords/Reino Unido/multiTimeline (16).csv', skiprows=2)\n",
    "uk18 = pd.read_csv('../data/keywords/Reino Unido/multiTimeline (17).csv', skiprows=2)\n",
    "uk19 = pd.read_csv('../data/keywords/Reino Unido/multiTimeline (18).csv', skiprows=2)"
   ]
  },
  {
   "cell_type": "code",
   "execution_count": 44,
   "metadata": {},
   "outputs": [],
   "source": [
    "keywords_uk = pd.merge(uk1, uk2)\n",
    "keywords_uk = pd.merge(keywords_uk, uk3)\n",
    "keywords_uk = pd.merge(keywords_uk, uk4)\n",
    "keywords_uk = pd.merge(keywords_uk, uk5)\n",
    "keywords_uk = pd.merge(keywords_uk, uk6)\n",
    "keywords_uk = pd.merge(keywords_uk, uk7)\n",
    "keywords_uk = pd.merge(keywords_uk, uk8)\n",
    "keywords_uk = pd.merge(keywords_uk, uk9)\n",
    "keywords_uk = pd.merge(keywords_uk, uk10)\n",
    "keywords_uk = pd.merge(keywords_uk, uk11)\n",
    "keywords_uk = pd.merge(keywords_uk, uk12)\n",
    "keywords_uk = pd.merge(keywords_uk, uk13)\n",
    "keywords_uk = pd.merge(keywords_uk, uk14)\n",
    "keywords_uk = pd.merge(keywords_uk, uk15)\n",
    "keywords_uk = pd.merge(keywords_uk, uk16)\n",
    "keywords_uk = pd.merge(keywords_uk, uk17)\n",
    "keywords_uk = pd.merge(keywords_uk, uk18)\n",
    "keywords_uk = pd.merge(keywords_uk, uk19)"
   ]
  },
  {
   "cell_type": "code",
   "execution_count": 45,
   "metadata": {},
   "outputs": [],
   "source": [
    "keywords_uk.to_csv('../data/keywords/Reino Unido/unitedkingdom.csv')"
   ]
  },
  {
   "cell_type": "code",
   "execution_count": 48,
   "metadata": {},
   "outputs": [],
   "source": [
    "switzerland1 = pd.read_csv('../data/keywords/Suiza/multiTimeline.csv', skiprows=2)\n",
    "switzerland2 = pd.read_csv('../data/keywords/Suiza/multiTimeline (1).csv', skiprows=2)\n",
    "switzerland3 = pd.read_csv('../data/keywords/Suiza/multiTimeline (2).csv', skiprows=2)\n",
    "switzerland4 = pd.read_csv('../data/keywords/Suiza/multiTimeline (3).csv', skiprows=2)\n",
    "switzerland5 = pd.read_csv('../data/keywords/Suiza/multiTimeline (4).csv', skiprows=2)\n",
    "switzerland6 = pd.read_csv('../data/keywords/Suiza/multiTimeline (5).csv', skiprows=2)\n",
    "switzerland7 = pd.read_csv('../data/keywords/Suiza/multiTimeline (6).csv', skiprows=2)\n",
    "switzerland8 = pd.read_csv('../data/keywords/Suiza/multiTimeline (7).csv', skiprows=2)\n",
    "switzerland9 = pd.read_csv('../data/keywords/Suiza/multiTimeline (8).csv', skiprows=2)\n",
    "switzerland10 = pd.read_csv('../data/keywords/Suiza/multiTimeline (9).csv', skiprows=2)\n",
    "switzerland11 = pd.read_csv('../data/keywords/Suiza/multiTimeline (10).csv', skiprows=2)"
   ]
  },
  {
   "cell_type": "code",
   "execution_count": 49,
   "metadata": {},
   "outputs": [],
   "source": [
    "keywords_switzerland = pd.merge(switzerland1, switzerland2)\n",
    "keywords_switzerland = pd.merge(keywords_switzerland, switzerland3)\n",
    "keywords_switzerland = pd.merge(keywords_switzerland, switzerland4)\n",
    "keywords_switzerland = pd.merge(keywords_switzerland, switzerland5)\n",
    "keywords_switzerland = pd.merge(keywords_switzerland, switzerland6)\n",
    "keywords_switzerland = pd.merge(keywords_switzerland, switzerland7)\n",
    "keywords_switzerland = pd.merge(keywords_switzerland, switzerland8)\n",
    "keywords_switzerland = pd.merge(keywords_switzerland, switzerland9)\n",
    "keywords_switzerland = pd.merge(keywords_switzerland, switzerland10)\n",
    "keywords_switzerland = pd.merge(keywords_switzerland, switzerland11)"
   ]
  },
  {
   "cell_type": "code",
   "execution_count": 50,
   "metadata": {},
   "outputs": [],
   "source": [
    "keywords_switzerland.to_csv('../data/keywords/Suiza/switzerland.csv')"
   ]
  },
  {
   "cell_type": "code",
   "execution_count": null,
   "metadata": {},
   "outputs": [],
   "source": []
  },
  {
   "cell_type": "code",
   "execution_count": null,
   "metadata": {},
   "outputs": [],
   "source": []
  },
  {
   "cell_type": "code",
   "execution_count": null,
   "metadata": {},
   "outputs": [],
   "source": []
  },
  {
   "cell_type": "code",
   "execution_count": null,
   "metadata": {},
   "outputs": [],
   "source": []
  },
  {
   "cell_type": "code",
   "execution_count": null,
   "metadata": {},
   "outputs": [],
   "source": []
  },
  {
   "cell_type": "code",
   "execution_count": null,
   "metadata": {},
   "outputs": [],
   "source": []
  },
  {
   "cell_type": "code",
   "execution_count": null,
   "metadata": {},
   "outputs": [],
   "source": []
  },
  {
   "cell_type": "code",
   "execution_count": null,
   "metadata": {},
   "outputs": [],
   "source": []
  },
  {
   "cell_type": "code",
   "execution_count": 2,
   "metadata": {},
   "outputs": [],
   "source": [
    "switzerland = pd.read_csv('../data/keywords/switzerland.csv', index_col=0)\n",
    "switzerland['Semana'] = pd.to_datetime(switzerland['Semana'], format='%Y-%m-%d')\n",
    "switzerland['year'] = pd.DatetimeIndex(switzerland['Semana']).year\n",
    "switzerland['month'] = pd.DatetimeIndex(switzerland['Semana']).month\n",
    "switzerland = switzerland.groupby([\"year\", \"month\"], as_index=False).max()\n",
    "switzerland.head()\n",
    "switzerland['date'] = pd.to_datetime(switzerland[['year', 'month']].assign(DAY=1))\n",
    "switzerland.drop([\"year\", \"month\", \"Semana\"], axis=1, inplace=True)\n",
    "switzerland.head()\n",
    "switzerland.to_csv('../data/keywords/switzerland.csv', index=False)"
   ]
  },
  {
   "cell_type": "code",
   "execution_count": 3,
   "metadata": {},
   "outputs": [
    {
     "ename": "KeyError",
     "evalue": "'Semana'",
     "output_type": "error",
     "traceback": [
      "\u001b[1;31m---------------------------------------------------------------------------\u001b[0m",
      "\u001b[1;31mKeyError\u001b[0m                                  Traceback (most recent call last)",
      "\u001b[1;32m~\\AppData\\Local\\Programs\\Python\\Python38-32\\lib\\site-packages\\pandas\\core\\indexes\\base.py\u001b[0m in \u001b[0;36mget_loc\u001b[1;34m(self, key, method, tolerance)\u001b[0m\n\u001b[0;32m   2645\u001b[0m             \u001b[1;32mtry\u001b[0m\u001b[1;33m:\u001b[0m\u001b[1;33m\u001b[0m\u001b[1;33m\u001b[0m\u001b[0m\n\u001b[1;32m-> 2646\u001b[1;33m                 \u001b[1;32mreturn\u001b[0m \u001b[0mself\u001b[0m\u001b[1;33m.\u001b[0m\u001b[0m_engine\u001b[0m\u001b[1;33m.\u001b[0m\u001b[0mget_loc\u001b[0m\u001b[1;33m(\u001b[0m\u001b[0mkey\u001b[0m\u001b[1;33m)\u001b[0m\u001b[1;33m\u001b[0m\u001b[1;33m\u001b[0m\u001b[0m\n\u001b[0m\u001b[0;32m   2647\u001b[0m             \u001b[1;32mexcept\u001b[0m \u001b[0mKeyError\u001b[0m\u001b[1;33m:\u001b[0m\u001b[1;33m\u001b[0m\u001b[1;33m\u001b[0m\u001b[0m\n",
      "\u001b[1;32mpandas\\_libs\\index.pyx\u001b[0m in \u001b[0;36mpandas._libs.index.IndexEngine.get_loc\u001b[1;34m()\u001b[0m\n",
      "\u001b[1;32mpandas\\_libs\\index.pyx\u001b[0m in \u001b[0;36mpandas._libs.index.IndexEngine.get_loc\u001b[1;34m()\u001b[0m\n",
      "\u001b[1;32mpandas\\_libs\\hashtable_class_helper.pxi\u001b[0m in \u001b[0;36mpandas._libs.hashtable.PyObjectHashTable.get_item\u001b[1;34m()\u001b[0m\n",
      "\u001b[1;32mpandas\\_libs\\hashtable_class_helper.pxi\u001b[0m in \u001b[0;36mpandas._libs.hashtable.PyObjectHashTable.get_item\u001b[1;34m()\u001b[0m\n",
      "\u001b[1;31mKeyError\u001b[0m: 'Semana'",
      "\nDuring handling of the above exception, another exception occurred:\n",
      "\u001b[1;31mKeyError\u001b[0m                                  Traceback (most recent call last)",
      "\u001b[1;32m<ipython-input-3-5e393edf138c>\u001b[0m in \u001b[0;36m<module>\u001b[1;34m\u001b[0m\n\u001b[0;32m      1\u001b[0m \u001b[0mbelgium\u001b[0m \u001b[1;33m=\u001b[0m \u001b[0mpd\u001b[0m\u001b[1;33m.\u001b[0m\u001b[0mread_csv\u001b[0m\u001b[1;33m(\u001b[0m\u001b[1;34m'../data/keywords/belgium.csv'\u001b[0m\u001b[1;33m,\u001b[0m \u001b[0mindex_col\u001b[0m\u001b[1;33m=\u001b[0m\u001b[1;36m0\u001b[0m\u001b[1;33m)\u001b[0m\u001b[1;33m\u001b[0m\u001b[1;33m\u001b[0m\u001b[0m\n\u001b[1;32m----> 2\u001b[1;33m \u001b[0mbelgium\u001b[0m\u001b[1;33m[\u001b[0m\u001b[1;34m'Semana'\u001b[0m\u001b[1;33m]\u001b[0m \u001b[1;33m=\u001b[0m \u001b[0mpd\u001b[0m\u001b[1;33m.\u001b[0m\u001b[0mto_datetime\u001b[0m\u001b[1;33m(\u001b[0m\u001b[0mbelgium\u001b[0m\u001b[1;33m[\u001b[0m\u001b[1;34m'Semana'\u001b[0m\u001b[1;33m]\u001b[0m\u001b[1;33m,\u001b[0m \u001b[0mformat\u001b[0m\u001b[1;33m=\u001b[0m\u001b[1;34m'%Y-%m-%d'\u001b[0m\u001b[1;33m)\u001b[0m\u001b[1;33m\u001b[0m\u001b[1;33m\u001b[0m\u001b[0m\n\u001b[0m\u001b[0;32m      3\u001b[0m \u001b[0mbelgium\u001b[0m\u001b[1;33m[\u001b[0m\u001b[1;34m'year'\u001b[0m\u001b[1;33m]\u001b[0m \u001b[1;33m=\u001b[0m \u001b[0mpd\u001b[0m\u001b[1;33m.\u001b[0m\u001b[0mDatetimeIndex\u001b[0m\u001b[1;33m(\u001b[0m\u001b[0mbelgium\u001b[0m\u001b[1;33m[\u001b[0m\u001b[1;34m'Semana'\u001b[0m\u001b[1;33m]\u001b[0m\u001b[1;33m)\u001b[0m\u001b[1;33m.\u001b[0m\u001b[0myear\u001b[0m\u001b[1;33m\u001b[0m\u001b[1;33m\u001b[0m\u001b[0m\n\u001b[0;32m      4\u001b[0m \u001b[0mbelgium\u001b[0m\u001b[1;33m[\u001b[0m\u001b[1;34m'month'\u001b[0m\u001b[1;33m]\u001b[0m \u001b[1;33m=\u001b[0m \u001b[0mpd\u001b[0m\u001b[1;33m.\u001b[0m\u001b[0mDatetimeIndex\u001b[0m\u001b[1;33m(\u001b[0m\u001b[0mbelgium\u001b[0m\u001b[1;33m[\u001b[0m\u001b[1;34m'Semana'\u001b[0m\u001b[1;33m]\u001b[0m\u001b[1;33m)\u001b[0m\u001b[1;33m.\u001b[0m\u001b[0mmonth\u001b[0m\u001b[1;33m\u001b[0m\u001b[1;33m\u001b[0m\u001b[0m\n\u001b[0;32m      5\u001b[0m \u001b[0mbelgium\u001b[0m \u001b[1;33m=\u001b[0m \u001b[0mbelgium\u001b[0m\u001b[1;33m.\u001b[0m\u001b[0mgroupby\u001b[0m\u001b[1;33m(\u001b[0m\u001b[1;33m[\u001b[0m\u001b[1;34m\"year\"\u001b[0m\u001b[1;33m,\u001b[0m \u001b[1;34m\"month\"\u001b[0m\u001b[1;33m]\u001b[0m\u001b[1;33m,\u001b[0m \u001b[0mas_index\u001b[0m\u001b[1;33m=\u001b[0m\u001b[1;32mFalse\u001b[0m\u001b[1;33m)\u001b[0m\u001b[1;33m.\u001b[0m\u001b[0mmax\u001b[0m\u001b[1;33m(\u001b[0m\u001b[1;33m)\u001b[0m\u001b[1;33m\u001b[0m\u001b[1;33m\u001b[0m\u001b[0m\n",
      "\u001b[1;32m~\\AppData\\Local\\Programs\\Python\\Python38-32\\lib\\site-packages\\pandas\\core\\frame.py\u001b[0m in \u001b[0;36m__getitem__\u001b[1;34m(self, key)\u001b[0m\n\u001b[0;32m   2798\u001b[0m             \u001b[1;32mif\u001b[0m \u001b[0mself\u001b[0m\u001b[1;33m.\u001b[0m\u001b[0mcolumns\u001b[0m\u001b[1;33m.\u001b[0m\u001b[0mnlevels\u001b[0m \u001b[1;33m>\u001b[0m \u001b[1;36m1\u001b[0m\u001b[1;33m:\u001b[0m\u001b[1;33m\u001b[0m\u001b[1;33m\u001b[0m\u001b[0m\n\u001b[0;32m   2799\u001b[0m                 \u001b[1;32mreturn\u001b[0m \u001b[0mself\u001b[0m\u001b[1;33m.\u001b[0m\u001b[0m_getitem_multilevel\u001b[0m\u001b[1;33m(\u001b[0m\u001b[0mkey\u001b[0m\u001b[1;33m)\u001b[0m\u001b[1;33m\u001b[0m\u001b[1;33m\u001b[0m\u001b[0m\n\u001b[1;32m-> 2800\u001b[1;33m             \u001b[0mindexer\u001b[0m \u001b[1;33m=\u001b[0m \u001b[0mself\u001b[0m\u001b[1;33m.\u001b[0m\u001b[0mcolumns\u001b[0m\u001b[1;33m.\u001b[0m\u001b[0mget_loc\u001b[0m\u001b[1;33m(\u001b[0m\u001b[0mkey\u001b[0m\u001b[1;33m)\u001b[0m\u001b[1;33m\u001b[0m\u001b[1;33m\u001b[0m\u001b[0m\n\u001b[0m\u001b[0;32m   2801\u001b[0m             \u001b[1;32mif\u001b[0m \u001b[0mis_integer\u001b[0m\u001b[1;33m(\u001b[0m\u001b[0mindexer\u001b[0m\u001b[1;33m)\u001b[0m\u001b[1;33m:\u001b[0m\u001b[1;33m\u001b[0m\u001b[1;33m\u001b[0m\u001b[0m\n\u001b[0;32m   2802\u001b[0m                 \u001b[0mindexer\u001b[0m \u001b[1;33m=\u001b[0m \u001b[1;33m[\u001b[0m\u001b[0mindexer\u001b[0m\u001b[1;33m]\u001b[0m\u001b[1;33m\u001b[0m\u001b[1;33m\u001b[0m\u001b[0m\n",
      "\u001b[1;32m~\\AppData\\Local\\Programs\\Python\\Python38-32\\lib\\site-packages\\pandas\\core\\indexes\\base.py\u001b[0m in \u001b[0;36mget_loc\u001b[1;34m(self, key, method, tolerance)\u001b[0m\n\u001b[0;32m   2646\u001b[0m                 \u001b[1;32mreturn\u001b[0m \u001b[0mself\u001b[0m\u001b[1;33m.\u001b[0m\u001b[0m_engine\u001b[0m\u001b[1;33m.\u001b[0m\u001b[0mget_loc\u001b[0m\u001b[1;33m(\u001b[0m\u001b[0mkey\u001b[0m\u001b[1;33m)\u001b[0m\u001b[1;33m\u001b[0m\u001b[1;33m\u001b[0m\u001b[0m\n\u001b[0;32m   2647\u001b[0m             \u001b[1;32mexcept\u001b[0m \u001b[0mKeyError\u001b[0m\u001b[1;33m:\u001b[0m\u001b[1;33m\u001b[0m\u001b[1;33m\u001b[0m\u001b[0m\n\u001b[1;32m-> 2648\u001b[1;33m                 \u001b[1;32mreturn\u001b[0m \u001b[0mself\u001b[0m\u001b[1;33m.\u001b[0m\u001b[0m_engine\u001b[0m\u001b[1;33m.\u001b[0m\u001b[0mget_loc\u001b[0m\u001b[1;33m(\u001b[0m\u001b[0mself\u001b[0m\u001b[1;33m.\u001b[0m\u001b[0m_maybe_cast_indexer\u001b[0m\u001b[1;33m(\u001b[0m\u001b[0mkey\u001b[0m\u001b[1;33m)\u001b[0m\u001b[1;33m)\u001b[0m\u001b[1;33m\u001b[0m\u001b[1;33m\u001b[0m\u001b[0m\n\u001b[0m\u001b[0;32m   2649\u001b[0m         \u001b[0mindexer\u001b[0m \u001b[1;33m=\u001b[0m \u001b[0mself\u001b[0m\u001b[1;33m.\u001b[0m\u001b[0mget_indexer\u001b[0m\u001b[1;33m(\u001b[0m\u001b[1;33m[\u001b[0m\u001b[0mkey\u001b[0m\u001b[1;33m]\u001b[0m\u001b[1;33m,\u001b[0m \u001b[0mmethod\u001b[0m\u001b[1;33m=\u001b[0m\u001b[0mmethod\u001b[0m\u001b[1;33m,\u001b[0m \u001b[0mtolerance\u001b[0m\u001b[1;33m=\u001b[0m\u001b[0mtolerance\u001b[0m\u001b[1;33m)\u001b[0m\u001b[1;33m\u001b[0m\u001b[1;33m\u001b[0m\u001b[0m\n\u001b[0;32m   2650\u001b[0m         \u001b[1;32mif\u001b[0m \u001b[0mindexer\u001b[0m\u001b[1;33m.\u001b[0m\u001b[0mndim\u001b[0m \u001b[1;33m>\u001b[0m \u001b[1;36m1\u001b[0m \u001b[1;32mor\u001b[0m \u001b[0mindexer\u001b[0m\u001b[1;33m.\u001b[0m\u001b[0msize\u001b[0m \u001b[1;33m>\u001b[0m \u001b[1;36m1\u001b[0m\u001b[1;33m:\u001b[0m\u001b[1;33m\u001b[0m\u001b[1;33m\u001b[0m\u001b[0m\n",
      "\u001b[1;32mpandas\\_libs\\index.pyx\u001b[0m in \u001b[0;36mpandas._libs.index.IndexEngine.get_loc\u001b[1;34m()\u001b[0m\n",
      "\u001b[1;32mpandas\\_libs\\index.pyx\u001b[0m in \u001b[0;36mpandas._libs.index.IndexEngine.get_loc\u001b[1;34m()\u001b[0m\n",
      "\u001b[1;32mpandas\\_libs\\hashtable_class_helper.pxi\u001b[0m in \u001b[0;36mpandas._libs.hashtable.PyObjectHashTable.get_item\u001b[1;34m()\u001b[0m\n",
      "\u001b[1;32mpandas\\_libs\\hashtable_class_helper.pxi\u001b[0m in \u001b[0;36mpandas._libs.hashtable.PyObjectHashTable.get_item\u001b[1;34m()\u001b[0m\n",
      "\u001b[1;31mKeyError\u001b[0m: 'Semana'"
     ]
    }
   ],
   "source": [
    "belgium = pd.read_csv('../data/keywords/belgium.csv', index_col=0)\n",
    "belgium['Semana'] = pd.to_datetime(belgium['Semana'], format='%Y-%m-%d')\n",
    "belgium['year'] = pd.DatetimeIndex(belgium['Semana']).year\n",
    "belgium['month'] = pd.DatetimeIndex(belgium['Semana']).month\n",
    "belgium = belgium.groupby([\"year\", \"month\"], as_index=False).max()\n",
    "belgium['date'] = pd.to_datetime(belgium[['year', 'month']].assign(DAY=1))\n",
    "belgium.drop([\"year\", \"month\", \"Semana\"], axis=1, inplace=True)\n",
    "belgium.to_csv('../data/keywords/belgium.csv', index=False)"
   ]
  },
  {
   "cell_type": "code",
   "execution_count": 17,
   "metadata": {},
   "outputs": [],
   "source": [
    "france = pd.read_csv('../data/keywords/france.csv', index_col=0)\n",
    "france['Semana'] = pd.to_datetime(france['Semana'], format='%Y-%m-%d')\n",
    "france['year'] = pd.DatetimeIndex(france['Semana']).year\n",
    "france['month'] = pd.DatetimeIndex(france['Semana']).month\n",
    "france = france.groupby([\"year\", \"month\"], as_index=False).max()\n",
    "france['date'] = pd.to_datetime(france[['year', 'month']].assign(DAY=1))\n",
    "france.drop([\"year\", \"month\", \"Semana\"], axis=1, inplace=True)\n",
    "france.to_csv('../data/keywords/france.csv')"
   ]
  },
  {
   "cell_type": "code",
   "execution_count": 18,
   "metadata": {},
   "outputs": [],
   "source": [
    "germany = pd.read_csv('../data/keywords/germany.csv', index_col=0)\n",
    "germany['Semana'] = pd.to_datetime(germany['Semana'], format='%Y-%m-%d')\n",
    "germany['year'] = pd.DatetimeIndex(germany['Semana']).year\n",
    "germany['month'] = pd.DatetimeIndex(germany['Semana']).month\n",
    "germany = germany.groupby([\"year\", \"month\"], as_index=False).max()\n",
    "germany['date'] = pd.to_datetime(germany[['year', 'month']].assign(DAY=1))\n",
    "germany.drop([\"year\", \"month\", \"Semana\"], axis=1, inplace=True)\n",
    "germany.to_csv('../data/keywords/germany.csv')"
   ]
  },
  {
   "cell_type": "code",
   "execution_count": 19,
   "metadata": {},
   "outputs": [],
   "source": [
    "international = pd.read_csv('../data/keywords/International.csv', index_col=0)\n",
    "international['Semana'] = pd.to_datetime(international['Semana'], format='%Y-%m-%d')\n",
    "international['year'] = pd.DatetimeIndex(international['Semana']).year\n",
    "international['month'] = pd.DatetimeIndex(international['Semana']).month\n",
    "international = international.groupby([\"year\", \"month\"], as_index=False).max()\n",
    "international['date'] = pd.to_datetime(international[['year', 'month']].assign(DAY=1))\n",
    "international.drop([\"year\", \"month\", \"Semana\"], axis=1, inplace=True)\n",
    "international.to_csv('../data/keywords/international.csv')"
   ]
  },
  {
   "cell_type": "code",
   "execution_count": 20,
   "metadata": {},
   "outputs": [],
   "source": [
    "italy = pd.read_csv('../data/keywords/italy.csv', index_col=0)\n",
    "italy['Semana'] = pd.to_datetime(italy['Semana'], format='%Y-%m-%d')\n",
    "italy['year'] = pd.DatetimeIndex(italy['Semana']).year\n",
    "italy['month'] = pd.DatetimeIndex(italy['Semana']).month\n",
    "italy = italy.groupby([\"year\", \"month\"], as_index=False).max()\n",
    "italy['date'] = pd.to_datetime(italy[['year', 'month']].assign(DAY=1))\n",
    "italy.drop([\"year\", \"month\", \"Semana\"], axis=1, inplace=True)\n",
    "italy.to_csv('../data/keywords/italy.csv')"
   ]
  },
  {
   "cell_type": "code",
   "execution_count": 21,
   "metadata": {},
   "outputs": [],
   "source": [
    "netherlands = pd.read_csv('../data/keywords/netherlands.csv', index_col=0)\n",
    "netherlands['Semana'] = pd.to_datetime(netherlands['Semana'], format='%Y-%m-%d')\n",
    "netherlands['year'] = pd.DatetimeIndex(netherlands['Semana']).year\n",
    "netherlands['month'] = pd.DatetimeIndex(netherlands['Semana']).month\n",
    "netherlands = netherlands.groupby([\"year\", \"month\"], as_index=False).max()\n",
    "netherlands['date'] = pd.to_datetime(netherlands[['year', 'month']].assign(DAY=1))\n",
    "netherlands.drop([\"year\", \"month\", \"Semana\"], axis=1, inplace=True)\n",
    "netherlands.to_csv('../data/keywords/netherlands.csv')"
   ]
  },
  {
   "cell_type": "code",
   "execution_count": 22,
   "metadata": {},
   "outputs": [],
   "source": [
    "spain = pd.read_csv('../data/keywords/spain.csv', index_col=0)\n",
    "spain['Semana'] = pd.to_datetime(spain['Semana'], format='%Y-%m-%d')\n",
    "spain['year'] = pd.DatetimeIndex(spain['Semana']).year\n",
    "spain['month'] = pd.DatetimeIndex(spain['Semana']).month\n",
    "spain = spain.groupby([\"year\", \"month\"], as_index=False).max()\n",
    "spain['date'] = pd.to_datetime(spain[['year', 'month']].assign(DAY=1))\n",
    "spain.drop([\"year\", \"month\", \"Semana\"], axis=1, inplace=True)\n",
    "spain.to_csv('../data/keywords/spain.csv')"
   ]
  },
  {
   "cell_type": "code",
   "execution_count": 25,
   "metadata": {},
   "outputs": [
    {
     "ename": "KeyError",
     "evalue": "'Semana'",
     "output_type": "error",
     "traceback": [
      "\u001b[1;31m---------------------------------------------------------------------------\u001b[0m",
      "\u001b[1;31mKeyError\u001b[0m                                  Traceback (most recent call last)",
      "\u001b[1;32m~\\AppData\\Local\\Programs\\Python\\Python38-32\\lib\\site-packages\\pandas\\core\\indexes\\base.py\u001b[0m in \u001b[0;36mget_loc\u001b[1;34m(self, key, method, tolerance)\u001b[0m\n\u001b[0;32m   2645\u001b[0m             \u001b[1;32mtry\u001b[0m\u001b[1;33m:\u001b[0m\u001b[1;33m\u001b[0m\u001b[1;33m\u001b[0m\u001b[0m\n\u001b[1;32m-> 2646\u001b[1;33m                 \u001b[1;32mreturn\u001b[0m \u001b[0mself\u001b[0m\u001b[1;33m.\u001b[0m\u001b[0m_engine\u001b[0m\u001b[1;33m.\u001b[0m\u001b[0mget_loc\u001b[0m\u001b[1;33m(\u001b[0m\u001b[0mkey\u001b[0m\u001b[1;33m)\u001b[0m\u001b[1;33m\u001b[0m\u001b[1;33m\u001b[0m\u001b[0m\n\u001b[0m\u001b[0;32m   2647\u001b[0m             \u001b[1;32mexcept\u001b[0m \u001b[0mKeyError\u001b[0m\u001b[1;33m:\u001b[0m\u001b[1;33m\u001b[0m\u001b[1;33m\u001b[0m\u001b[0m\n",
      "\u001b[1;32mpandas\\_libs\\index.pyx\u001b[0m in \u001b[0;36mpandas._libs.index.IndexEngine.get_loc\u001b[1;34m()\u001b[0m\n",
      "\u001b[1;32mpandas\\_libs\\index.pyx\u001b[0m in \u001b[0;36mpandas._libs.index.IndexEngine.get_loc\u001b[1;34m()\u001b[0m\n",
      "\u001b[1;32mpandas\\_libs\\hashtable_class_helper.pxi\u001b[0m in \u001b[0;36mpandas._libs.hashtable.PyObjectHashTable.get_item\u001b[1;34m()\u001b[0m\n",
      "\u001b[1;32mpandas\\_libs\\hashtable_class_helper.pxi\u001b[0m in \u001b[0;36mpandas._libs.hashtable.PyObjectHashTable.get_item\u001b[1;34m()\u001b[0m\n",
      "\u001b[1;31mKeyError\u001b[0m: 'Semana'",
      "\nDuring handling of the above exception, another exception occurred:\n",
      "\u001b[1;31mKeyError\u001b[0m                                  Traceback (most recent call last)",
      "\u001b[1;32m<ipython-input-25-2b5dbb287d92>\u001b[0m in \u001b[0;36m<module>\u001b[1;34m\u001b[0m\n\u001b[0;32m      1\u001b[0m \u001b[0munitedkingdom\u001b[0m \u001b[1;33m=\u001b[0m \u001b[0mpd\u001b[0m\u001b[1;33m.\u001b[0m\u001b[0mread_csv\u001b[0m\u001b[1;33m(\u001b[0m\u001b[1;34m'../data/keywords/unitedkingdom.csv'\u001b[0m\u001b[1;33m,\u001b[0m \u001b[0mindex_col\u001b[0m\u001b[1;33m=\u001b[0m\u001b[1;36m0\u001b[0m\u001b[1;33m)\u001b[0m\u001b[1;33m\u001b[0m\u001b[1;33m\u001b[0m\u001b[0m\n\u001b[1;32m----> 2\u001b[1;33m \u001b[0munitedkingdom\u001b[0m\u001b[1;33m[\u001b[0m\u001b[1;34m'Semana'\u001b[0m\u001b[1;33m]\u001b[0m \u001b[1;33m=\u001b[0m \u001b[0mpd\u001b[0m\u001b[1;33m.\u001b[0m\u001b[0mto_datetime\u001b[0m\u001b[1;33m(\u001b[0m\u001b[0munitedkingdom\u001b[0m\u001b[1;33m[\u001b[0m\u001b[1;34m'Semana'\u001b[0m\u001b[1;33m]\u001b[0m\u001b[1;33m,\u001b[0m \u001b[0mformat\u001b[0m\u001b[1;33m=\u001b[0m\u001b[1;34m'%Y-%m-%d'\u001b[0m\u001b[1;33m)\u001b[0m\u001b[1;33m\u001b[0m\u001b[1;33m\u001b[0m\u001b[0m\n\u001b[0m\u001b[0;32m      3\u001b[0m \u001b[0munitedkingdom\u001b[0m\u001b[1;33m[\u001b[0m\u001b[1;34m'year'\u001b[0m\u001b[1;33m]\u001b[0m \u001b[1;33m=\u001b[0m \u001b[0mpd\u001b[0m\u001b[1;33m.\u001b[0m\u001b[0mDatetimeIndex\u001b[0m\u001b[1;33m(\u001b[0m\u001b[0munitedkingdom\u001b[0m\u001b[1;33m[\u001b[0m\u001b[1;34m'Semana'\u001b[0m\u001b[1;33m]\u001b[0m\u001b[1;33m)\u001b[0m\u001b[1;33m.\u001b[0m\u001b[0myear\u001b[0m\u001b[1;33m\u001b[0m\u001b[1;33m\u001b[0m\u001b[0m\n\u001b[0;32m      4\u001b[0m \u001b[0munitedkingdom\u001b[0m\u001b[1;33m[\u001b[0m\u001b[1;34m'month'\u001b[0m\u001b[1;33m]\u001b[0m \u001b[1;33m=\u001b[0m \u001b[0mpd\u001b[0m\u001b[1;33m.\u001b[0m\u001b[0mDatetimeIndex\u001b[0m\u001b[1;33m(\u001b[0m\u001b[0munitedkingdom\u001b[0m\u001b[1;33m[\u001b[0m\u001b[1;34m'Semana'\u001b[0m\u001b[1;33m]\u001b[0m\u001b[1;33m)\u001b[0m\u001b[1;33m.\u001b[0m\u001b[0mmonth\u001b[0m\u001b[1;33m\u001b[0m\u001b[1;33m\u001b[0m\u001b[0m\n\u001b[0;32m      5\u001b[0m \u001b[0munitedkingdom\u001b[0m \u001b[1;33m=\u001b[0m \u001b[0munitedkingdom\u001b[0m\u001b[1;33m.\u001b[0m\u001b[0mgroupby\u001b[0m\u001b[1;33m(\u001b[0m\u001b[1;33m[\u001b[0m\u001b[1;34m\"year\"\u001b[0m\u001b[1;33m,\u001b[0m \u001b[1;34m\"month\"\u001b[0m\u001b[1;33m]\u001b[0m\u001b[1;33m,\u001b[0m \u001b[0mas_index\u001b[0m\u001b[1;33m=\u001b[0m\u001b[1;32mFalse\u001b[0m\u001b[1;33m)\u001b[0m\u001b[1;33m.\u001b[0m\u001b[0mmax\u001b[0m\u001b[1;33m(\u001b[0m\u001b[1;33m)\u001b[0m\u001b[1;33m\u001b[0m\u001b[1;33m\u001b[0m\u001b[0m\n",
      "\u001b[1;32m~\\AppData\\Local\\Programs\\Python\\Python38-32\\lib\\site-packages\\pandas\\core\\frame.py\u001b[0m in \u001b[0;36m__getitem__\u001b[1;34m(self, key)\u001b[0m\n\u001b[0;32m   2798\u001b[0m             \u001b[1;32mif\u001b[0m \u001b[0mself\u001b[0m\u001b[1;33m.\u001b[0m\u001b[0mcolumns\u001b[0m\u001b[1;33m.\u001b[0m\u001b[0mnlevels\u001b[0m \u001b[1;33m>\u001b[0m \u001b[1;36m1\u001b[0m\u001b[1;33m:\u001b[0m\u001b[1;33m\u001b[0m\u001b[1;33m\u001b[0m\u001b[0m\n\u001b[0;32m   2799\u001b[0m                 \u001b[1;32mreturn\u001b[0m \u001b[0mself\u001b[0m\u001b[1;33m.\u001b[0m\u001b[0m_getitem_multilevel\u001b[0m\u001b[1;33m(\u001b[0m\u001b[0mkey\u001b[0m\u001b[1;33m)\u001b[0m\u001b[1;33m\u001b[0m\u001b[1;33m\u001b[0m\u001b[0m\n\u001b[1;32m-> 2800\u001b[1;33m             \u001b[0mindexer\u001b[0m \u001b[1;33m=\u001b[0m \u001b[0mself\u001b[0m\u001b[1;33m.\u001b[0m\u001b[0mcolumns\u001b[0m\u001b[1;33m.\u001b[0m\u001b[0mget_loc\u001b[0m\u001b[1;33m(\u001b[0m\u001b[0mkey\u001b[0m\u001b[1;33m)\u001b[0m\u001b[1;33m\u001b[0m\u001b[1;33m\u001b[0m\u001b[0m\n\u001b[0m\u001b[0;32m   2801\u001b[0m             \u001b[1;32mif\u001b[0m \u001b[0mis_integer\u001b[0m\u001b[1;33m(\u001b[0m\u001b[0mindexer\u001b[0m\u001b[1;33m)\u001b[0m\u001b[1;33m:\u001b[0m\u001b[1;33m\u001b[0m\u001b[1;33m\u001b[0m\u001b[0m\n\u001b[0;32m   2802\u001b[0m                 \u001b[0mindexer\u001b[0m \u001b[1;33m=\u001b[0m \u001b[1;33m[\u001b[0m\u001b[0mindexer\u001b[0m\u001b[1;33m]\u001b[0m\u001b[1;33m\u001b[0m\u001b[1;33m\u001b[0m\u001b[0m\n",
      "\u001b[1;32m~\\AppData\\Local\\Programs\\Python\\Python38-32\\lib\\site-packages\\pandas\\core\\indexes\\base.py\u001b[0m in \u001b[0;36mget_loc\u001b[1;34m(self, key, method, tolerance)\u001b[0m\n\u001b[0;32m   2646\u001b[0m                 \u001b[1;32mreturn\u001b[0m \u001b[0mself\u001b[0m\u001b[1;33m.\u001b[0m\u001b[0m_engine\u001b[0m\u001b[1;33m.\u001b[0m\u001b[0mget_loc\u001b[0m\u001b[1;33m(\u001b[0m\u001b[0mkey\u001b[0m\u001b[1;33m)\u001b[0m\u001b[1;33m\u001b[0m\u001b[1;33m\u001b[0m\u001b[0m\n\u001b[0;32m   2647\u001b[0m             \u001b[1;32mexcept\u001b[0m \u001b[0mKeyError\u001b[0m\u001b[1;33m:\u001b[0m\u001b[1;33m\u001b[0m\u001b[1;33m\u001b[0m\u001b[0m\n\u001b[1;32m-> 2648\u001b[1;33m                 \u001b[1;32mreturn\u001b[0m \u001b[0mself\u001b[0m\u001b[1;33m.\u001b[0m\u001b[0m_engine\u001b[0m\u001b[1;33m.\u001b[0m\u001b[0mget_loc\u001b[0m\u001b[1;33m(\u001b[0m\u001b[0mself\u001b[0m\u001b[1;33m.\u001b[0m\u001b[0m_maybe_cast_indexer\u001b[0m\u001b[1;33m(\u001b[0m\u001b[0mkey\u001b[0m\u001b[1;33m)\u001b[0m\u001b[1;33m)\u001b[0m\u001b[1;33m\u001b[0m\u001b[1;33m\u001b[0m\u001b[0m\n\u001b[0m\u001b[0;32m   2649\u001b[0m         \u001b[0mindexer\u001b[0m \u001b[1;33m=\u001b[0m \u001b[0mself\u001b[0m\u001b[1;33m.\u001b[0m\u001b[0mget_indexer\u001b[0m\u001b[1;33m(\u001b[0m\u001b[1;33m[\u001b[0m\u001b[0mkey\u001b[0m\u001b[1;33m]\u001b[0m\u001b[1;33m,\u001b[0m \u001b[0mmethod\u001b[0m\u001b[1;33m=\u001b[0m\u001b[0mmethod\u001b[0m\u001b[1;33m,\u001b[0m \u001b[0mtolerance\u001b[0m\u001b[1;33m=\u001b[0m\u001b[0mtolerance\u001b[0m\u001b[1;33m)\u001b[0m\u001b[1;33m\u001b[0m\u001b[1;33m\u001b[0m\u001b[0m\n\u001b[0;32m   2650\u001b[0m         \u001b[1;32mif\u001b[0m \u001b[0mindexer\u001b[0m\u001b[1;33m.\u001b[0m\u001b[0mndim\u001b[0m \u001b[1;33m>\u001b[0m \u001b[1;36m1\u001b[0m \u001b[1;32mor\u001b[0m \u001b[0mindexer\u001b[0m\u001b[1;33m.\u001b[0m\u001b[0msize\u001b[0m \u001b[1;33m>\u001b[0m \u001b[1;36m1\u001b[0m\u001b[1;33m:\u001b[0m\u001b[1;33m\u001b[0m\u001b[1;33m\u001b[0m\u001b[0m\n",
      "\u001b[1;32mpandas\\_libs\\index.pyx\u001b[0m in \u001b[0;36mpandas._libs.index.IndexEngine.get_loc\u001b[1;34m()\u001b[0m\n",
      "\u001b[1;32mpandas\\_libs\\index.pyx\u001b[0m in \u001b[0;36mpandas._libs.index.IndexEngine.get_loc\u001b[1;34m()\u001b[0m\n",
      "\u001b[1;32mpandas\\_libs\\hashtable_class_helper.pxi\u001b[0m in \u001b[0;36mpandas._libs.hashtable.PyObjectHashTable.get_item\u001b[1;34m()\u001b[0m\n",
      "\u001b[1;32mpandas\\_libs\\hashtable_class_helper.pxi\u001b[0m in \u001b[0;36mpandas._libs.hashtable.PyObjectHashTable.get_item\u001b[1;34m()\u001b[0m\n",
      "\u001b[1;31mKeyError\u001b[0m: 'Semana'"
     ]
    }
   ],
   "source": [
    "unitedkingdom = pd.read_csv('../data/keywords/unitedkingdom.csv', index_col=0)\n",
    "unitedkingdom['Semana'] = pd.to_datetime(unitedkingdom['Semana'], format='%Y-%m-%d')\n",
    "unitedkingdom['year'] = pd.DatetimeIndex(unitedkingdom['Semana']).year\n",
    "unitedkingdom['month'] = pd.DatetimeIndex(unitedkingdom['Semana']).month\n",
    "unitedkingdom = unitedkingdom.groupby([\"year\", \"month\"], as_index=False).max()\n",
    "unitedkingdom['date'] = pd.to_datetime(unitedkingdom[['year', 'month']].assign(DAY=1))\n",
    "unitedkingdom.drop([\"year\", \"month\", \"Semana\"], axis=1, inplace=True)\n",
    "unitedkingdom.to_csv('../data/keywords/unitedkingdom.csv', index=True)"
   ]
  },
  {
   "cell_type": "code",
   "execution_count": null,
   "metadata": {},
   "outputs": [],
   "source": []
  }
 ],
 "metadata": {
  "kernelspec": {
   "display_name": "Python 3",
   "language": "python",
   "name": "python3"
  },
  "language_info": {
   "codemirror_mode": {
    "name": "ipython",
    "version": 3
   },
   "file_extension": ".py",
   "mimetype": "text/x-python",
   "name": "python",
   "nbconvert_exporter": "python",
   "pygments_lexer": "ipython3",
   "version": "3.8.3"
  }
 },
 "nbformat": 4,
 "nbformat_minor": 4
}
