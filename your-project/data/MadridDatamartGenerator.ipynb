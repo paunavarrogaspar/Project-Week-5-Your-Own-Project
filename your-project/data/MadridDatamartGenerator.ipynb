{
 "cells": [
  {
   "cell_type": "code",
   "execution_count": 82,
   "metadata": {},
   "outputs": [],
   "source": [
    "import pandas as pd\n",
    "import re"
   ]
  },
  {
   "cell_type": "code",
   "execution_count": 83,
   "metadata": {},
   "outputs": [],
   "source": [
    "aggregated_trends_tourism = pd.read_csv('keywords/Madrid/international.csv')\n",
    "aggregated_trends_tourism[\"country\"] = 'international'\n",
    "aggregated_trends_tourism.columns = [\"Museo Nacional del Prado\",\"plaza mayor\",\"el retiro\",'puerta del sol','gran via',\n",
    "                                    'Thyssen','templo de debod','la Almudena','cibeles','Palacio de Cristal',\n",
    "                                    'puerta de alcala','el rastro','las ventas','chueca','san gines',\n",
    "                                    'callao','calle serrano','date','country']"
   ]
  },
  {
   "cell_type": "code",
   "execution_count": 84,
   "metadata": {},
   "outputs": [],
   "source": [
    "portugal = pd.read_csv('keywords/Madrid/portugal.csv')\n",
    "portugal[\"country\"] = 'portugal'\n",
    "portugal.columns = [\"index\",\"Museo Nacional del Prado\",\"plaza mayor\",\"el retiro\",'puerta del sol','gran via',\n",
    "                                    'Thyssen','templo de debod','la Almudena','cibeles','Palacio de Cristal',\n",
    "                                    'puerta de alcala','el rastro','las ventas','chueca',\n",
    "                                    'callao','date','country']"
   ]
  },
  {
   "cell_type": "code",
   "execution_count": 85,
   "metadata": {},
   "outputs": [],
   "source": [
    "ireland = pd.read_csv('keywords/Madrid/ireland.csv')\n",
    "ireland[\"country\"] = 'ireland'\n",
    "ireland.columns = [\"index\",\"Museo Nacional del Prado\",\"plaza mayor\",\"el retiro\",'puerta del sol','gran via',\n",
    "                                    'Thyssen','templo de debod','la Almudena','cibeles','el rastro','las ventas','chueca',\n",
    "                                    'callao','date','country']"
   ]
  },
  {
   "cell_type": "code",
   "execution_count": 86,
   "metadata": {},
   "outputs": [],
   "source": [
    "greece = pd.read_csv('keywords/Madrid/greece.csv')\n",
    "greece[\"country\"] = 'greece'\n",
    "greece.columns = [\"index\", \"Museo Nacional del Prado\",\"plaza mayor\",\"el retiro\",'puerta del sol','gran via',\n",
    "                                    'Thyssen','cibeles','Palacio de Cristal','chueca',\n",
    "                                    'callao','date','country']"
   ]
  },
  {
   "cell_type": "code",
   "execution_count": 87,
   "metadata": {},
   "outputs": [],
   "source": [
    "austria = pd.read_csv('keywords/Madrid/austria.csv')\n",
    "austria[\"country\"] = \"austria\"\n",
    "austria.columns=[\"index\", \"Museo Nacional del Prado\",\"plaza mayor\",'puerta del sol','gran via',\n",
    "                                    'Thyssen','la Almudena','cibeles',\n",
    "                                    'puerta de alcala','chueca',\n",
    "                                    'callao','date','country']"
   ]
  },
  {
   "cell_type": "code",
   "execution_count": 88,
   "metadata": {},
   "outputs": [],
   "source": [
    "belgium = pd.read_csv('keywords/Madrid/belgium.csv')\n",
    "belgium[\"country\"] = \"belgium\"\n",
    "belgium.columns\n",
    "belgium.columns = [\"Museo Nacional del Prado\",\"plaza mayor\",\"el retiro\",'puerta del sol','gran via',\n",
    "                                    'Thyssen','templo de debod','la Almudena','cibeles','Palacio de Cristal',\n",
    "                                    'el rastro','las ventas','chueca',\n",
    "                                    'callao','calle serrano','date','country']"
   ]
  },
  {
   "cell_type": "code",
   "execution_count": 89,
   "metadata": {},
   "outputs": [],
   "source": [
    "denmark = pd.read_csv('keywords/Madrid/denmark.csv')\n",
    "denmark[\"country\"] = \"denmark\"\n",
    "denmark.columns = [\"index\", \"Museo Nacional del Prado\",\"plaza mayor\",\"el retiro\",'puerta del sol','gran via',\n",
    "                   'Thyssen','cibeles','el rastro','las ventas','chueca','callao','date','country']"
   ]
  },
  {
   "cell_type": "code",
   "execution_count": 90,
   "metadata": {},
   "outputs": [],
   "source": [
    "finland = pd.read_csv('keywords/Madrid/finland.csv')\n",
    "finland[\"country\"] = 'finland'\n",
    "finland.columns = [\"index\", \"Museo Nacional del Prado\",\"plaza mayor\",\"el retiro\",'puerta del sol','gran via',\n",
    "                                    'Thyssen','templo de debod','cibeles',\n",
    "                                    'puerta de alcala','callao','date','country']"
   ]
  },
  {
   "cell_type": "code",
   "execution_count": 91,
   "metadata": {},
   "outputs": [],
   "source": [
    "france = pd.read_csv('keywords/Madrid/france.csv')\n",
    "france[\"country\"] = \"France\"\n",
    "france.columns = [\"Museo Nacional del Prado\",\"plaza mayor\",\"el retiro\",'puerta del sol','gran via',\n",
    "                                    'Thyssen','templo de debod','la Almudena','cibeles','Palacio de Cristal',\n",
    "                                    'puerta de alcala','el rastro','las ventas','chueca','san gines',\n",
    "                                    'callao','calle serrano','date','country']"
   ]
  },
  {
   "cell_type": "code",
   "execution_count": 92,
   "metadata": {},
   "outputs": [],
   "source": [
    "spain = pd.read_csv('keywords/Madrid/spain.csv')\n",
    "spain[\"country\"] = 'spain'\n",
    "spain.columns = [\"Museo Nacional del Prado\",\"plaza mayor\",\"el retiro\",'puerta del sol','gran via',\n",
    "                                    'Thyssen','templo de debod','la Almudena','cibeles','Palacio de Cristal',\n",
    "                                    'puerta de alcala','el rastro','las ventas','chueca','san gines',\n",
    "                                    'callao','calle serrano','date','country']"
   ]
  },
  {
   "cell_type": "code",
   "execution_count": 93,
   "metadata": {},
   "outputs": [],
   "source": [
    "italy = pd.read_csv('keywords/Madrid/italy.csv')\n",
    "italy[\"country\"] = 'italy'\n",
    "italy.columns = [\"Museo Nacional del Prado\",\"plaza mayor\",\"el retiro\",'puerta del sol','gran via',\n",
    "                                    'Thyssen','templo de debod','la Almudena','cibeles','Palacio de Cristal',\n",
    "                                    'puerta de alcala','el rastro','las ventas','chueca','san gines',\n",
    "                                    'callao','date','country']"
   ]
  },
  {
   "cell_type": "code",
   "execution_count": 94,
   "metadata": {},
   "outputs": [],
   "source": [
    "netherlands = pd.read_csv('keywords/Madrid/netherlands.csv')\n",
    "netherlands[\"country\"] = 'netherlands'\n",
    "netherlands.columns = [\"Museo Nacional del Prado\",\"plaza mayor\",\"el retiro\",'puerta del sol','gran via',\n",
    "                                    'Thyssen','templo de debod','la Almudena','cibeles','Palacio de Cristal',\n",
    "                                    'puerta de alcala','el rastro','las ventas','chueca',\n",
    "                                    'callao','date','country']"
   ]
  },
  {
   "cell_type": "code",
   "execution_count": 95,
   "metadata": {},
   "outputs": [],
   "source": [
    "unitedkingdom = pd.read_csv('keywords/Madrid/unitedkingdom.csv')\n",
    "unitedkingdom[\"country\"] = 'unitedkingdom'\n",
    "unitedkingdom.columns = [\"index\",\"Museo Nacional del Prado\",\"plaza mayor\",\"el retiro\",'puerta del sol','gran via',\n",
    "                                    'Thyssen','templo de debod','la Almudena','cibeles','Palacio de Cristal',\n",
    "                                    'puerta de alcala','el rastro','las ventas','chueca','san gines',\n",
    "                                    'callao','date','country']"
   ]
  },
  {
   "cell_type": "code",
   "execution_count": 96,
   "metadata": {},
   "outputs": [],
   "source": [
    "germany = pd.read_csv('keywords/Madrid/germany.csv')\n",
    "germany[\"country\"] = 'germany'\n",
    "germany.columns = [\"Museo Nacional del Prado\",\"plaza mayor\",\"el retiro\",'puerta del sol','gran via',\n",
    "                                    'Thyssen','templo de debod','la Almudena','cibeles','Palacio de Cristal',\n",
    "                                    'puerta de alcala','el rastro','las ventas','chueca','san gines',\n",
    "                                    'callao','date','country']"
   ]
  },
  {
   "cell_type": "code",
   "execution_count": 97,
   "metadata": {},
   "outputs": [],
   "source": [
    "aggregated_trends_tourism = pd.concat([aggregated_trends_tourism, spain, germany, austria, belgium, denmark, finland, france, greece, ireland, italy, netherlands, portugal, unitedkingdom], sort= False)"
   ]
  },
  {
   "cell_type": "code",
   "execution_count": 98,
   "metadata": {},
   "outputs": [],
   "source": [
    "aggregated_trends_tourism.reset_index(inplace=True)"
   ]
  },
  {
   "cell_type": "code",
   "execution_count": 99,
   "metadata": {},
   "outputs": [],
   "source": [
    "tourism_stats = pd.read_excel('TourismArrivals/Madrid/MadridTouristStats.xlsx', sep=\";\")"
   ]
  },
  {
   "cell_type": "code",
   "execution_count": 100,
   "metadata": {},
   "outputs": [
    {
     "name": "stdout",
     "output_type": "stream",
     "text": [
      "<class 'pandas.core.frame.DataFrame'>\n",
      "RangeIndex: 64 entries, 0 to 63\n",
      "Data columns (total 15 columns):\n",
      " #   Column         Non-Null Count  Dtype         \n",
      "---  ------         --------------  -----         \n",
      " 0   date           64 non-null     datetime64[ns]\n",
      " 1   international  64 non-null     float64       \n",
      " 2   spain          64 non-null     float64       \n",
      " 3   germany        64 non-null     float64       \n",
      " 4   austria        64 non-null     float64       \n",
      " 5   belgium        64 non-null     float64       \n",
      " 6   denmark        64 non-null     float64       \n",
      " 7   finland        64 non-null     float64       \n",
      " 8   france         64 non-null     float64       \n",
      " 9   grece          64 non-null     float64       \n",
      " 10  ireland        64 non-null     float64       \n",
      " 11  italy          64 non-null     float64       \n",
      " 12  netherlands    64 non-null     float64       \n",
      " 13  portugal       64 non-null     float64       \n",
      " 14  unitedkingdom  64 non-null     float64       \n",
      "dtypes: datetime64[ns](1), float64(14)\n",
      "memory usage: 7.6 KB\n"
     ]
    }
   ],
   "source": [
    "tourism_stats.info()"
   ]
  },
  {
   "cell_type": "code",
   "execution_count": 101,
   "metadata": {},
   "outputs": [
    {
     "name": "stdout",
     "output_type": "stream",
     "text": [
      "<class 'pandas.core.frame.DataFrame'>\n",
      "RangeIndex: 840 entries, 0 to 839\n",
      "Data columns (total 21 columns):\n",
      " #   Column                    Non-Null Count  Dtype  \n",
      "---  ------                    --------------  -----  \n",
      " 0   level_0                   840 non-null    int64  \n",
      " 1   Museo Nacional del Prado  840 non-null    object \n",
      " 2   plaza mayor               840 non-null    int64  \n",
      " 3   el retiro                 780 non-null    float64\n",
      " 4   puerta del sol            840 non-null    int64  \n",
      " 5   gran via                  840 non-null    int64  \n",
      " 6   Thyssen                   840 non-null    int64  \n",
      " 7   templo de debod           660 non-null    float64\n",
      " 8   la Almudena               660 non-null    float64\n",
      " 9   cibeles                   840 non-null    int64  \n",
      " 10  Palacio de Cristal        600 non-null    float64\n",
      " 11  puerta de alcala          600 non-null    float64\n",
      " 12  el rastro                 660 non-null    float64\n",
      " 13  las ventas                660 non-null    float64\n",
      " 14  chueca                    780 non-null    float64\n",
      " 15  san gines                 360 non-null    float64\n",
      " 16  callao                    840 non-null    int64  \n",
      " 17  calle serrano             240 non-null    float64\n",
      " 18  date                      840 non-null    object \n",
      " 19  country                   840 non-null    object \n",
      " 20  index                     420 non-null    float64\n",
      "dtypes: float64(11), int64(7), object(3)\n",
      "memory usage: 128.0+ KB\n"
     ]
    }
   ],
   "source": [
    "aggregated_trends_tourism.info()"
   ]
  },
  {
   "cell_type": "code",
   "execution_count": 102,
   "metadata": {},
   "outputs": [],
   "source": [
    "aggregated_trends_tourism.drop([\"level_0\", \"index\"], axis=1, inplace=True)"
   ]
  },
  {
   "cell_type": "code",
   "execution_count": 103,
   "metadata": {},
   "outputs": [],
   "source": [
    "aggregated_trends_tourism[\"date\"] = pd.to_datetime(aggregated_trends_tourism[\"date\"], format='%Y-%m-%d')"
   ]
  },
  {
   "cell_type": "code",
   "execution_count": 104,
   "metadata": {},
   "outputs": [
    {
     "name": "stdout",
     "output_type": "stream",
     "text": [
      "2015-01-01 00:00:00\n",
      "2020-04-01 00:00:00\n",
      "2015-08-01 00:00:00\n",
      "2020-07-01 00:00:00\n"
     ]
    }
   ],
   "source": [
    "# check the timeframe of the tourism_stats dataframe\n",
    "print(tourism_stats.date.min())\n",
    "print(tourism_stats.date.max())\n",
    "# check the timeframe of the trends database\n",
    "print(aggregated_trends_tourism.date.min())\n",
    "print(aggregated_trends_tourism.date.max())"
   ]
  },
  {
   "cell_type": "code",
   "execution_count": 105,
   "metadata": {
    "scrolled": true
   },
   "outputs": [],
   "source": [
    "start_date = tourism_stats.date.min()\n",
    "finish_date = tourism_stats.date.max()\n",
    "\n",
    "tourism_trends = aggregated_trends_tourism.loc[(aggregated_trends_tourism.date>=start_date) & (aggregated_trends_tourism.date<=finish_date)]\n",
    "tourism_trends.reset_index(inplace=True)"
   ]
  },
  {
   "cell_type": "code",
   "execution_count": 106,
   "metadata": {},
   "outputs": [],
   "source": [
    "tourism_stats['date'] = pd.to_datetime(tourism_stats['date'], format='%d/%m/%Y')"
   ]
  },
  {
   "cell_type": "code",
   "execution_count": 107,
   "metadata": {
    "scrolled": true
   },
   "outputs": [
    {
     "data": {
      "text/html": [
       "<div>\n",
       "<style scoped>\n",
       "    .dataframe tbody tr th:only-of-type {\n",
       "        vertical-align: middle;\n",
       "    }\n",
       "\n",
       "    .dataframe tbody tr th {\n",
       "        vertical-align: top;\n",
       "    }\n",
       "\n",
       "    .dataframe thead th {\n",
       "        text-align: right;\n",
       "    }\n",
       "</style>\n",
       "<table border=\"1\" class=\"dataframe\">\n",
       "  <thead>\n",
       "    <tr style=\"text-align: right;\">\n",
       "      <th></th>\n",
       "      <th>date</th>\n",
       "      <th>country</th>\n",
       "      <th>tourists</th>\n",
       "    </tr>\n",
       "  </thead>\n",
       "  <tbody>\n",
       "    <tr>\n",
       "      <th>0</th>\n",
       "      <td>2015-01-01</td>\n",
       "      <td>international</td>\n",
       "      <td>610.243</td>\n",
       "    </tr>\n",
       "    <tr>\n",
       "      <th>1</th>\n",
       "      <td>2015-02-01</td>\n",
       "      <td>international</td>\n",
       "      <td>622.160</td>\n",
       "    </tr>\n",
       "    <tr>\n",
       "      <th>2</th>\n",
       "      <td>2015-03-01</td>\n",
       "      <td>international</td>\n",
       "      <td>718.001</td>\n",
       "    </tr>\n",
       "    <tr>\n",
       "      <th>3</th>\n",
       "      <td>2015-04-01</td>\n",
       "      <td>international</td>\n",
       "      <td>777.728</td>\n",
       "    </tr>\n",
       "    <tr>\n",
       "      <th>4</th>\n",
       "      <td>2015-05-01</td>\n",
       "      <td>international</td>\n",
       "      <td>842.780</td>\n",
       "    </tr>\n",
       "    <tr>\n",
       "      <th>...</th>\n",
       "      <td>...</td>\n",
       "      <td>...</td>\n",
       "      <td>...</td>\n",
       "    </tr>\n",
       "    <tr>\n",
       "      <th>891</th>\n",
       "      <td>2019-12-01</td>\n",
       "      <td>unitedkingdom</td>\n",
       "      <td>17.649</td>\n",
       "    </tr>\n",
       "    <tr>\n",
       "      <th>892</th>\n",
       "      <td>2020-01-01</td>\n",
       "      <td>unitedkingdom</td>\n",
       "      <td>19.349</td>\n",
       "    </tr>\n",
       "    <tr>\n",
       "      <th>893</th>\n",
       "      <td>2020-02-01</td>\n",
       "      <td>unitedkingdom</td>\n",
       "      <td>26.435</td>\n",
       "    </tr>\n",
       "    <tr>\n",
       "      <th>894</th>\n",
       "      <td>2020-03-01</td>\n",
       "      <td>unitedkingdom</td>\n",
       "      <td>0.000</td>\n",
       "    </tr>\n",
       "    <tr>\n",
       "      <th>895</th>\n",
       "      <td>2020-04-01</td>\n",
       "      <td>unitedkingdom</td>\n",
       "      <td>0.000</td>\n",
       "    </tr>\n",
       "  </tbody>\n",
       "</table>\n",
       "<p>896 rows × 3 columns</p>\n",
       "</div>"
      ],
      "text/plain": [
       "          date        country  tourists\n",
       "0   2015-01-01  international   610.243\n",
       "1   2015-02-01  international   622.160\n",
       "2   2015-03-01  international   718.001\n",
       "3   2015-04-01  international   777.728\n",
       "4   2015-05-01  international   842.780\n",
       "..         ...            ...       ...\n",
       "891 2019-12-01  unitedkingdom    17.649\n",
       "892 2020-01-01  unitedkingdom    19.349\n",
       "893 2020-02-01  unitedkingdom    26.435\n",
       "894 2020-03-01  unitedkingdom     0.000\n",
       "895 2020-04-01  unitedkingdom     0.000\n",
       "\n",
       "[896 rows x 3 columns]"
      ]
     },
     "execution_count": 107,
     "metadata": {},
     "output_type": "execute_result"
    }
   ],
   "source": [
    "melted_tourism_stats = tourism_stats.melt(id_vars=[\"date\"])\n",
    "melted_tourism_stats.columns = [\"date\", \"country\", \"tourists\"]\n",
    "melted_tourism_stats"
   ]
  },
  {
   "cell_type": "code",
   "execution_count": 108,
   "metadata": {},
   "outputs": [],
   "source": [
    "aggregated_trends_tourism.date = pd.to_datetime(aggregated_trends_tourism['date'], format='%Y-%m-%d')"
   ]
  },
  {
   "cell_type": "code",
   "execution_count": 109,
   "metadata": {
    "scrolled": true
   },
   "outputs": [],
   "source": [
    "final_df = aggregated_trends_tourism.merge(melted_tourism_stats, on=[\"date\", \"country\"])"
   ]
  },
  {
   "cell_type": "code",
   "execution_count": 112,
   "metadata": {},
   "outputs": [],
   "source": [
    "final_df.to_csv('MadridDatamart.csv', index=False)"
   ]
  },
  {
   "cell_type": "code",
   "execution_count": null,
   "metadata": {},
   "outputs": [],
   "source": []
  }
 ],
 "metadata": {
  "kernelspec": {
   "display_name": "Python 3",
   "language": "python",
   "name": "python3"
  },
  "language_info": {
   "codemirror_mode": {
    "name": "ipython",
    "version": 3
   },
   "file_extension": ".py",
   "mimetype": "text/x-python",
   "name": "python",
   "nbconvert_exporter": "python",
   "pygments_lexer": "ipython3",
   "version": "3.8.3"
  }
 },
 "nbformat": 4,
 "nbformat_minor": 4
}
